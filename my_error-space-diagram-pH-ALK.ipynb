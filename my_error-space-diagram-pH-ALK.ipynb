{
 "cells": [
  {
   "cell_type": "markdown",
   "metadata": {},
   "source": [
    "# Error propagation contour plots"
   ]
  },
  {
   "cell_type": "markdown",
   "metadata": {},
   "source": [
    "#### Load needed packages"
   ]
  },
  {
   "cell_type": "code",
   "execution_count": 1,
   "metadata": {
    "collapsed": true
   },
   "outputs": [],
   "source": [
    "#remove tropics\n",
    "#calculate pH-ALK pair only for output variable CO3 only"
   ]
  },
  {
   "cell_type": "code",
   "execution_count": 2,
   "metadata": {
    "collapsed": false
   },
   "outputs": [],
   "source": [
    "import rpy2\n",
    "\n",
    "# necessary to workaround the error: /u01/anaconda2/lib/libreadline.so.6: undefined symbol: PC\n",
    "# https://www.rittmanmead.com/blog/2016/07/using-r-jupyter-notebooks-big-data-discovery/\n",
    "import readline\n",
    "\n",
    "%load_ext rpy2.ipython"
   ]
  },
  {
   "cell_type": "code",
   "execution_count": 3,
   "metadata": {
    "collapsed": false,
    "scrolled": false
   },
   "outputs": [
    {
     "name": "stderr",
     "output_type": "stream",
     "text": [
      "/homel/cnangini/anaconda/lib/python2.7/site-packages/rpy2/rinterface/__init__.py:186: RRuntimeWarning: Le chargement a nécessité le package : oce\n",
      "\n",
      "  warnings.warn(x, RRuntimeWarning)\n",
      "/homel/cnangini/anaconda/lib/python2.7/site-packages/rpy2/rinterface/__init__.py:186: RRuntimeWarning: Le chargement a nécessité le package : gsw\n",
      "\n",
      "  warnings.warn(x, RRuntimeWarning)\n"
     ]
    },
    {
     "data": {
      "text/plain": [
       "[1] ‘3.1.1’\n"
      ]
     },
     "metadata": {},
     "output_type": "display_data"
    }
   ],
   "source": [
    "%%R\n",
    "#libraries previously installed using:\n",
    "library(seacarb)\n",
    "library(oce)\n",
    "library(gsw)\n",
    "\n",
    "#library(Hmisc)   #for minor ticks in plot\n",
    "\n",
    "packageVersion('seacarb')"
   ]
  },
  {
   "cell_type": "markdown",
   "metadata": {},
   "source": [
    "## 1. Get routines and specify input vars"
   ]
  },
  {
   "cell_type": "markdown",
   "metadata": {},
   "source": [
    "### 1.1 Read in needed subroutines"
   ]
  },
  {
   "cell_type": "code",
   "execution_count": 4,
   "metadata": {
    "collapsed": true
   },
   "outputs": [],
   "source": [
    "%%R\n",
    "#branch buffesm1 of seacarb-git\n",
    "source(\"/homel/cnangini/PROJECTS/seacarb-git/R/errhalf.R\")\n",
    "source(\"/homel/cnangini/PROJECTS/seacarb-git/R/errmid.R\")\n",
    "source(\"/homel/cnangini/PROJECTS/seacarb-git/R/errors.R\")\n",
    "source(\"/homel/cnangini/PROJECTS/seacarb-git/R/derivnum.R\")\n",
    "\n",
    "# source(\"/homel/orr/Software/R/seacarb-git-orr/R/updateall.R\")"
   ]
  },
  {
   "cell_type": "markdown",
   "metadata": {},
   "source": [
    "### 1.2 Specifiy input variables & errors (non-flag dependant), i.e., except for the input pair"
   ]
  },
  {
   "cell_type": "markdown",
   "metadata": {},
   "source": [
    "### 1.3 Specify input pair of variables and corresponding input errors"
   ]
  },
  {
   "cell_type": "code",
   "execution_count": 5,
   "metadata": {
    "collapsed": true
   },
   "outputs": [],
   "source": [
    "%%R\n",
    "# Mean surface-ocean conditions\n",
    "temp  = 18\n",
    "salt  = 33.96  #35 \n",
    "press = 0\n",
    "\n",
    "Phos = 2.e-6; Sil = 60.e-6\n",
    "# Phos = 0.0; Sil =0.0\n",
    "\n",
    "# Other errors - not flag dependant\n",
    "salt_e = 0.01    #(psu)\n",
    "temp_e = 0.01   #(C)\n",
    "\n",
    "Pt_e = 0.1e-6\n",
    "Sit_e = 4.0e-6"
   ]
  },
  {
   "cell_type": "code",
   "execution_count": 6,
   "metadata": {
    "collapsed": false
   },
   "outputs": [],
   "source": [
    "%%R\n",
    "# Specify flag & corresponding 2 input variables \n",
    "flag = 15\n",
    "\n",
    "# Approximate regional values (picked off of Fig. 3.2 from Orr, 2011)\n",
    "ALK_socn = 2295e-6\n",
    "DIC_socn = 2155e-6\n",
    "temp_socn  = -0.49\n",
    "salt_socn  = 33.96 \n",
    "\n",
    "ALK_trop = 2300e-6\n",
    "DIC_trop = 1960e-6\n",
    "temp_trop  = 27.01\n",
    "salt_trop  = 34.92\n",
    "\n",
    "# Specify errors\n",
    "  ALK_e <- seq(0., 20., 1.0) * 1e-6\n",
    "# ALK_e = seq(0., 20., 10.0) * 1e-6\n",
    "# Economize (for method='mc'): 9 error estimates (in umol/kg)\n",
    "# ALK_e = c(0, 0.5, 1, 2, 4, 8, 12, 16, 20) * 1e-6\n",
    "  DIC_e <- ALK_e\n",
    "\n",
    "  var1_e <- ALK_e\n",
    "  var2_e <- DIC_e\n",
    "\n",
    "  pCO2_e <- seq(0,20,1)\n",
    "  pH_e   <- seq(0,0.03,0.0015)"
   ]
  },
  {
   "cell_type": "markdown",
   "metadata": {},
   "source": [
    "### 1.4 Compute derived carbonate system vars with std seacarb routine `carb`:"
   ]
  },
  {
   "cell_type": "code",
   "execution_count": 7,
   "metadata": {
    "collapsed": false
   },
   "outputs": [],
   "source": [
    "%%R\n",
    "# Compute derived carbonate system variables with standard seacarb routine 'carb':\n",
    "\n",
    "#At-Ct pair\n",
    "#----------\n",
    "\n",
    "# Southern Ocean\n",
    "vars_socn <- carb  (flag=15, var1=ALK_socn, DIC_socn, S=salt_socn, T=temp_socn, Patm=1, P=press, Pt=Phos, Sit=Sil, \n",
    "                    k1k2='w14', kf='dg', ks=\"d\", pHscale=\"T\", b=\"u74\", gas=\"potential\", warn='n')\n",
    "# Tropics\n",
    "vars_trop <- carb  (flag=15, var1=ALK_trop, DIC_trop, S=salt_trop, T=temp_trop, Patm=1, P=press, Pt=Phos, Sit=Sil, \n",
    "                    k1k2='w14', kf='dg', ks=\"d\", pHscale=\"T\", b=\"u74\", gas=\"potential\", warn='n')\n",
    "\n",
    "pH_socn <- vars_socn$pH\n",
    "pH_trop <- vars_trop$pH\n",
    "\n",
    "# Compute H+ based on pH definition (ph = -log10[H+], where [H+] is the hydrogen ion concentration in mol/kg\n",
    "H = 10^(-1*vars_socn$pH)\n",
    "\n",
    "# Keep only key columns to be consistent with output from 'errors.R' routine (called below)\n",
    "vars_socn <- data.frame(H, vars_socn[,c('pH','CO2','fCO2','pCO2','HCO3','CO3','OmegaAragonite','OmegaCalcite')] )\n",
    "vars_socn\n",
    "# Duplicate rows in *vars* until same as number of members of error vector ALK_e\n",
    "#numerrs <- length(dat$Var1)\n",
    "numerrs <- length(ALK_e)\n",
    "vars_socn <- vars_socn[rep(row.names(vars_socn), numerrs), ]\n",
    "#nrow(vars_socn)\n",
    "\n",
    "#Do the same for the tropics\n",
    "H = 10^(-1*vars_trop$pH)\n",
    "vars_trop <- data.frame(H, vars_trop[,c('pH', 'CO2','fCO2','pCO2', 'HCO3','CO3','OmegaAragonite','OmegaCalcite')] )\n",
    "vars_trop\n",
    "vars_trop <- vars_trop[rep(row.names(vars_trop), numerrs), ]\n",
    "#nrow(vars_trop)\n"
   ]
  },
  {
   "cell_type": "code",
   "execution_count": 8,
   "metadata": {
    "collapsed": false
   },
   "outputs": [
    {
     "data": {
      "text/plain": [
       "[1] 8.111823\n"
      ]
     },
     "metadata": {},
     "output_type": "display_data"
    }
   ],
   "source": [
    "%%R\n",
    "# vars_socn\n",
    "pH_socn"
   ]
  },
  {
   "cell_type": "markdown",
   "metadata": {},
   "source": [
    "### 1.5 Use error vectors to build 2x2 error arrays, one for each input pair "
   ]
  },
  {
   "cell_type": "markdown",
   "metadata": {},
   "source": [
    "#### Make error arrays (2x2)"
   ]
  },
  {
   "cell_type": "code",
   "execution_count": 9,
   "metadata": {
    "collapsed": false
   },
   "outputs": [],
   "source": [
    "%%R\n",
    "  dat <- expand.grid(DIC_e, ALK_e)\n",
    "\n",
    "  dat_pHAt   <- expand.grid(pH_e,  ALK_e)\n",
    "  dat_pHCt   <- expand.grid(pH_e,  DIC_e)\n",
    "  dat_AtCt   <- expand.grid(DIC_e, ALK_e)\n",
    "  dat_pCO2pH <- expand.grid(pCO2_e,  pH_e)\n",
    "  dat_pCO2At <- expand.grid(pCO2_e,  ALK_e)\n",
    "  dat_pCO2Ct <- expand.grid(pCO2_e,  DIC_e)\n",
    "\n",
    "# For later use of input pH error combined with other computed errors for At, Ct, pCO2\n",
    "# Use identity: -log(10) dpH = dH/H \n",
    "  H_e <- abs(-log(10) * pH_e * vars_socn$H[1])\n",
    "\n",
    "  dat_pHpH   <- expand.grid(pH_e,  pH_e)\n",
    "  dat_HH   <- expand.grid(H_e,  H_e)"
   ]
  },
  {
   "cell_type": "code",
   "execution_count": 10,
   "metadata": {
    "collapsed": false
   },
   "outputs": [
    {
     "data": {
      "text/plain": [
       "       Var1    Var2\n",
       "1   0.0e+00 0.0e+00\n",
       "2   1.0e-06 0.0e+00\n",
       "3   2.0e-06 0.0e+00\n",
       "4   3.0e-06 0.0e+00\n",
       "5   4.0e-06 0.0e+00\n",
       "6   5.0e-06 0.0e+00\n",
       "7   6.0e-06 0.0e+00\n",
       "8   7.0e-06 0.0e+00\n",
       "9   8.0e-06 0.0e+00\n",
       "10  9.0e-06 0.0e+00\n",
       "11  1.0e-05 0.0e+00\n",
       "12  1.1e-05 0.0e+00\n",
       "13  1.2e-05 0.0e+00\n",
       "14  1.3e-05 0.0e+00\n",
       "15  1.4e-05 0.0e+00\n",
       "16  1.5e-05 0.0e+00\n",
       "17  1.6e-05 0.0e+00\n",
       "18  1.7e-05 0.0e+00\n",
       "19  1.8e-05 0.0e+00\n",
       "20  1.9e-05 0.0e+00\n",
       "21  2.0e-05 0.0e+00\n",
       "22  0.0e+00 1.0e-06\n",
       "23  1.0e-06 1.0e-06\n",
       "24  2.0e-06 1.0e-06\n",
       "25  3.0e-06 1.0e-06\n",
       "26  4.0e-06 1.0e-06\n",
       "27  5.0e-06 1.0e-06\n",
       "28  6.0e-06 1.0e-06\n",
       "29  7.0e-06 1.0e-06\n",
       "30  8.0e-06 1.0e-06\n",
       "31  9.0e-06 1.0e-06\n",
       "32  1.0e-05 1.0e-06\n",
       "33  1.1e-05 1.0e-06\n",
       "34  1.2e-05 1.0e-06\n",
       "35  1.3e-05 1.0e-06\n",
       "36  1.4e-05 1.0e-06\n",
       "37  1.5e-05 1.0e-06\n",
       "38  1.6e-05 1.0e-06\n",
       "39  1.7e-05 1.0e-06\n",
       "40  1.8e-05 1.0e-06\n",
       "41  1.9e-05 1.0e-06\n",
       "42  2.0e-05 1.0e-06\n",
       "43  0.0e+00 2.0e-06\n",
       "44  1.0e-06 2.0e-06\n",
       "45  2.0e-06 2.0e-06\n",
       "46  3.0e-06 2.0e-06\n",
       "47  4.0e-06 2.0e-06\n",
       "48  5.0e-06 2.0e-06\n",
       "49  6.0e-06 2.0e-06\n",
       "50  7.0e-06 2.0e-06\n",
       "51  8.0e-06 2.0e-06\n",
       "52  9.0e-06 2.0e-06\n",
       "53  1.0e-05 2.0e-06\n",
       "54  1.1e-05 2.0e-06\n",
       "55  1.2e-05 2.0e-06\n",
       "56  1.3e-05 2.0e-06\n",
       "57  1.4e-05 2.0e-06\n",
       "58  1.5e-05 2.0e-06\n",
       "59  1.6e-05 2.0e-06\n",
       "60  1.7e-05 2.0e-06\n",
       "61  1.8e-05 2.0e-06\n",
       "62  1.9e-05 2.0e-06\n",
       "63  2.0e-05 2.0e-06\n",
       "64  0.0e+00 3.0e-06\n",
       "65  1.0e-06 3.0e-06\n",
       "66  2.0e-06 3.0e-06\n",
       "67  3.0e-06 3.0e-06\n",
       "68  4.0e-06 3.0e-06\n",
       "69  5.0e-06 3.0e-06\n",
       "70  6.0e-06 3.0e-06\n",
       "71  7.0e-06 3.0e-06\n",
       "72  8.0e-06 3.0e-06\n",
       "73  9.0e-06 3.0e-06\n",
       "74  1.0e-05 3.0e-06\n",
       "75  1.1e-05 3.0e-06\n",
       "76  1.2e-05 3.0e-06\n",
       "77  1.3e-05 3.0e-06\n",
       "78  1.4e-05 3.0e-06\n",
       "79  1.5e-05 3.0e-06\n",
       "80  1.6e-05 3.0e-06\n",
       "81  1.7e-05 3.0e-06\n",
       "82  1.8e-05 3.0e-06\n",
       "83  1.9e-05 3.0e-06\n",
       "84  2.0e-05 3.0e-06\n",
       "85  0.0e+00 4.0e-06\n",
       "86  1.0e-06 4.0e-06\n",
       "87  2.0e-06 4.0e-06\n",
       "88  3.0e-06 4.0e-06\n",
       "89  4.0e-06 4.0e-06\n",
       "90  5.0e-06 4.0e-06\n",
       "91  6.0e-06 4.0e-06\n",
       "92  7.0e-06 4.0e-06\n",
       "93  8.0e-06 4.0e-06\n",
       "94  9.0e-06 4.0e-06\n",
       "95  1.0e-05 4.0e-06\n",
       "96  1.1e-05 4.0e-06\n",
       "97  1.2e-05 4.0e-06\n",
       "98  1.3e-05 4.0e-06\n",
       "99  1.4e-05 4.0e-06\n",
       "100 1.5e-05 4.0e-06\n",
       "101 1.6e-05 4.0e-06\n",
       "102 1.7e-05 4.0e-06\n",
       "103 1.8e-05 4.0e-06\n",
       "104 1.9e-05 4.0e-06\n",
       "105 2.0e-05 4.0e-06\n",
       "106 0.0e+00 5.0e-06\n",
       "107 1.0e-06 5.0e-06\n",
       "108 2.0e-06 5.0e-06\n",
       "109 3.0e-06 5.0e-06\n",
       "110 4.0e-06 5.0e-06\n",
       "111 5.0e-06 5.0e-06\n",
       "112 6.0e-06 5.0e-06\n",
       "113 7.0e-06 5.0e-06\n",
       "114 8.0e-06 5.0e-06\n",
       "115 9.0e-06 5.0e-06\n",
       "116 1.0e-05 5.0e-06\n",
       "117 1.1e-05 5.0e-06\n",
       "118 1.2e-05 5.0e-06\n",
       "119 1.3e-05 5.0e-06\n",
       "120 1.4e-05 5.0e-06\n",
       "121 1.5e-05 5.0e-06\n",
       "122 1.6e-05 5.0e-06\n",
       "123 1.7e-05 5.0e-06\n",
       "124 1.8e-05 5.0e-06\n",
       "125 1.9e-05 5.0e-06\n",
       "126 2.0e-05 5.0e-06\n",
       "127 0.0e+00 6.0e-06\n",
       "128 1.0e-06 6.0e-06\n",
       "129 2.0e-06 6.0e-06\n",
       "130 3.0e-06 6.0e-06\n",
       "131 4.0e-06 6.0e-06\n",
       "132 5.0e-06 6.0e-06\n",
       "133 6.0e-06 6.0e-06\n",
       "134 7.0e-06 6.0e-06\n",
       "135 8.0e-06 6.0e-06\n",
       "136 9.0e-06 6.0e-06\n",
       "137 1.0e-05 6.0e-06\n",
       "138 1.1e-05 6.0e-06\n",
       "139 1.2e-05 6.0e-06\n",
       "140 1.3e-05 6.0e-06\n",
       "141 1.4e-05 6.0e-06\n",
       "142 1.5e-05 6.0e-06\n",
       "143 1.6e-05 6.0e-06\n",
       "144 1.7e-05 6.0e-06\n",
       "145 1.8e-05 6.0e-06\n",
       "146 1.9e-05 6.0e-06\n",
       "147 2.0e-05 6.0e-06\n",
       "148 0.0e+00 7.0e-06\n",
       "149 1.0e-06 7.0e-06\n",
       "150 2.0e-06 7.0e-06\n",
       "151 3.0e-06 7.0e-06\n",
       "152 4.0e-06 7.0e-06\n",
       "153 5.0e-06 7.0e-06\n",
       "154 6.0e-06 7.0e-06\n",
       "155 7.0e-06 7.0e-06\n",
       "156 8.0e-06 7.0e-06\n",
       "157 9.0e-06 7.0e-06\n",
       "158 1.0e-05 7.0e-06\n",
       "159 1.1e-05 7.0e-06\n",
       "160 1.2e-05 7.0e-06\n",
       "161 1.3e-05 7.0e-06\n",
       "162 1.4e-05 7.0e-06\n",
       "163 1.5e-05 7.0e-06\n",
       "164 1.6e-05 7.0e-06\n",
       "165 1.7e-05 7.0e-06\n",
       "166 1.8e-05 7.0e-06\n",
       "167 1.9e-05 7.0e-06\n",
       "168 2.0e-05 7.0e-06\n",
       "169 0.0e+00 8.0e-06\n",
       "170 1.0e-06 8.0e-06\n",
       "171 2.0e-06 8.0e-06\n",
       "172 3.0e-06 8.0e-06\n",
       "173 4.0e-06 8.0e-06\n",
       "174 5.0e-06 8.0e-06\n",
       "175 6.0e-06 8.0e-06\n",
       "176 7.0e-06 8.0e-06\n",
       "177 8.0e-06 8.0e-06\n",
       "178 9.0e-06 8.0e-06\n",
       "179 1.0e-05 8.0e-06\n",
       "180 1.1e-05 8.0e-06\n",
       "181 1.2e-05 8.0e-06\n",
       "182 1.3e-05 8.0e-06\n",
       "183 1.4e-05 8.0e-06\n",
       "184 1.5e-05 8.0e-06\n",
       "185 1.6e-05 8.0e-06\n",
       "186 1.7e-05 8.0e-06\n",
       "187 1.8e-05 8.0e-06\n",
       "188 1.9e-05 8.0e-06\n",
       "189 2.0e-05 8.0e-06\n",
       "190 0.0e+00 9.0e-06\n",
       "191 1.0e-06 9.0e-06\n",
       "192 2.0e-06 9.0e-06\n",
       "193 3.0e-06 9.0e-06\n",
       "194 4.0e-06 9.0e-06\n",
       "195 5.0e-06 9.0e-06\n",
       "196 6.0e-06 9.0e-06\n",
       "197 7.0e-06 9.0e-06\n",
       "198 8.0e-06 9.0e-06\n",
       "199 9.0e-06 9.0e-06\n",
       "200 1.0e-05 9.0e-06\n",
       "201 1.1e-05 9.0e-06\n",
       "202 1.2e-05 9.0e-06\n",
       "203 1.3e-05 9.0e-06\n",
       "204 1.4e-05 9.0e-06\n",
       "205 1.5e-05 9.0e-06\n",
       "206 1.6e-05 9.0e-06\n",
       "207 1.7e-05 9.0e-06\n",
       "208 1.8e-05 9.0e-06\n",
       "209 1.9e-05 9.0e-06\n",
       "210 2.0e-05 9.0e-06\n",
       "211 0.0e+00 1.0e-05\n",
       "212 1.0e-06 1.0e-05\n",
       "213 2.0e-06 1.0e-05\n",
       "214 3.0e-06 1.0e-05\n",
       "215 4.0e-06 1.0e-05\n",
       "216 5.0e-06 1.0e-05\n",
       "217 6.0e-06 1.0e-05\n",
       "218 7.0e-06 1.0e-05\n",
       "219 8.0e-06 1.0e-05\n",
       "220 9.0e-06 1.0e-05\n",
       "221 1.0e-05 1.0e-05\n",
       "222 1.1e-05 1.0e-05\n",
       "223 1.2e-05 1.0e-05\n",
       "224 1.3e-05 1.0e-05\n",
       "225 1.4e-05 1.0e-05\n",
       "226 1.5e-05 1.0e-05\n",
       "227 1.6e-05 1.0e-05\n",
       "228 1.7e-05 1.0e-05\n",
       "229 1.8e-05 1.0e-05\n",
       "230 1.9e-05 1.0e-05\n",
       "231 2.0e-05 1.0e-05\n",
       "232 0.0e+00 1.1e-05\n",
       "233 1.0e-06 1.1e-05\n",
       "234 2.0e-06 1.1e-05\n",
       "235 3.0e-06 1.1e-05\n",
       "236 4.0e-06 1.1e-05\n",
       "237 5.0e-06 1.1e-05\n",
       "238 6.0e-06 1.1e-05\n",
       "239 7.0e-06 1.1e-05\n",
       "240 8.0e-06 1.1e-05\n",
       "241 9.0e-06 1.1e-05\n",
       "242 1.0e-05 1.1e-05\n",
       "243 1.1e-05 1.1e-05\n",
       "244 1.2e-05 1.1e-05\n",
       "245 1.3e-05 1.1e-05\n",
       "246 1.4e-05 1.1e-05\n",
       "247 1.5e-05 1.1e-05\n",
       "248 1.6e-05 1.1e-05\n",
       "249 1.7e-05 1.1e-05\n",
       "250 1.8e-05 1.1e-05\n",
       "251 1.9e-05 1.1e-05\n",
       "252 2.0e-05 1.1e-05\n",
       "253 0.0e+00 1.2e-05\n",
       "254 1.0e-06 1.2e-05\n",
       "255 2.0e-06 1.2e-05\n",
       "256 3.0e-06 1.2e-05\n",
       "257 4.0e-06 1.2e-05\n",
       "258 5.0e-06 1.2e-05\n",
       "259 6.0e-06 1.2e-05\n",
       "260 7.0e-06 1.2e-05\n",
       "261 8.0e-06 1.2e-05\n",
       "262 9.0e-06 1.2e-05\n",
       "263 1.0e-05 1.2e-05\n",
       "264 1.1e-05 1.2e-05\n",
       "265 1.2e-05 1.2e-05\n",
       "266 1.3e-05 1.2e-05\n",
       "267 1.4e-05 1.2e-05\n",
       "268 1.5e-05 1.2e-05\n",
       "269 1.6e-05 1.2e-05\n",
       "270 1.7e-05 1.2e-05\n",
       "271 1.8e-05 1.2e-05\n",
       "272 1.9e-05 1.2e-05\n",
       "273 2.0e-05 1.2e-05\n",
       "274 0.0e+00 1.3e-05\n",
       "275 1.0e-06 1.3e-05\n",
       "276 2.0e-06 1.3e-05\n",
       "277 3.0e-06 1.3e-05\n",
       "278 4.0e-06 1.3e-05\n",
       "279 5.0e-06 1.3e-05\n",
       "280 6.0e-06 1.3e-05\n",
       "281 7.0e-06 1.3e-05\n",
       "282 8.0e-06 1.3e-05\n",
       "283 9.0e-06 1.3e-05\n",
       "284 1.0e-05 1.3e-05\n",
       "285 1.1e-05 1.3e-05\n",
       "286 1.2e-05 1.3e-05\n",
       "287 1.3e-05 1.3e-05\n",
       "288 1.4e-05 1.3e-05\n",
       "289 1.5e-05 1.3e-05\n",
       "290 1.6e-05 1.3e-05\n",
       "291 1.7e-05 1.3e-05\n",
       "292 1.8e-05 1.3e-05\n",
       "293 1.9e-05 1.3e-05\n",
       "294 2.0e-05 1.3e-05\n",
       "295 0.0e+00 1.4e-05\n",
       "296 1.0e-06 1.4e-05\n",
       "297 2.0e-06 1.4e-05\n",
       "298 3.0e-06 1.4e-05\n",
       "299 4.0e-06 1.4e-05\n",
       "300 5.0e-06 1.4e-05\n",
       "301 6.0e-06 1.4e-05\n",
       "302 7.0e-06 1.4e-05\n",
       "303 8.0e-06 1.4e-05\n",
       "304 9.0e-06 1.4e-05\n",
       "305 1.0e-05 1.4e-05\n",
       "306 1.1e-05 1.4e-05\n",
       "307 1.2e-05 1.4e-05\n",
       "308 1.3e-05 1.4e-05\n",
       "309 1.4e-05 1.4e-05\n",
       "310 1.5e-05 1.4e-05\n",
       "311 1.6e-05 1.4e-05\n",
       "312 1.7e-05 1.4e-05\n",
       "313 1.8e-05 1.4e-05\n",
       "314 1.9e-05 1.4e-05\n",
       "315 2.0e-05 1.4e-05\n",
       "316 0.0e+00 1.5e-05\n",
       "317 1.0e-06 1.5e-05\n",
       "318 2.0e-06 1.5e-05\n",
       "319 3.0e-06 1.5e-05\n",
       "320 4.0e-06 1.5e-05\n",
       "321 5.0e-06 1.5e-05\n",
       "322 6.0e-06 1.5e-05\n",
       "323 7.0e-06 1.5e-05\n",
       "324 8.0e-06 1.5e-05\n",
       "325 9.0e-06 1.5e-05\n",
       "326 1.0e-05 1.5e-05\n",
       "327 1.1e-05 1.5e-05\n",
       "328 1.2e-05 1.5e-05\n",
       "329 1.3e-05 1.5e-05\n",
       "330 1.4e-05 1.5e-05\n",
       "331 1.5e-05 1.5e-05\n",
       "332 1.6e-05 1.5e-05\n",
       "333 1.7e-05 1.5e-05\n",
       "334 1.8e-05 1.5e-05\n",
       "335 1.9e-05 1.5e-05\n",
       "336 2.0e-05 1.5e-05\n",
       "337 0.0e+00 1.6e-05\n",
       "338 1.0e-06 1.6e-05\n",
       "339 2.0e-06 1.6e-05\n",
       "340 3.0e-06 1.6e-05\n",
       "341 4.0e-06 1.6e-05\n",
       "342 5.0e-06 1.6e-05\n",
       "343 6.0e-06 1.6e-05\n",
       "344 7.0e-06 1.6e-05\n",
       "345 8.0e-06 1.6e-05\n",
       "346 9.0e-06 1.6e-05\n",
       "347 1.0e-05 1.6e-05\n",
       "348 1.1e-05 1.6e-05\n",
       "349 1.2e-05 1.6e-05\n",
       "350 1.3e-05 1.6e-05\n",
       "351 1.4e-05 1.6e-05\n",
       "352 1.5e-05 1.6e-05\n",
       "353 1.6e-05 1.6e-05\n",
       "354 1.7e-05 1.6e-05\n",
       "355 1.8e-05 1.6e-05\n",
       "356 1.9e-05 1.6e-05\n",
       "357 2.0e-05 1.6e-05\n",
       "358 0.0e+00 1.7e-05\n",
       "359 1.0e-06 1.7e-05\n",
       "360 2.0e-06 1.7e-05\n",
       "361 3.0e-06 1.7e-05\n",
       "362 4.0e-06 1.7e-05\n",
       "363 5.0e-06 1.7e-05\n",
       "364 6.0e-06 1.7e-05\n",
       "365 7.0e-06 1.7e-05\n",
       "366 8.0e-06 1.7e-05\n",
       "367 9.0e-06 1.7e-05\n",
       "368 1.0e-05 1.7e-05\n",
       "369 1.1e-05 1.7e-05\n",
       "370 1.2e-05 1.7e-05\n",
       "371 1.3e-05 1.7e-05\n",
       "372 1.4e-05 1.7e-05\n",
       "373 1.5e-05 1.7e-05\n",
       "374 1.6e-05 1.7e-05\n",
       "375 1.7e-05 1.7e-05\n",
       "376 1.8e-05 1.7e-05\n",
       "377 1.9e-05 1.7e-05\n",
       "378 2.0e-05 1.7e-05\n",
       "379 0.0e+00 1.8e-05\n",
       "380 1.0e-06 1.8e-05\n",
       "381 2.0e-06 1.8e-05\n",
       "382 3.0e-06 1.8e-05\n",
       "383 4.0e-06 1.8e-05\n",
       "384 5.0e-06 1.8e-05\n",
       "385 6.0e-06 1.8e-05\n",
       "386 7.0e-06 1.8e-05\n",
       "387 8.0e-06 1.8e-05\n",
       "388 9.0e-06 1.8e-05\n",
       "389 1.0e-05 1.8e-05\n",
       "390 1.1e-05 1.8e-05\n",
       "391 1.2e-05 1.8e-05\n",
       "392 1.3e-05 1.8e-05\n",
       "393 1.4e-05 1.8e-05\n",
       "394 1.5e-05 1.8e-05\n",
       "395 1.6e-05 1.8e-05\n",
       "396 1.7e-05 1.8e-05\n",
       "397 1.8e-05 1.8e-05\n",
       "398 1.9e-05 1.8e-05\n",
       "399 2.0e-05 1.8e-05\n",
       "400 0.0e+00 1.9e-05\n",
       "401 1.0e-06 1.9e-05\n",
       "402 2.0e-06 1.9e-05\n",
       "403 3.0e-06 1.9e-05\n",
       "404 4.0e-06 1.9e-05\n",
       "405 5.0e-06 1.9e-05\n",
       "406 6.0e-06 1.9e-05\n",
       "407 7.0e-06 1.9e-05\n",
       "408 8.0e-06 1.9e-05\n",
       "409 9.0e-06 1.9e-05\n",
       "410 1.0e-05 1.9e-05\n",
       "411 1.1e-05 1.9e-05\n",
       "412 1.2e-05 1.9e-05\n",
       "413 1.3e-05 1.9e-05\n",
       "414 1.4e-05 1.9e-05\n",
       "415 1.5e-05 1.9e-05\n",
       "416 1.6e-05 1.9e-05\n",
       "417 1.7e-05 1.9e-05\n",
       "418 1.8e-05 1.9e-05\n",
       "419 1.9e-05 1.9e-05\n",
       "420 2.0e-05 1.9e-05\n",
       "421 0.0e+00 2.0e-05\n",
       "422 1.0e-06 2.0e-05\n",
       "423 2.0e-06 2.0e-05\n",
       "424 3.0e-06 2.0e-05\n",
       "425 4.0e-06 2.0e-05\n",
       "426 5.0e-06 2.0e-05\n",
       "427 6.0e-06 2.0e-05\n",
       "428 7.0e-06 2.0e-05\n",
       "429 8.0e-06 2.0e-05\n",
       "430 9.0e-06 2.0e-05\n",
       "431 1.0e-05 2.0e-05\n",
       "432 1.1e-05 2.0e-05\n",
       "433 1.2e-05 2.0e-05\n",
       "434 1.3e-05 2.0e-05\n",
       "435 1.4e-05 2.0e-05\n",
       "436 1.5e-05 2.0e-05\n",
       "437 1.6e-05 2.0e-05\n",
       "438 1.7e-05 2.0e-05\n",
       "439 1.8e-05 2.0e-05\n",
       "440 1.9e-05 2.0e-05\n",
       "441 2.0e-05 2.0e-05\n"
      ]
     },
     "metadata": {},
     "output_type": "display_data"
    }
   ],
   "source": [
    "%%R\n",
    "dat"
   ]
  },
  {
   "cell_type": "markdown",
   "metadata": {},
   "source": [
    "### 1.6 Specify state-of-art (soa) errors for vars: see error-propagation manuscript (Orr et al. 2017, Table 1) \n",
    "\n",
    "These will be plotted as crosses on the error-space diagrams"
   ]
  },
  {
   "cell_type": "code",
   "execution_count": 11,
   "metadata": {
    "collapsed": false
   },
   "outputs": [],
   "source": [
    "%%R\n",
    "ALK_e_soa   <- 2 #umol/kg\n",
    "DIC_e_soa   <- 2 #umol/kg\n",
    "pCO2_e_soa  <- 2 #umol/kg\n",
    "pH_e_soa    <- c(0.003, 0.01)  #total scale\n",
    "\n",
    "pH_e_soa2   <- pH_e_soa\n",
    "ALK_e_soa2  <- c(ALK_e_soa, ALK_e_soa)\n",
    "DIC_e_soa2  <- c(DIC_e_soa, DIC_e_soa)\n",
    "pCO2_e_soa2 <- c(pCO2_e_soa, pCO2_e_soa)\n",
    "\n",
    "ALK_e_soa2\n",
    "DIC_e_soa2\n",
    "pCO2_e_soa2\n",
    "pH_e_soa2\n",
    "\n",
    "var1_e_soa <- pH_e_soa\n",
    "var1_e_soa2 <- pH_e_soa2\n",
    "var2_e_soa <- ALK_e_soa\n",
    "var2_e_soa2 <- ALK_e_soa2"
   ]
  },
  {
   "cell_type": "code",
   "execution_count": 12,
   "metadata": {
    "collapsed": false
   },
   "outputs": [
    {
     "data": {
      "text/plain": [
       "[1] 2 2\n"
      ]
     },
     "metadata": {},
     "output_type": "display_data"
    }
   ],
   "source": [
    "%%R\n",
    "ALK_e_soa2"
   ]
  },
  {
   "cell_type": "markdown",
   "metadata": {},
   "source": [
    "## 2. Compute output variables in normal way (with carb)"
   ]
  },
  {
   "cell_type": "markdown",
   "metadata": {},
   "source": [
    "#### 2.1 At-Ct pair"
   ]
  },
  {
   "cell_type": "code",
   "execution_count": 13,
   "metadata": {
    "collapsed": false
   },
   "outputs": [],
   "source": [
    "%%R\n",
    "vars_socn <- carb  (flag=15, var1=ALK_socn, DIC_socn, S=salt_socn, T=temp_socn, Patm=1, P=press, Pt=Phos, Sit=Sil, \n",
    "                    k1k2='w14', kf='dg', ks=\"d\", pHscale=\"T\", b=\"u74\", gas=\"potential\", warn='n')\n",
    "\n",
    "vars_trop <- carb  (flag=15, var1=ALK_trop, DIC_trop, S=salt_trop, T=temp_trop, Patm=1, P=press, Pt=Phos, Sit=Sil, \n",
    "                    k1k2='w14', kf='dg', ks=\"d\", pHscale=\"T\", b=\"u74\", gas=\"potential\", warn='n')\n",
    "\n",
    "pH_socn <- vars_socn$pH\n",
    "pH_trop <- vars_trop$pH\n",
    "\n",
    "# Compute H+\n",
    "H = 10^(-1*vars_socn$pH)\n",
    "\n",
    "# Keep only key columns to be consistent with output from 'errors.R' routine (below)\n",
    "vars_socn <- data.frame(H, vars_socn[,c('pH','CO2','fCO2','pCO2','HCO3','CO3','OmegaAragonite','OmegaCalcite')] )\n",
    "vars_socn\n",
    "# Duplicate rows in *vars* until same as number of members of error vector ALK_e\n",
    "numerrs <- length(dat$Var1)\n",
    "#numerrs\n",
    "vars_socn <- vars_socn[rep(row.names(vars_socn), numerrs), ]\n",
    "#nrow(vars_socn)\n",
    "\n",
    "#Do the same for the tropics\n",
    "H = 10^(-1*vars_trop$pH)\n",
    "vars_trop <- data.frame(H, vars_trop[,c('pH', 'CO2','fCO2','pCO2', 'HCO3','CO3','OmegaAragonite','OmegaCalcite')] )\n",
    "vars_trop\n",
    "vars_trop <- vars_trop[rep(row.names(vars_trop), numerrs), ]\n",
    "#nrow(vars_trop)"
   ]
  },
  {
   "cell_type": "code",
   "execution_count": 14,
   "metadata": {
    "collapsed": false
   },
   "outputs": [
    {
     "data": {
      "text/plain": [
       "[1] 0.002295\n"
      ]
     },
     "metadata": {},
     "output_type": "display_data"
    }
   ],
   "source": [
    "%%R\n",
    "ALK_socn"
   ]
  },
  {
   "cell_type": "markdown",
   "metadata": {},
   "source": [
    "#### 2.2 pH-At pair"
   ]
  },
  {
   "cell_type": "code",
   "execution_count": 15,
   "metadata": {
    "collapsed": false
   },
   "outputs": [],
   "source": [
    "%%R\n",
    "\n",
    "  vars_pHAt_socn <- carb  (flag=8, var1=pH_socn, ALK_socn, S=salt_socn, T=temp_socn, Patm=1, P=press, Pt=Phos, Sit=Sil, \n",
    "                      k1k2='w14', kf='dg', ks=\"d\", pHscale=\"T\", b=\"u74\", gas=\"potential\", warn='n')\n",
    "\n",
    "  vars_pHAt_trop <- carb  (flag=8, var1=pH_trop, ALK_trop, S=salt_trop, T=temp_trop, Patm=1, P=press, Pt=Phos, Sit=Sil, \n",
    "                      k1k2='w14', kf='dg', ks=\"d\", pHscale=\"T\", b=\"u74\", gas=\"potential\", warn='n')\n",
    "\n",
    "  pH_pHAt_socn <- vars_pHAt_socn$pH\n",
    "  pH_pHAt_trop <- vars_pHAt_trop$pH\n",
    "  ALK_pHAt_socn <- vars_pHAt_socn$ALK\n",
    "  ALK_pHAt_trop <- vars_pHAt_trop$ALK\n",
    "\n",
    "# Keep only key columns to be consistent with output from 'errors.R' routine (below)\n",
    "  vars_pHAt_socn <- data.frame(vars_pHAt_socn[,c('CO2','fCO2','pCO2','HCO3','CO3',\n",
    "                                          'DIC', 'OmegaAragonite','OmegaCalcite')] )\n",
    "  vars_pHAt_socn[1,]\n",
    "# Duplicate rows in *vars* until same as number of members of error vector ALK_e\n",
    "  numerrs <- length(dat_pHAt$Var1)\n",
    "  vars_pHAt_socn <- vars_pHAt_socn[rep(row.names(vars_pHAt_socn), numerrs), ]\n",
    "# nrow(vars_socn)\n",
    "\n",
    "# Do the same for the tropics\n",
    "  vars_pHAt_trop <- data.frame(vars_pHAt_trop[,c('CO2','fCO2','pCO2','HCO3','CO3',\n",
    "                                          'DIC', 'OmegaAragonite','OmegaCalcite')] )\n",
    "  vars_pHAt_trop\n",
    "  vars_pHAt_trop <- vars_pHAt_trop[rep(row.names(vars_pHAt_trop), numerrs), ]"
   ]
  },
  {
   "cell_type": "markdown",
   "metadata": {},
   "source": [
    "## 3. Propagate errors"
   ]
  },
  {
   "cell_type": "markdown",
   "metadata": {},
   "source": [
    "### 3.1 MEASUREMENT error only, i.e., ignore errors in equilibrium constants (K's)"
   ]
  },
  {
   "cell_type": "markdown",
   "metadata": {},
   "source": [
    "### 3.3 TOTAL errors (with default errors for K's)"
   ]
  },
  {
   "cell_type": "markdown",
   "metadata": {},
   "source": [
    "#### 3.3.1 At-Ct pair (flag=21)"
   ]
  },
  {
   "cell_type": "code",
   "execution_count": 18,
   "metadata": {
    "collapsed": false
   },
   "outputs": [],
   "source": [
    "%%R\n",
    "# Std estimates for errors in constants in errors.R routine (from Dickson & Riley, 1978; Dickson, 2010)\n",
    "# epKstd  <- c(0.002, 0.01,  0.02, 0.01,  0.01, 0.02, 0.02)\n",
    "# Estimates for errors in constants in errors.R routine (from Orr et al., 2017)\n",
    "  #epKstd  <- c(0.004, 0.015,  0.03, 0.01,  0.01, 0.02, 0.02) #****ORIG****\n",
    "  \n",
    "  #FROM SINGLE NOTEBOOK\n",
    "  epKstd  <- c(0.004, 0.015,  0.03, 0.01,  0.01, 0.02, 0.02, 0.01)\n",
    "# Low estimates for errors in constants: only random errors for K1 & K2 (Lueker et al., 2000) and Kb (Dickson, 1990))\n",
    "# epKlow  <- c(0.002, 0.005, 0.01, 0.002, 0.01, 0.02, 0.02)\n",
    "\n",
    "\n",
    "#At-Ct pair\n",
    "#----------\n",
    "\n",
    "absEt_socn <- errors (flag=15, var1=ALK_socn, var2=DIC_socn, S=salt_socn, T=temp_socn, \n",
    "                      Patm=1, P=press, Pt=Phos, Sit=Sil, \n",
    "                      evar1=dat$Var2, evar2=dat$Var1, eS=0, eT=0, ePt=0, eSit=0, \n",
    "                      k1k2='w14', kf='dg', ks=\"d\", pHscale=\"T\", b=\"u74\", gas=\"potential\", warn='no')\n",
    "relEt_socn <- 100* absEt_socn / vars_socn\n",
    "\n",
    "absEt_trop <- errors (flag=15, var1=ALK_trop, var2=DIC_trop, S=salt_trop, T=temp_trop, \n",
    "                      Patm=1, P=press, Pt=Phos, Sit=Sil, \n",
    "                      evar1=dat$Var2, evar2=dat$Var1, eS=0, eT=0, ePt=0, eSit=0, \n",
    "                      k1k2='w14', kf='dg', ks=\"d\", pHscale=\"T\", b=\"u74\", gas=\"potential\", warn='no')\n",
    "relEt_trop <- 100* absEt_trop / vars_trop\n",
    "\n",
    "# Critical curves\n",
    "# ===============\n",
    "# Southern Ocean\n",
    "errcirc <- errhalf(flag=15, var1=ALK_socn, var2=DIC_socn, S=salt_socn, T=temp_socn, \n",
    "                   Patm=1, P=press, Pt=Phos, Sit=Sil,\n",
    "                   epK=epKstd,\n",
    "                   k1k2='l', kf='dg', ks=\"d\", pHscale=\"T\", b=\"u74\", gas=\"potential\", warn=\"n\")  \n",
    "sig1_AtCt_socn   <- data.frame(errcirc[1]) * 1e+6\n",
    "sig2_AtCt_socn   <- data.frame(errcirc[2]) * 1e+6\n",
    "sigy_AtCt_socn   <- data.frame(errcirc[3]) ##HUOM! not used\n",
    "sig1hp_AtCt_socn <- data.frame(errcirc[4]) * 1e+6 ##HUOM! not used\n",
    "sig2hp_AtCt_socn <- data.frame(errcirc[5]) * 1e+6 ##HUOM! not used\n",
    "\n",
    "# Tropics\n",
    "errcirc <- errhalf(flag=15, var1=ALK_trop, var2=DIC_trop, S=salt_trop, T=temp_trop, \n",
    "                   Patm=1, P=press, Pt=Phos, Sit=Sil,\n",
    "                   epK=epKstd,\n",
    "                   k1k2='l', kf='dg', ks=\"d\", pHscale=\"T\", b=\"u74\", gas=\"potential\", warn=\"n\")  \n",
    "sig1_AtCt_trop   <- data.frame(errcirc[1]) * 1e+6\n",
    "sig2_AtCt_trop   <- data.frame(errcirc[2]) * 1e+6\n",
    "sigy_AtCt_trop   <- data.frame(errcirc[3]) \n",
    "sig1hp_AtCt_trop <- data.frame(errcirc[4]) * 1e+6  ##HUOM! not used\n",
    "sig2hp_AtCt_trop <- data.frame(errcirc[5]) * 1e+6  ##HUOM! not used\n",
    "\n"
   ]
  },
  {
   "cell_type": "markdown",
   "metadata": {},
   "source": [
    "#### 3.3.2 pH-At pair (flag=8)"
   ]
  },
  {
   "cell_type": "code",
   "execution_count": 19,
   "metadata": {
    "collapsed": false
   },
   "outputs": [],
   "source": [
    "%%R\n",
    "\n",
    "#pH-At pair\n",
    "absEt_pHAt_socn <- errors  (flag=8, var1=pH_socn, var2=ALK_socn, S=salt_socn, T=temp_socn, Patm=1, P=press, Pt=Phos, Sit=Sil, \n",
    "              evar1=dat_pHAt$Var1, evar2=dat_pHAt$Var2, \n",
    "              eS=0, eT=0, ePt=0, eSit=0, \n",
    "              k1k2='w14', kf='dg', ks=\"d\", pHscale=\"T\", b=\"u74\", gas=\"potential\", warn=\"no\")\n",
    "relEt_pHAt_socn <- 100* absEt_pHAt_socn / vars_pHAt_socn\n",
    "#absEt_pHAt_socn$pH <- NULL\n",
    "\n",
    "absEt_pHAt_trop <- errors  (flag=8, var1=pH_trop, var2=ALK_trop, S=salt_trop, T=temp_trop, Patm=1, P=press, Pt=Phos, Sit=Sil, \n",
    "              evar1=dat_pHAt$Var1, evar2=dat_pHAt$Var2, \n",
    "              eS=0, eT=0, ePt=0, eSit=0, \n",
    "              k1k2='w14', kf='dg', ks=\"d\", pHscale=\"T\", b=\"u74\", gas=\"potential\", warn='no')\n",
    "relEt_pHAt_trop <- 100* absEt_pHAt_trop / vars_pHAt_trop\n",
    "\n",
    "# Critical curves (pH-At pair)\n",
    "# ===============\n",
    "# Southern Ocean\n",
    "errcirc <- errhalf(flag=8, var1=pH_socn, var2=ALK_socn, S=salt_socn, T=temp_socn, \n",
    "                   Patm=1, P=press, Pt=Phos, Sit=Sil,\n",
    "                   epK=epKstd,\n",
    "                   k1k2='l', kf='dg', ks=\"d\", pHscale=\"T\", b=\"u74\", gas=\"potential\", warn=\"n\")  \n",
    "sig1_pHAt_socn   <- data.frame(errcirc[1])\n",
    "sig2_pHAt_socn   <- data.frame(errcirc[2]) * 1e+6\n",
    "sigy_pHAt_socn   <- data.frame(errcirc[3])  ##HUOM! not used\n",
    "sig1hp_pHAt_socn <- data.frame(errcirc[4])  ##HUOM! not used\n",
    "sig2hp_pHAt_socn <- data.frame(errcirc[5]) * 1e+6  ##HUOM! not used\n",
    "\n",
    "\n",
    "# Tropics\n",
    "errcirc <- errhalf(flag=8, var1=pH_trop, var2=ALK_trop, S=salt_trop, T=temp_trop, \n",
    "                   Patm=1, P=press, Pt=Phos, Sit=Sil,\n",
    "                   epK=epKstd,\n",
    "                   k1k2='l', kf='dg', ks=\"d\", pHscale=\"T\", b=\"u74\", gas=\"potential\", warn=\"n\")  \n",
    "sig1_pHAt_trop   <- data.frame(errcirc[1])\n",
    "sig2_pHAt_trop   <- data.frame(errcirc[2]) * 1e+6\n",
    "sigy_pHAt_trop   <- data.frame(errcirc[3])\n",
    "sig1hp_pHAt_trop <- data.frame(errcirc[4])\n",
    "sig2hp_pHAt_trop <- data.frame(errcirc[5]) * 1e+6"
   ]
  },
  {
   "cell_type": "markdown",
   "metadata": {},
   "source": [
    "### 3.4 Compute midline where both input members contribute equally to overall error"
   ]
  },
  {
   "cell_type": "markdown",
   "metadata": {},
   "source": [
    "#### Function to strip NaNs and add a 0 at beginning of a vector"
   ]
  },
  {
   "cell_type": "code",
   "execution_count": 21,
   "metadata": {
    "collapsed": false
   },
   "outputs": [
    {
     "data": {
      "text/plain": [
       "[1] 3\n"
      ]
     },
     "metadata": {},
     "output_type": "display_data"
    }
   ],
   "source": [
    "%%R\n",
    "george <- NULL\n",
    "if (is.null(george)) {aaa <-3}\n",
    "print(aaa)"
   ]
  },
  {
   "cell_type": "code",
   "execution_count": 22,
   "metadata": {
    "collapsed": false
   },
   "outputs": [],
   "source": [
    "%%R\n",
    "zenon <- function(x){\n",
    "       # Get rid of NaN's\n",
    "       x <- c(0.0, x[!is.na(x)]) \n",
    "       return(x)\n",
    "}"
   ]
  },
  {
   "cell_type": "markdown",
   "metadata": {},
   "source": [
    "#### Compute 'midline' where e1=e2"
   ]
  },
  {
   "cell_type": "code",
   "execution_count": 24,
   "metadata": {
    "collapsed": false,
    "scrolled": true
   },
   "outputs": [],
   "source": [
    "%%R\n",
    "sigyspct <- seq(0,20,by=0.1) # in percent\n",
    "\n",
    "# pH-At pair\n",
    "# ----------\n",
    "# Southern Ocean\n",
    "errm <- errmid(flag=8, var1=pH_socn[1], var2=ALK_socn, S=salt_socn, T=temp_socn, \n",
    "                   Patm=1, P=press, Pt=Phos, Sit=Sil,\n",
    "                   sigyspct, epK=epKstd,\n",
    "                   k1k2='l', kf='dg', ks=\"d\", pHscale=\"T\", b=\"u74\", gas=\"potential\", warn=\"n\")  \n",
    "sigm1_pHAt_socn   <- data.frame(errm[1])\n",
    "sigm2_pHAt_socn   <- data.frame(errm[2]) * 1e+6\n",
    "\n",
    "errm_socn <- errm\n",
    "\n",
    "# Tropics\n",
    "errm <- errmid(flag=8, var1=pH_trop[1], var2=ALK_trop, S=salt_trop, T=temp_trop, \n",
    "                   Patm=1, P=press, Pt=Phos, Sit=Sil,\n",
    "                   sigyspct, epK=epKstd,\n",
    "                   k1k2='l', kf='dg', ks=\"d\", pHscale=\"T\", b=\"u74\", gas=\"potential\", warn=\"n\")  \n",
    "sigm1_pHAt_trop   <- data.frame(errm[1])\n",
    "sigm2_pHAt_trop   <- data.frame(errm[2]) * 1e+6\n",
    "\n",
    "\n",
    "# At-Ct pair\n",
    "# ----------\n",
    "# Southern Ocean\n",
    "errm <- errmid(flag=15, var1=ALK_socn, var2=DIC_socn, S=salt_socn, T=temp_socn, \n",
    "                   Patm=1, P=press, Pt=Phos, Sit=Sil,\n",
    "                   sigyspct, epK=epKstd,\n",
    "                   k1k2='l', kf='dg', ks=\"d\", pHscale=\"T\", b=\"u74\", gas=\"potential\", warn=\"n\")  \n",
    "sigm1_AtCt_socn   <- data.frame(errm[1]) * 1e+6\n",
    "sigm2_AtCt_socn   <- data.frame(errm[2]) * 1e+6\n",
    "# Tropics\n",
    "errm <- errmid(flag=15, var1=ALK_trop, var2=DIC_trop, S=salt_socn, T=temp_socn, \n",
    "                   Patm=1, P=press, Pt=Phos, Sit=Sil,\n",
    "                   sigyspct, epK=epKstd,\n",
    "                   k1k2='l', kf='dg', ks=\"d\", pHscale=\"T\", b=\"u74\", gas=\"potential\", warn=\"n\")  \n",
    "sigm1_AtCt_trop   <- data.frame(errm[1]) * 1e+6\n",
    "sigm2_AtCt_trop   <- data.frame(errm[2]) * 1e+6\n"
   ]
  },
  {
   "cell_type": "markdown",
   "metadata": {},
   "source": [
    "## 4. Plot results: contours of calculated errors from input errors"
   ]
  },
  {
   "cell_type": "markdown",
   "metadata": {},
   "source": [
    "### 4.1 Create file 'prettyaxes.R' to beautify subsequent plots (call it in cell below)"
   ]
  },
  {
   "cell_type": "code",
   "execution_count": 26,
   "metadata": {
    "collapsed": false
   },
   "outputs": [],
   "source": [
    "%%R\n",
    "cat(' box()\\n',\n",
    "    'axis(1,labels=FALSE, tcl=-0.35) ; axis(1, lwd=0, line=-0.4, labels=TRUE)\\n',\n",
    "    'axis(2,labels=FALSE,tcl=-0.35)  ; axis(2, lwd=0, line=-0.4, las=2, labels=TRUE)\\n',\n",
    "    'axis(3,labels=FALSE,tcl=-0.35) ; axis(4,labels=FALSE,tcl=-0.25)\\n',\n",
    "   file='prettyaxes.R')"
   ]
  },
  {
   "cell_type": "markdown",
   "metadata": {},
   "source": [
    "### 4.2 Define simpler labels of variables to plot"
   ]
  },
  {
   "cell_type": "markdown",
   "metadata": {},
   "source": [
    "#### 4.2.1 For CO3 for At-Ct and pH-At pairs"
   ]
  },
  {
   "cell_type": "code",
   "execution_count": 27,
   "metadata": {
    "collapsed": false,
    "scrolled": true
   },
   "outputs": [],
   "source": [
    "%%R\n",
    "\n",
    "#   for CO3:\n",
    "#   --------\n",
    "\n",
    "#   relative errors\n",
    "    rCO3_pHAt_socn <- relEt_pHAt_socn$CO3 #za in plot for pH-At pair\n",
    "    rCO3_pHAt_trop <- relEt_pHAt_trop$CO3\n",
    "\n",
    "\n",
    "#   Relative changes:\n",
    "    rCO3socn <- relEt_socn$CO3 #za in plot for At-Ct pair\n",
    "    rCO3trop <- relEt_trop$CO3\n"
   ]
  },
  {
   "cell_type": "markdown",
   "metadata": {},
   "source": [
    "### 4.3 Plot results"
   ]
  },
  {
   "cell_type": "markdown",
   "metadata": {},
   "source": [
    "#### 4.3.1 Plot function"
   ]
  },
  {
   "cell_type": "code",
   "execution_count": 37,
   "metadata": {
    "collapsed": false
   },
   "outputs": [],
   "source": [
    "%%R\n",
    "plterrcontourR <- function(sigcritXa, sigcritYa, xlab, ylab, subtitle, xlim, ylim,\n",
    "                           sigcritXb, sigcritYb,\n",
    "                           sighpXa, sighpYa,\n",
    "                           sighpXb, sighpYb,\n",
    "                           sigmidXa, sigmidYa,\n",
    "                           sigmidXb, sigmidYb,\n",
    "                           sigsoaX, sigsoaY,\n",
    "                           x, y, za, levels1,\n",
    "                                 zb, levels2,\n",
    "                           methoda='flattest', methodb='edge'){\n",
    "    \n",
    "#   Region 'a' is Southern Ocean  ;  Region 'b' is Tropics:\n",
    "    # 'contour' command must come after any 'plot', 'lines', or 'points' commands \n",
    "    plot (sigcritXa, sigcritYa, xlab=xlab, ylab=ylab, plot.title=title(main=subtitle),\n",
    "          xlim=xlim, ylim=ylim, col=\"black\", type='l', lwd=3, lty='solid',xaxt='n',yaxt='n',\n",
    "          cex.lab=1.4, ann=F, xaxs='r', yaxs='r')\n",
    "    lines(sigcritXb, sigcritYb, col=\"black\", lwd=3, lty='dashed')\n",
    "#   Plot critical point\n",
    "    if ( is.null(sighpXa) ) {\n",
    "        points(sigcritXa[11], sigcritYa[11], col=\"black\", cex=1.7, pch=19)\n",
    "        points(sigcritXb[11], sigcritYb[11], col=\"black\", cex=1.7, pch=1)\n",
    "    } else {\n",
    "        points(sighpXa, sighpYa, col=\"black\", cex=1.7, pch=19)\n",
    "        points(sighpXb, sighpYb, col=\"black\", cex=1.7, pch=1)\n",
    "    }    \n",
    "#   Plot mid-line (where e1 = e2 on each isoline [and between isolines])\n",
    "    lines(sigmidXa, sigmidYa, col=\"black\", lwd=1, lty='solid')\n",
    "    lines(sigmidXb, sigmidYb, col=\"black\", lwd=1, lty='dashed')\n",
    "#   symbols(x=sigcritXb[11], y=sigcritYb[11], circles=1, inches=1/3, ann=F, bg=\"steelblue2\", fg=NULL, add=TRUE)\n",
    "#   Plot point(s) at state-of-the-art (soa) for absolute error in each member of the input pair\n",
    "#   - pH has 2 points (random & overall error); other 3 input variables only have 1 point\n",
    "    points(sigsoaX, sigsoaY, col=\"black\", cex=1.7, pch=4)\n",
    "    axis(1,labels=TRUE, tcl=-0.35, cex.axis=1.3) \n",
    "    axis(2, tcl=-0.35, labels=FALSE, las=0) \n",
    "    title(xlab = xlab, cex.lab = 1.4, line = 2.9)\n",
    "    title(ylab = ylab, cex.lab = 1.4, line = 1.9)\n",
    "\n",
    "#   Add 2 colored text strings near origin to indicate the propagated error at the origin (from constants only)\n",
    "    a0 <- za[1,1]\n",
    "    b0 <- zb[1,1]\n",
    "    if (a0 < 1) {ndiga <- 2} else {ndiga <- 3}\n",
    "    if (b0 < 1) {ndigb <- 2} else {ndigb <- 3}\n",
    "    mtext( format(a0, digits=ndiga), side=1, line=2.5, at=0, srt=0,  cex=1.05, col='blue')\n",
    "    mtext( format(b0, digits=ndigb), side=2, line=1.5, at=0, srt=90, cex=1.05, col='red')\n",
    "\n",
    "#  'contour' command MUST come after any 'plot', 'lines', or 'points' commands \n",
    "#   For 'method', use 'simple, edge or flattest (flattest looks best but seems to fail often when lines are vertical)\n",
    "    contour(x, y , za, levels=levels1, method=methoda, col=\"blue\", lty=1, lwd=2, \n",
    "            yaxt='n', , labcex=1.0, add=TRUE)\n",
    "    axis(2, tcl=-0.35, labels=FALSE) \n",
    "\n",
    "    contour(x, y, zb, levels=levels2, method=methodb, col='red',lty=2,lwd=2, labcex=1.0, add=TRUE, axes=FALSE)    \n",
    "    axis(1,labels=FALSE, tcl=-0.35) ; \n",
    "    axis(2, tcl=-0.35, labels=FALSE, las=0) ; \n",
    "    axis(2, lwd=0, line=-0.4, las=2, labels=TRUE, cex.axis=1.4)\n",
    "    axis(3,labels=FALSE,tcl=-0.35) ; axis(4,labels=FALSE,tcl=-0.25)\n",
    "    done <- c('error contour plot')\n",
    "#return(NULL)\n",
    "}"
   ]
  },
  {
   "cell_type": "markdown",
   "metadata": {},
   "source": [
    "#### 4.3.2 Plot Absolute errors"
   ]
  },
  {
   "cell_type": "markdown",
   "metadata": {},
   "source": [
    "#### 4.3.4 Plot Relative error in CO3  for 1 input pairs (1 subplot each): pH-At, At-Ct"
   ]
  },
  {
   "cell_type": "code",
   "execution_count": 38,
   "metadata": {
    "collapsed": false
   },
   "outputs": [
    {
     "data": {
      "image/png": "[encoded data removed]"
     },
     "metadata": {},
     "output_type": "display_data"
    }
   ],
   "source": [
    "%%R\n",
    "### Start PDF device driver to save output to figure.pdf\n",
    "# Comment out line below & last line of this script to display resulting graph on computer screen\n",
    "# pdf(file=\"halfway_CO3.pdf\",  width=10.0, height=7.0)\n",
    "\n",
    "  options(repr.plot.width=10.0, repr.plot.height=7)\n",
    "\n",
    "#  par(mfrow=c(2,3), mar=c(6,4.7,3,2), oma=c(0,0,0,0.5), mgp=c(2,1,0), font.main=1) \n",
    "\n",
    "    dim(rCO3socn) <- c(length(DIC_e), length(ALK_e))\n",
    "    dim(rCO3trop) <- c(length(DIC_e), length(ALK_e))\n",
    "\n",
    "    dim(rCO3_pHAt_socn) <- c(length(pCO2_e), length(pH_e))\n",
    "    dim(rCO3_pHAt_trop) <- c(length(pCO2_e), length(pH_e))\n",
    "\n",
    "   \n",
    "#   pdf(file=\"Fig_AbsErrContours2_trop_socn.pdf\")\n",
    "#   par(mfrow=c(2,3), mar=c(3,3.4,2,1.5), oma=c(2,0,0,0.5), mgp=c(2,1,0), font.main=1) \n",
    "    par(mfrow=c(2,3), mar=c(4,3.7,1,1.5)+0.1, oma=c(2,0,0,0.5), mgp=c(2,1,0), font.main=1) \n",
    "\n",
    "    subtitle <- NULL\n",
    " \n",
    "#   1. pH-At\n",
    "#   -------------------\n",
    "#   subtitle <- expression(paste(sigma[pH],\" (\",mu,\"mol kg\"^{-1},\")\", sep=\"\"))\n",
    "    xlabel <- expression(paste(sigma[pH],\" (total scale)\",sep=\"\"))\n",
    "    ylabel <- expression(paste(sigma[italic(\"A\")[T]],\" (\",mu,\"mol kg\"^{-1},\")\",sep=\"\"))\n",
    "#   region 'a' is Southern Ocean; region 'b' is Tropics\n",
    "#   xrel <- 100./vars_pHAt_socn$CO3[1]\n",
    "#   hrel <- 100. * log(10)\n",
    "#   arel <- 100./vars_pHAt_socn$ALK[1]\n",
    "    sigcritXa <- sig1_pHAt_socn$CO3 ;  sigcritYa <- sig2_pHAt_socn$CO3\n",
    "    sigcritXb <- sig1_pHAt_trop$CO3 ;  sigcritYb <- sig2_pHAt_trop$CO3\n",
    "    x <- pH_e           ;  y <- ALK_e * 1e+6\n",
    "    za <- rCO3_pHAt_socn   ;  zb <- rCO3_pHAt_trop \n",
    "    xlim <- c(0,0.03) ; ylim <- c(0,20) \n",
    "    levels1 <- c(4.2, seq(4,7,by=1))   ;  levels2 <- c(3.75, seq(4,7,by=1))\n",
    "\n",
    "    plterrcontourR (sigcritXa, sigcritYa, xlabel, ylabel, subtitle, xlim, ylim,\n",
    "                   sigcritXb, sigcritYb,\n",
    "                   NULL, NULL,\n",
    "                   NULL, NULL,\n",
    "                   zenon(sigm1_pHAt_socn$CO3), zenon(sigm2_pHAt_socn$CO3),\n",
    "                   zenon(sigm1_pHAt_trop$CO3), zenon(sigm2_pHAt_trop$CO3),\n",
    "                   pH_e_soa2, ALK_e_soa2,\n",
    "                   x, y, za, levels1,\n",
    "                         zb, levels2,\n",
    "                   'edge', 'simple')\n",
    "\n",
    "\n",
    "#   6. At-Ct\n",
    "#   -------------------\n",
    "    xlabel <- expression(paste(sigma[italic(\"C\")[T]],\" (\",mu,\"mol kg\"^{-1},\")\",sep=\"\"))\n",
    "    ylabel <- expression(paste(sigma[italic(\"A\")[T]],\" (\",mu,\"mol kg\"^{-1},\")\",sep=\"\"))\n",
    "#   subtitle <- expression(paste(sigma[CO[3]^{\"2-\"}],\" (\",mu,\"mol kg\"^{-1},\")\", sep=\"\"))\n",
    "#   region 'a' is Southern Ocean; region 'b' is Tropics\n",
    "    sigcritXa <- sig2_AtCt_socn$CO3  ;  sigcritYa <- sig1_AtCt_socn$CO3  #sig2_ is x axis; sig1_ is y axis\n",
    "    sigcritXb <- sig2_AtCt_trop$CO3  ;  sigcritYb <- sig1_AtCt_trop$CO3\n",
    "    x <- DIC_e*1e+6  ;  y <- ALK_e*1e+6\n",
    "    za <- rCO3socn  ;  zb <- rCO3trop\n",
    "    xlim <- c(0,20)  ; ylim <- xlim\n",
    "    levels1 <- c(1,seq(2,20,by=2))  ;  levels2 <- levels1\n",
    "\n",
    "    plterrcontourR (sigcritXa, sigcritYa, xlabel, ylabel, subtitle, xlim, ylim,\n",
    "                   sigcritXb, sigcritYb,\n",
    "                   NULL, NULL,\n",
    "                   NULL, NULL,\n",
    "                   zenon(sigm2_AtCt_socn$CO3), zenon(sigm1_AtCt_socn$CO3),\n",
    "                   zenon(sigm2_AtCt_trop$CO3), zenon(sigm1_AtCt_trop$CO3),\n",
    "                   DIC_e_soa2, ALK_e_soa2,\n",
    "                   x, y, za, levels1,\n",
    "                         zb, levels2,\n",
    "                   'flattest', 'edge')\n",
    "\n",
    "# Turn off device driver (to flush output to PDF)\n",
    "# dev.off()"
   ]
  },
  {
   "cell_type": "markdown",
   "metadata": {},
   "source": [
    "***Figure:*** Percent relative uncertainty in computed $[\\text{CO}_3^{2-}]$ from six input pairs as a function of uncertainties in each member of each pair. Pairs and members are indicated by the x- and y-axis labels. Results are shown for the Southern Ocean (blue solid lines) and the tropics (red dashed lines). Sublots without pH as an input member also include the halfway curve for the Southern Ocean (black solid line) and the tropics (black dashed line). The halfway point is indicated for the Southern Ocean (filled circle) and the tropics (open circle), when it is not beyond the outer limits of the plot."
   ]
  }
 ],
 "metadata": {
  "kernelspec": {
   "display_name": "Python 2",
   "language": "python",
   "name": "python2"
  },
  "language_info": {
   "codemirror_mode": {
    "name": "ipython",
    "version": 2
   },
   "file_extension": ".py",
   "mimetype": "text/x-python",
   "name": "python",
   "nbconvert_exporter": "python",
   "pygments_lexer": "ipython2",
   "version": "2.7.12"
  }
 },
 "nbformat": 4,
 "nbformat_minor": 0
}
