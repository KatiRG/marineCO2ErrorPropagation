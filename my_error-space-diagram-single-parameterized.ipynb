{
 "cells": [
  {
   "cell_type": "markdown",
   "metadata": {},
   "source": [
    "# Error-space diagram - example for 1 input pair, 1 derived var, 1 region"
   ]
  },
  {
   "cell_type": "markdown",
   "metadata": {},
   "source": [
    "#### Load needed packages"
   ]
  },
  {
   "cell_type": "code",
   "execution_count": 1,
   "metadata": {
    "collapsed": false
   },
   "outputs": [],
   "source": [
    "import rpy2\n",
    "\n",
    "# necessary to workaround the error: /u01/anaconda2/lib/libreadline.so.6: undefined symbol: PC\n",
    "# https://www.rittmanmead.com/blog/2016/07/using-r-jupyter-notebooks-big-data-discovery/\n",
    "import readline\n",
    "\n",
    "%load_ext rpy2.ipython"
   ]
  },
  {
   "cell_type": "code",
   "execution_count": 2,
   "metadata": {
    "collapsed": false,
    "scrolled": false
   },
   "outputs": [
    {
     "name": "stderr",
     "output_type": "stream",
     "text": [
      "/homel/cnangini/anaconda/lib/python2.7/site-packages/rpy2/rinterface/__init__.py:186: RRuntimeWarning: Le chargement a nécessité le package : oce\n",
      "\n",
      "  warnings.warn(x, RRuntimeWarning)\n",
      "/homel/cnangini/anaconda/lib/python2.7/site-packages/rpy2/rinterface/__init__.py:186: RRuntimeWarning: Le chargement a nécessité le package : gsw\n",
      "\n",
      "  warnings.warn(x, RRuntimeWarning)\n"
     ]
    },
    {
     "data": {
      "text/plain": [
       "[1] ‘3.1.1’\n"
      ]
     },
     "metadata": {},
     "output_type": "display_data"
    }
   ],
   "source": [
    "%%R\n",
    "#libraries previously installed using:\n",
    "library(seacarb)\n",
    "library(oce)\n",
    "library(gsw)\n",
    "\n",
    "#library(Hmisc)   #for minor ticks in plot\n",
    "\n",
    "packageVersion('seacarb')"
   ]
  },
  {
   "cell_type": "markdown",
   "metadata": {},
   "source": [
    "## 1. Get routines and specify input vars"
   ]
  },
  {
   "cell_type": "markdown",
   "metadata": {},
   "source": [
    "### 1.1 Read in new and modified functions "
   ]
  },
  {
   "cell_type": "markdown",
   "metadata": {},
   "source": [
    "The commands below read in routines that have been modified (derivnum and errors) or are completely new relative to the standard version of the seacarb distribution.  You can get these new and modified routines from github:\n",
    "\n",
    "git clone https://github.com/jamesorr/seacarb-git.git\n",
    "\n",
    "Then just change the directory in the 4 lines of the cell just below:"
   ]
  },
  {
   "cell_type": "code",
   "execution_count": 3,
   "metadata": {
    "collapsed": true
   },
   "outputs": [],
   "source": [
    "%%R\n",
    "#branch buffesm1 of seacarb-git\n",
    "source(\"/homel/cnangini/PROJECTS/seacarb-git/R/errhalf.R\")\n",
    "source(\"/homel/cnangini/PROJECTS/seacarb-git/R/errmid.R\")\n",
    "source(\"/homel/cnangini/PROJECTS/seacarb-git/R/errors.R\")\n",
    "source(\"/homel/cnangini/PROJECTS/seacarb-git/R/derivnum.R\")"
   ]
  },
  {
   "cell_type": "markdown",
   "metadata": {},
   "source": [
    "### 1.2 Specify input variables and their corresponding uncertainties (errors)"
   ]
  },
  {
   "cell_type": "code",
   "execution_count": 829,
   "metadata": {
    "collapsed": true
   },
   "outputs": [],
   "source": [
    "%%R\n",
    "#User inputs\n",
    "\n",
    "# Specify flag\n",
    "  menu_flag = 15  #var1=ALK, var2=DIC\n",
    "#    menu_flag = 8   #var1=pH, var2=ALK\n",
    "#  menu_flag = 25  #var1=pCO2, var2=DIC\n",
    "#   menu_flag = 21  #var1=pCO2, var2=pH\n"
   ]
  },
  {
   "cell_type": "code",
   "execution_count": 830,
   "metadata": {
    "collapsed": false
   },
   "outputs": [
    {
     "data": {
      "text/plain": [
       "NULL\n"
      ]
     },
     "metadata": {},
     "output_type": "display_data"
    }
   ],
   "source": [
    "%%R\n",
    "# max_error1  = 20\n",
    "# max_error2  = 10\n",
    "# redn = 1\n",
    "# numpts = 20\n",
    "\n",
    "# seq(0., max_error1, (max_error1/numpts)*(1.0/redn) )\n",
    "\n",
    "# seq(0., max_error2, (max_error2/numpts)*(1.0/redn) )"
   ]
  },
  {
   "cell_type": "code",
   "execution_count": 878,
   "metadata": {
    "collapsed": false
   },
   "outputs": [],
   "source": [
    "%%R\n",
    "\n",
    "  temp = -0.49    #C\n",
    "  salt = 33.96    #psu\n",
    "  press = 0       #bar\n",
    "  Phos = 2.e-6    #(umol/kg)\n",
    "  Sil = 60.e-6    #(umol/kg)\n",
    " \n",
    "  numpts = 20\n",
    "  redn = 1  #0.5 #50% reduction\n",
    "  \n",
    "\n",
    "\n",
    "  if (menu_flag == 15){#var1=ALK, var2=DIC\n",
    "      \n",
    "      scalefactor1 = 1e+6 #ALK\n",
    "      scalefactor2 = 1e+6 #DIC\n",
    "      \n",
    "      max_error1  = 20\n",
    "      max_error2  = 10\n",
    "      \n",
    "      # Input variables:\n",
    "      var1 = 2295 * 1e-6  #(umol/kg)\n",
    "      var2 = 2155 * 1e-6  #(umol/kg)\n",
    "      \n",
    "      # Uncertainties in input variables      \n",
    "      var1_e <- seq(0., max_error1, (max_error1/numpts)*(1.0/redn) ) * 1e-6\n",
    "      var2_e <- seq(0., max_error2, (max_error2/numpts)*(1.0/redn) ) * 1e-6\n",
    "      \n",
    "      var1_e_soa   <- 2 #umol/kg\n",
    "      var2_e_soa   <- 2 #umol/kg\n",
    "\n",
    "      var1_e_soa2  <- c(var1_e_soa, var1_e_soa)\n",
    "      var2_e_soa2  <- c(var2_e_soa, var2_e_soa)\n",
    "\n",
    "      # for plot\n",
    "      x <- var2_e*1e+6  ;  y <- var1_e*1e+6      \n",
    "      xlim <- c(0,max_error2)  ; ylim <-c(0,max_error1)\n",
    "      levels1 <- c(1,seq(2,20,by=1))\n",
    "      xlabel <- expression(paste(sigma[italic(\"C\")[T]],\" (\",mu,\"mol kg\"^{-1},\")\",sep=\"\"))\n",
    "      ylabel <- expression(paste(sigma[italic(\"A\")[T]],\" (\",mu,\"mol kg\"^{-1},\")\",sep=\"\"))\n",
    "      \n",
    "  } else if (menu_flag == 8) {#var1=pH, var2=ALK\n",
    "      scalefactor1 = 1 #pH\n",
    "      scalefactor2 = 1e+6 #ALK\n",
    "      \n",
    "      # Input variables:\n",
    "      var1 = 8.111823\n",
    "      var2 = 2295  * 1e-6  #(umol/kg)\n",
    "      \n",
    "      # Uncertainties in input variables      \n",
    "#       var1_e <- seq(0,0.03,0.0015/redn)\n",
    "      var1_e <- seq(0,0.03,0.0015/redn) ####test pH\n",
    "      var2_e <- seq(0., 100, (100/numpts)*(1.0/redn) ) * 1e-6\n",
    "      \n",
    "      var1_e_soa   <- c(0.003, 0.01)\n",
    "#       var1_e_soa   <- c(0.005, 0.01) ###test\n",
    "      var2_e_soa   <- 2 #umol/kg\n",
    "      \n",
    "      var1_e_soa2  <- var1_e_soa\n",
    "      var2_e_soa2  <- c(var2_e_soa, var2_e_soa)\n",
    "      \n",
    "      # for plot\n",
    "      x <- var1_e           ;  y <- var2_e * 1e+6\n",
    "      xlim <- c(0,0.03) ; ylim <- c(0,100) \n",
    "      levels1 <- c(4.2, seq(4,7,by=1))\n",
    "      xlabel <- expression(paste(sigma[pH],\" (total scale)\",sep=\"\"))\n",
    "      ylabel <- expression(paste(sigma[italic(\"A\")[T]],\" (\",mu,\"mol kg\"^{-1},\")\",sep=\"\"))\n",
    "  \n",
    "  } else if (menu_flag == 21) {#var1=pCO2, var2=pH\n",
    "      scalefactor1 = 1 #pCO2\n",
    "      scalefactor2 = 1 #pH\n",
    "      \n",
    "      # Input variables:\n",
    "      var1 = 330.5511 #uatm\n",
    "      var2 = 8.1\n",
    "      \n",
    "      # Uncertainties in input variables      \n",
    "      var1_e <- seq(0,maxlim,1/redn)\n",
    "      var2_e <- seq(0,0.03,0.0015/redn)\n",
    "      \n",
    "      var1_e_soa   <- 2\n",
    "      var2_e_soa   <- c(0.003, 0.01)\n",
    "      \n",
    "      var1_e_soa2  <- c(var1_e_soa, var1_e_soa)\n",
    "      var2_e_soa2  <- var2_e_soa\n",
    "      \n",
    "      # for plot\n",
    "      x <- var2_e           ;  y <- var1_e\n",
    "      xlim <- c(0,0.03)  ; ylim <- c(0,maxlim)\n",
    "      levels1 <- c(7,seq(0,maxlim,by=1))\n",
    "      xlabel <- expression(paste(sigma[pH],\" (total scale)\",sep=\"\"))\n",
    "      ylabel <- expression(paste(sigma[pCO[2]],\" (\",mu,\"atm\",\")\",sep=\"\"))    \n",
    "      \n",
    "\n",
    "   } else if (menu_flag == 25) {#var1=pCO2, var2=DIC\n",
    "      scalefactor1 = 1 #pCO2\n",
    "      scalefactor2 = 1e+6 #DIC\n",
    "      \n",
    "      # Input variables:\n",
    "      var1 = 330.5511 #uatm\n",
    "      var2 = 2155 * 1e-6  #(umol/kg)\n",
    "      \n",
    "      # Uncertainties in input variables      \n",
    "      var1_e <- seq(0,maxlim,1/redn)\n",
    "      var2_e <- seq(0., maxlim, 1/redn) * 1e-6\n",
    "      \n",
    "      var1_e_soa   <- 2\n",
    "      var2_e_soa   <- 2 #umol/kg\n",
    "      \n",
    "      var1_e_soa2  <- c(var1_e_soa, var1_e_soa)\n",
    "      var2_e_soa2  <- c(var2_e_soa, var2_e_soa)\n",
    "      \n",
    "      # for plot\n",
    "      x <- var1_e           ;  y <- var2_e * 1e+6\n",
    "      xlim <- c(0,maxlim)  ; ylim <- xlim\n",
    "      levels1 <- c(4.7,seq(1,maxlim,by=1))\n",
    "      xlabel <- expression(paste(sigma[pCO[2]],\" (\",mu,\"atm\",\")\",sep=\"\"))\n",
    "      ylabel <- expression(paste(sigma[italic(\"C\")[T]],\" (\",mu,\"mol kg\"^{-1},\")\",sep=\"\"))\n",
    "      \n",
    "  }\n",
    " \n",
    "\n"
   ]
  },
  {
   "cell_type": "markdown",
   "metadata": {},
   "source": [
    "### 1.3 Default uncertainties in equilibrium constants (pK0, pK1, pK2, pKb, pKw, pKa, pKc, Bt)"
   ]
  },
  {
   "cell_type": "code",
   "execution_count": 879,
   "metadata": {
    "collapsed": true
   },
   "outputs": [],
   "source": [
    "%%R\n",
    "# Estimates for errors in constants in errors.R routine (from Orr et al., 2017)\n",
    "#   epKstd  <- c(0.004, 0.015,  0.03, 0.01,  0.01, 0.02, 0.02, 0.01)\n",
    "epKstd  <- c(0.002, 0.01,  0.02, 0.01,  0.01, 0.01, 0.01, 0.00)\n",
    "# epKstd  <- c(0.004, 0.015,  0.03, 0.01,  0.01, 0.02, 0.02)"
   ]
  },
  {
   "cell_type": "markdown",
   "metadata": {},
   "source": [
    "### 1.3 Compute derived carbonate system vars with std seacarb routine `carb`:"
   ]
  },
  {
   "cell_type": "code",
   "execution_count": 880,
   "metadata": {
    "collapsed": false
   },
   "outputs": [],
   "source": [
    "%%R\n",
    "# Compute derived carbonate system variables with standard seacarb routine 'carb':\n",
    "\n",
    "# Southern Ocean\n",
    "vars <- carb  (flag=menu_flag, var1=var1, var2=var2, S=salt, T=temp, Patm=1, P=press, Pt=Phos, Sit=Sil, \n",
    "                    k1k2='w14', kf='dg', ks=\"d\", pHscale=\"T\", b=\"u74\", gas=\"potential\", warn='n')\n",
    "\n",
    "pH <- vars$pH\n",
    "pCO2 <- vars$pCO2\n",
    "\n",
    "# Compute H+ from pH, i.e., pH = -log10[H+], where [H+] is the hydrogen ion concentration in mol/kg\n",
    "H = 10^(-1*vars$pH)\n",
    "\n",
    "# Keep only key columns to be consistent with output from 'errors.R' routine (called below)\n",
    "vars <- data.frame(H, vars[,c('pH','CO2','fCO2','pCO2','HCO3','CO3','OmegaAragonite','OmegaCalcite')] )\n",
    "vars\n",
    "\n",
    "# Duplicate rows in *vars* until same as number of members of error vector ALK_e\n",
    "numerrs <- length(var1_e)\n",
    "vars <- vars[rep(row.names(vars), numerrs), ]\n"
   ]
  },
  {
   "cell_type": "markdown",
   "metadata": {},
   "source": [
    "### 1.4 Use 1-D error vectors to build 2-D error array (to plot contours in DIC-ALK space)  "
   ]
  },
  {
   "cell_type": "code",
   "execution_count": 881,
   "metadata": {
    "collapsed": false
   },
   "outputs": [],
   "source": [
    "%%R\n",
    "if (menu_flag == 15) dat <- expand.grid(var2_e, var1_e)\n",
    "    \n",
    "else if (menu_flag == 8 || menu_flag == 9 || menu_flag == 21 || menu_flag == 24 || menu_flag == 25) {\n",
    "    dat <- expand.grid(var1_e,  var2_e)\n",
    "}\n",
    "\n",
    "#   dat_pCO2Ct <- expand.grid(pCO2_e,  DIC_e) #flag 25"
   ]
  },
  {
   "cell_type": "code",
   "execution_count": 882,
   "metadata": {
    "collapsed": false
   },
   "outputs": [
    {
     "data": {
      "text/plain": [
       "       Var1    Var2\n",
       "1   0.0e+00 0.0e+00\n",
       "2   5.0e-07 0.0e+00\n",
       "3   1.0e-06 0.0e+00\n",
       "4   1.5e-06 0.0e+00\n",
       "5   2.0e-06 0.0e+00\n",
       "6   2.5e-06 0.0e+00\n",
       "7   3.0e-06 0.0e+00\n",
       "8   3.5e-06 0.0e+00\n",
       "9   4.0e-06 0.0e+00\n",
       "10  4.5e-06 0.0e+00\n",
       "11  5.0e-06 0.0e+00\n",
       "12  5.5e-06 0.0e+00\n",
       "13  6.0e-06 0.0e+00\n",
       "14  6.5e-06 0.0e+00\n",
       "15  7.0e-06 0.0e+00\n",
       "16  7.5e-06 0.0e+00\n",
       "17  8.0e-06 0.0e+00\n",
       "18  8.5e-06 0.0e+00\n",
       "19  9.0e-06 0.0e+00\n",
       "20  9.5e-06 0.0e+00\n",
       "21  1.0e-05 0.0e+00\n",
       "22  0.0e+00 1.0e-06\n",
       "23  5.0e-07 1.0e-06\n",
       "24  1.0e-06 1.0e-06\n",
       "25  1.5e-06 1.0e-06\n",
       "26  2.0e-06 1.0e-06\n",
       "27  2.5e-06 1.0e-06\n",
       "28  3.0e-06 1.0e-06\n",
       "29  3.5e-06 1.0e-06\n",
       "30  4.0e-06 1.0e-06\n",
       "31  4.5e-06 1.0e-06\n",
       "32  5.0e-06 1.0e-06\n",
       "33  5.5e-06 1.0e-06\n",
       "34  6.0e-06 1.0e-06\n",
       "35  6.5e-06 1.0e-06\n",
       "36  7.0e-06 1.0e-06\n",
       "37  7.5e-06 1.0e-06\n",
       "38  8.0e-06 1.0e-06\n",
       "39  8.5e-06 1.0e-06\n",
       "40  9.0e-06 1.0e-06\n",
       "41  9.5e-06 1.0e-06\n",
       "42  1.0e-05 1.0e-06\n",
       "43  0.0e+00 2.0e-06\n",
       "44  5.0e-07 2.0e-06\n",
       "45  1.0e-06 2.0e-06\n",
       "46  1.5e-06 2.0e-06\n",
       "47  2.0e-06 2.0e-06\n",
       "48  2.5e-06 2.0e-06\n",
       "49  3.0e-06 2.0e-06\n",
       "50  3.5e-06 2.0e-06\n",
       "51  4.0e-06 2.0e-06\n",
       "52  4.5e-06 2.0e-06\n",
       "53  5.0e-06 2.0e-06\n",
       "54  5.5e-06 2.0e-06\n",
       "55  6.0e-06 2.0e-06\n",
       "56  6.5e-06 2.0e-06\n",
       "57  7.0e-06 2.0e-06\n",
       "58  7.5e-06 2.0e-06\n",
       "59  8.0e-06 2.0e-06\n",
       "60  8.5e-06 2.0e-06\n",
       "61  9.0e-06 2.0e-06\n",
       "62  9.5e-06 2.0e-06\n",
       "63  1.0e-05 2.0e-06\n",
       "64  0.0e+00 3.0e-06\n",
       "65  5.0e-07 3.0e-06\n",
       "66  1.0e-06 3.0e-06\n",
       "67  1.5e-06 3.0e-06\n",
       "68  2.0e-06 3.0e-06\n",
       "69  2.5e-06 3.0e-06\n",
       "70  3.0e-06 3.0e-06\n",
       "71  3.5e-06 3.0e-06\n",
       "72  4.0e-06 3.0e-06\n",
       "73  4.5e-06 3.0e-06\n",
       "74  5.0e-06 3.0e-06\n",
       "75  5.5e-06 3.0e-06\n",
       "76  6.0e-06 3.0e-06\n",
       "77  6.5e-06 3.0e-06\n",
       "78  7.0e-06 3.0e-06\n",
       "79  7.5e-06 3.0e-06\n",
       "80  8.0e-06 3.0e-06\n",
       "81  8.5e-06 3.0e-06\n",
       "82  9.0e-06 3.0e-06\n",
       "83  9.5e-06 3.0e-06\n",
       "84  1.0e-05 3.0e-06\n",
       "85  0.0e+00 4.0e-06\n",
       "86  5.0e-07 4.0e-06\n",
       "87  1.0e-06 4.0e-06\n",
       "88  1.5e-06 4.0e-06\n",
       "89  2.0e-06 4.0e-06\n",
       "90  2.5e-06 4.0e-06\n",
       "91  3.0e-06 4.0e-06\n",
       "92  3.5e-06 4.0e-06\n",
       "93  4.0e-06 4.0e-06\n",
       "94  4.5e-06 4.0e-06\n",
       "95  5.0e-06 4.0e-06\n",
       "96  5.5e-06 4.0e-06\n",
       "97  6.0e-06 4.0e-06\n",
       "98  6.5e-06 4.0e-06\n",
       "99  7.0e-06 4.0e-06\n",
       "100 7.5e-06 4.0e-06\n",
       "101 8.0e-06 4.0e-06\n",
       "102 8.5e-06 4.0e-06\n",
       "103 9.0e-06 4.0e-06\n",
       "104 9.5e-06 4.0e-06\n",
       "105 1.0e-05 4.0e-06\n",
       "106 0.0e+00 5.0e-06\n",
       "107 5.0e-07 5.0e-06\n",
       "108 1.0e-06 5.0e-06\n",
       "109 1.5e-06 5.0e-06\n",
       "110 2.0e-06 5.0e-06\n",
       "111 2.5e-06 5.0e-06\n",
       "112 3.0e-06 5.0e-06\n",
       "113 3.5e-06 5.0e-06\n",
       "114 4.0e-06 5.0e-06\n",
       "115 4.5e-06 5.0e-06\n",
       "116 5.0e-06 5.0e-06\n",
       "117 5.5e-06 5.0e-06\n",
       "118 6.0e-06 5.0e-06\n",
       "119 6.5e-06 5.0e-06\n",
       "120 7.0e-06 5.0e-06\n",
       "121 7.5e-06 5.0e-06\n",
       "122 8.0e-06 5.0e-06\n",
       "123 8.5e-06 5.0e-06\n",
       "124 9.0e-06 5.0e-06\n",
       "125 9.5e-06 5.0e-06\n",
       "126 1.0e-05 5.0e-06\n",
       "127 0.0e+00 6.0e-06\n",
       "128 5.0e-07 6.0e-06\n",
       "129 1.0e-06 6.0e-06\n",
       "130 1.5e-06 6.0e-06\n",
       "131 2.0e-06 6.0e-06\n",
       "132 2.5e-06 6.0e-06\n",
       "133 3.0e-06 6.0e-06\n",
       "134 3.5e-06 6.0e-06\n",
       "135 4.0e-06 6.0e-06\n",
       "136 4.5e-06 6.0e-06\n",
       "137 5.0e-06 6.0e-06\n",
       "138 5.5e-06 6.0e-06\n",
       "139 6.0e-06 6.0e-06\n",
       "140 6.5e-06 6.0e-06\n",
       "141 7.0e-06 6.0e-06\n",
       "142 7.5e-06 6.0e-06\n",
       "143 8.0e-06 6.0e-06\n",
       "144 8.5e-06 6.0e-06\n",
       "145 9.0e-06 6.0e-06\n",
       "146 9.5e-06 6.0e-06\n",
       "147 1.0e-05 6.0e-06\n",
       "148 0.0e+00 7.0e-06\n",
       "149 5.0e-07 7.0e-06\n",
       "150 1.0e-06 7.0e-06\n",
       "151 1.5e-06 7.0e-06\n",
       "152 2.0e-06 7.0e-06\n",
       "153 2.5e-06 7.0e-06\n",
       "154 3.0e-06 7.0e-06\n",
       "155 3.5e-06 7.0e-06\n",
       "156 4.0e-06 7.0e-06\n",
       "157 4.5e-06 7.0e-06\n",
       "158 5.0e-06 7.0e-06\n",
       "159 5.5e-06 7.0e-06\n",
       "160 6.0e-06 7.0e-06\n",
       "161 6.5e-06 7.0e-06\n",
       "162 7.0e-06 7.0e-06\n",
       "163 7.5e-06 7.0e-06\n",
       "164 8.0e-06 7.0e-06\n",
       "165 8.5e-06 7.0e-06\n",
       "166 9.0e-06 7.0e-06\n",
       "167 9.5e-06 7.0e-06\n",
       "168 1.0e-05 7.0e-06\n",
       "169 0.0e+00 8.0e-06\n",
       "170 5.0e-07 8.0e-06\n",
       "171 1.0e-06 8.0e-06\n",
       "172 1.5e-06 8.0e-06\n",
       "173 2.0e-06 8.0e-06\n",
       "174 2.5e-06 8.0e-06\n",
       "175 3.0e-06 8.0e-06\n",
       "176 3.5e-06 8.0e-06\n",
       "177 4.0e-06 8.0e-06\n",
       "178 4.5e-06 8.0e-06\n",
       "179 5.0e-06 8.0e-06\n",
       "180 5.5e-06 8.0e-06\n",
       "181 6.0e-06 8.0e-06\n",
       "182 6.5e-06 8.0e-06\n",
       "183 7.0e-06 8.0e-06\n",
       "184 7.5e-06 8.0e-06\n",
       "185 8.0e-06 8.0e-06\n",
       "186 8.5e-06 8.0e-06\n",
       "187 9.0e-06 8.0e-06\n",
       "188 9.5e-06 8.0e-06\n",
       "189 1.0e-05 8.0e-06\n",
       "190 0.0e+00 9.0e-06\n",
       "191 5.0e-07 9.0e-06\n",
       "192 1.0e-06 9.0e-06\n",
       "193 1.5e-06 9.0e-06\n",
       "194 2.0e-06 9.0e-06\n",
       "195 2.5e-06 9.0e-06\n",
       "196 3.0e-06 9.0e-06\n",
       "197 3.5e-06 9.0e-06\n",
       "198 4.0e-06 9.0e-06\n",
       "199 4.5e-06 9.0e-06\n",
       "200 5.0e-06 9.0e-06\n",
       "201 5.5e-06 9.0e-06\n",
       "202 6.0e-06 9.0e-06\n",
       "203 6.5e-06 9.0e-06\n",
       "204 7.0e-06 9.0e-06\n",
       "205 7.5e-06 9.0e-06\n",
       "206 8.0e-06 9.0e-06\n",
       "207 8.5e-06 9.0e-06\n",
       "208 9.0e-06 9.0e-06\n",
       "209 9.5e-06 9.0e-06\n",
       "210 1.0e-05 9.0e-06\n",
       "211 0.0e+00 1.0e-05\n",
       "212 5.0e-07 1.0e-05\n",
       "213 1.0e-06 1.0e-05\n",
       "214 1.5e-06 1.0e-05\n",
       "215 2.0e-06 1.0e-05\n",
       "216 2.5e-06 1.0e-05\n",
       "217 3.0e-06 1.0e-05\n",
       "218 3.5e-06 1.0e-05\n",
       "219 4.0e-06 1.0e-05\n",
       "220 4.5e-06 1.0e-05\n",
       "221 5.0e-06 1.0e-05\n",
       "222 5.5e-06 1.0e-05\n",
       "223 6.0e-06 1.0e-05\n",
       "224 6.5e-06 1.0e-05\n",
       "225 7.0e-06 1.0e-05\n",
       "226 7.5e-06 1.0e-05\n",
       "227 8.0e-06 1.0e-05\n",
       "228 8.5e-06 1.0e-05\n",
       "229 9.0e-06 1.0e-05\n",
       "230 9.5e-06 1.0e-05\n",
       "231 1.0e-05 1.0e-05\n",
       "232 0.0e+00 1.1e-05\n",
       "233 5.0e-07 1.1e-05\n",
       "234 1.0e-06 1.1e-05\n",
       "235 1.5e-06 1.1e-05\n",
       "236 2.0e-06 1.1e-05\n",
       "237 2.5e-06 1.1e-05\n",
       "238 3.0e-06 1.1e-05\n",
       "239 3.5e-06 1.1e-05\n",
       "240 4.0e-06 1.1e-05\n",
       "241 4.5e-06 1.1e-05\n",
       "242 5.0e-06 1.1e-05\n",
       "243 5.5e-06 1.1e-05\n",
       "244 6.0e-06 1.1e-05\n",
       "245 6.5e-06 1.1e-05\n",
       "246 7.0e-06 1.1e-05\n",
       "247 7.5e-06 1.1e-05\n",
       "248 8.0e-06 1.1e-05\n",
       "249 8.5e-06 1.1e-05\n",
       "250 9.0e-06 1.1e-05\n",
       "251 9.5e-06 1.1e-05\n",
       "252 1.0e-05 1.1e-05\n",
       "253 0.0e+00 1.2e-05\n",
       "254 5.0e-07 1.2e-05\n",
       "255 1.0e-06 1.2e-05\n",
       "256 1.5e-06 1.2e-05\n",
       "257 2.0e-06 1.2e-05\n",
       "258 2.5e-06 1.2e-05\n",
       "259 3.0e-06 1.2e-05\n",
       "260 3.5e-06 1.2e-05\n",
       "261 4.0e-06 1.2e-05\n",
       "262 4.5e-06 1.2e-05\n",
       "263 5.0e-06 1.2e-05\n",
       "264 5.5e-06 1.2e-05\n",
       "265 6.0e-06 1.2e-05\n",
       "266 6.5e-06 1.2e-05\n",
       "267 7.0e-06 1.2e-05\n",
       "268 7.5e-06 1.2e-05\n",
       "269 8.0e-06 1.2e-05\n",
       "270 8.5e-06 1.2e-05\n",
       "271 9.0e-06 1.2e-05\n",
       "272 9.5e-06 1.2e-05\n",
       "273 1.0e-05 1.2e-05\n",
       "274 0.0e+00 1.3e-05\n",
       "275 5.0e-07 1.3e-05\n",
       "276 1.0e-06 1.3e-05\n",
       "277 1.5e-06 1.3e-05\n",
       "278 2.0e-06 1.3e-05\n",
       "279 2.5e-06 1.3e-05\n",
       "280 3.0e-06 1.3e-05\n",
       "281 3.5e-06 1.3e-05\n",
       "282 4.0e-06 1.3e-05\n",
       "283 4.5e-06 1.3e-05\n",
       "284 5.0e-06 1.3e-05\n",
       "285 5.5e-06 1.3e-05\n",
       "286 6.0e-06 1.3e-05\n",
       "287 6.5e-06 1.3e-05\n",
       "288 7.0e-06 1.3e-05\n",
       "289 7.5e-06 1.3e-05\n",
       "290 8.0e-06 1.3e-05\n",
       "291 8.5e-06 1.3e-05\n",
       "292 9.0e-06 1.3e-05\n",
       "293 9.5e-06 1.3e-05\n",
       "294 1.0e-05 1.3e-05\n",
       "295 0.0e+00 1.4e-05\n",
       "296 5.0e-07 1.4e-05\n",
       "297 1.0e-06 1.4e-05\n",
       "298 1.5e-06 1.4e-05\n",
       "299 2.0e-06 1.4e-05\n",
       "300 2.5e-06 1.4e-05\n",
       "301 3.0e-06 1.4e-05\n",
       "302 3.5e-06 1.4e-05\n",
       "303 4.0e-06 1.4e-05\n",
       "304 4.5e-06 1.4e-05\n",
       "305 5.0e-06 1.4e-05\n",
       "306 5.5e-06 1.4e-05\n",
       "307 6.0e-06 1.4e-05\n",
       "308 6.5e-06 1.4e-05\n",
       "309 7.0e-06 1.4e-05\n",
       "310 7.5e-06 1.4e-05\n",
       "311 8.0e-06 1.4e-05\n",
       "312 8.5e-06 1.4e-05\n",
       "313 9.0e-06 1.4e-05\n",
       "314 9.5e-06 1.4e-05\n",
       "315 1.0e-05 1.4e-05\n",
       "316 0.0e+00 1.5e-05\n",
       "317 5.0e-07 1.5e-05\n",
       "318 1.0e-06 1.5e-05\n",
       "319 1.5e-06 1.5e-05\n",
       "320 2.0e-06 1.5e-05\n",
       "321 2.5e-06 1.5e-05\n",
       "322 3.0e-06 1.5e-05\n",
       "323 3.5e-06 1.5e-05\n",
       "324 4.0e-06 1.5e-05\n",
       "325 4.5e-06 1.5e-05\n",
       "326 5.0e-06 1.5e-05\n",
       "327 5.5e-06 1.5e-05\n",
       "328 6.0e-06 1.5e-05\n",
       "329 6.5e-06 1.5e-05\n",
       "330 7.0e-06 1.5e-05\n",
       "331 7.5e-06 1.5e-05\n",
       "332 8.0e-06 1.5e-05\n",
       "333 8.5e-06 1.5e-05\n",
       "334 9.0e-06 1.5e-05\n",
       "335 9.5e-06 1.5e-05\n",
       "336 1.0e-05 1.5e-05\n",
       "337 0.0e+00 1.6e-05\n",
       "338 5.0e-07 1.6e-05\n",
       "339 1.0e-06 1.6e-05\n",
       "340 1.5e-06 1.6e-05\n",
       "341 2.0e-06 1.6e-05\n",
       "342 2.5e-06 1.6e-05\n",
       "343 3.0e-06 1.6e-05\n",
       "344 3.5e-06 1.6e-05\n",
       "345 4.0e-06 1.6e-05\n",
       "346 4.5e-06 1.6e-05\n",
       "347 5.0e-06 1.6e-05\n",
       "348 5.5e-06 1.6e-05\n",
       "349 6.0e-06 1.6e-05\n",
       "350 6.5e-06 1.6e-05\n",
       "351 7.0e-06 1.6e-05\n",
       "352 7.5e-06 1.6e-05\n",
       "353 8.0e-06 1.6e-05\n",
       "354 8.5e-06 1.6e-05\n",
       "355 9.0e-06 1.6e-05\n",
       "356 9.5e-06 1.6e-05\n",
       "357 1.0e-05 1.6e-05\n",
       "358 0.0e+00 1.7e-05\n",
       "359 5.0e-07 1.7e-05\n",
       "360 1.0e-06 1.7e-05\n",
       "361 1.5e-06 1.7e-05\n",
       "362 2.0e-06 1.7e-05\n",
       "363 2.5e-06 1.7e-05\n",
       "364 3.0e-06 1.7e-05\n",
       "365 3.5e-06 1.7e-05\n",
       "366 4.0e-06 1.7e-05\n",
       "367 4.5e-06 1.7e-05\n",
       "368 5.0e-06 1.7e-05\n",
       "369 5.5e-06 1.7e-05\n",
       "370 6.0e-06 1.7e-05\n",
       "371 6.5e-06 1.7e-05\n",
       "372 7.0e-06 1.7e-05\n",
       "373 7.5e-06 1.7e-05\n",
       "374 8.0e-06 1.7e-05\n",
       "375 8.5e-06 1.7e-05\n",
       "376 9.0e-06 1.7e-05\n",
       "377 9.5e-06 1.7e-05\n",
       "378 1.0e-05 1.7e-05\n",
       "379 0.0e+00 1.8e-05\n",
       "380 5.0e-07 1.8e-05\n",
       "381 1.0e-06 1.8e-05\n",
       "382 1.5e-06 1.8e-05\n",
       "383 2.0e-06 1.8e-05\n",
       "384 2.5e-06 1.8e-05\n",
       "385 3.0e-06 1.8e-05\n",
       "386 3.5e-06 1.8e-05\n",
       "387 4.0e-06 1.8e-05\n",
       "388 4.5e-06 1.8e-05\n",
       "389 5.0e-06 1.8e-05\n",
       "390 5.5e-06 1.8e-05\n",
       "391 6.0e-06 1.8e-05\n",
       "392 6.5e-06 1.8e-05\n",
       "393 7.0e-06 1.8e-05\n",
       "394 7.5e-06 1.8e-05\n",
       "395 8.0e-06 1.8e-05\n",
       "396 8.5e-06 1.8e-05\n",
       "397 9.0e-06 1.8e-05\n",
       "398 9.5e-06 1.8e-05\n",
       "399 1.0e-05 1.8e-05\n",
       "400 0.0e+00 1.9e-05\n",
       "401 5.0e-07 1.9e-05\n",
       "402 1.0e-06 1.9e-05\n",
       "403 1.5e-06 1.9e-05\n",
       "404 2.0e-06 1.9e-05\n",
       "405 2.5e-06 1.9e-05\n",
       "406 3.0e-06 1.9e-05\n",
       "407 3.5e-06 1.9e-05\n",
       "408 4.0e-06 1.9e-05\n",
       "409 4.5e-06 1.9e-05\n",
       "410 5.0e-06 1.9e-05\n",
       "411 5.5e-06 1.9e-05\n",
       "412 6.0e-06 1.9e-05\n",
       "413 6.5e-06 1.9e-05\n",
       "414 7.0e-06 1.9e-05\n",
       "415 7.5e-06 1.9e-05\n",
       "416 8.0e-06 1.9e-05\n",
       "417 8.5e-06 1.9e-05\n",
       "418 9.0e-06 1.9e-05\n",
       "419 9.5e-06 1.9e-05\n",
       "420 1.0e-05 1.9e-05\n",
       "421 0.0e+00 2.0e-05\n",
       "422 5.0e-07 2.0e-05\n",
       "423 1.0e-06 2.0e-05\n",
       "424 1.5e-06 2.0e-05\n",
       "425 2.0e-06 2.0e-05\n",
       "426 2.5e-06 2.0e-05\n",
       "427 3.0e-06 2.0e-05\n",
       "428 3.5e-06 2.0e-05\n",
       "429 4.0e-06 2.0e-05\n",
       "430 4.5e-06 2.0e-05\n",
       "431 5.0e-06 2.0e-05\n",
       "432 5.5e-06 2.0e-05\n",
       "433 6.0e-06 2.0e-05\n",
       "434 6.5e-06 2.0e-05\n",
       "435 7.0e-06 2.0e-05\n",
       "436 7.5e-06 2.0e-05\n",
       "437 8.0e-06 2.0e-05\n",
       "438 8.5e-06 2.0e-05\n",
       "439 9.0e-06 2.0e-05\n",
       "440 9.5e-06 2.0e-05\n",
       "441 1.0e-05 2.0e-05\n"
      ]
     },
     "metadata": {},
     "output_type": "display_data"
    }
   ],
   "source": [
    "%%R\n",
    "dat"
   ]
  },
  {
   "cell_type": "markdown",
   "metadata": {},
   "source": [
    "### 1.5 Specify state-of-art (soa) errors for vars: from error-propagation manuscript (Orr et al. 2017, Table 1) \n",
    "\n",
    "These will be plotted as crosses on the error-space diagrams"
   ]
  },
  {
   "cell_type": "markdown",
   "metadata": {},
   "source": [
    "## 2. Compute derived variables (with `carb`) and propagated errors (with `errors`)"
   ]
  },
  {
   "cell_type": "markdown",
   "metadata": {},
   "source": [
    "### 2.1 Computations of derived vars and their errors"
   ]
  },
  {
   "cell_type": "code",
   "execution_count": 883,
   "metadata": {
    "collapsed": false
   },
   "outputs": [],
   "source": [
    "%%R\n",
    "# Compute variables\n",
    "vars <- carb  (flag=menu_flag, var1=var1, var2=var2, S=salt, T=temp, Patm=1, P=press, Pt=Phos, Sit=Sil, \n",
    "                    k1k2='w14', kf='dg', ks=\"d\", pHscale=\"T\", b=\"u74\", gas=\"potential\", warn='n')\n",
    "\n",
    "H = 10^(-1*vars$pH)         # H+ concentration (mol/kg)\n",
    "vars <- data.frame(H, vars) # Add H+ as new column to vars data frame\n",
    "\n",
    "# Absolute errors: propagated uncertainties\n",
    "if (menu_flag == 15) {\n",
    "    absEt <- errors (flag=menu_flag, var1=var1, var2=var2, S=salt, T=temp, \n",
    "                      Patm=1, P=press, Pt=Phos, Sit=Sil, \n",
    "                      evar1=dat$Var2, evar2=dat$Var1, eS=0, eT=0, ePt=0, eSit=0, epK=epKstd, #HUOM!!!                \n",
    "                      k1k2='w14', kf='dg', ks=\"d\", pHscale=\"T\", b=\"u74\", gas=\"potential\", warn='no')\n",
    "    \n",
    "} else if (menu_flag == 8 || menu_flag == 21 || menu_flag == 25) { ##NB: SWAP dat$Var2 and dat$Var1 !!!!!!\n",
    "    absEt <- errors (flag=menu_flag, var1=var1, var2=var2, S=salt, T=temp, \n",
    "                      Patm=1, P=press, Pt=Phos, Sit=Sil, \n",
    "                      evar1=dat$Var1, evar2=dat$Var2, eS=0, eT=0, ePt=0, eSit=0, epK=epKstd, #HUOM!!!\n",
    "                      k1k2='w14', kf='dg', ks=\"d\", pHscale=\"T\", b=\"u74\", gas=\"potential\", warn='no')\n",
    "}\n",
    "\n",
    "\n",
    "# Keep only key columns in vars for consistency with columns in absEt\n",
    "vars <- vars[,colnames(absEt)] \n",
    "vars\n",
    "\n",
    "# Duplicate rows in *vars* until same as number of members of error vector ALK_e\n",
    "numerrs <- length(dat$Var1)\n",
    "vars <- vars[rep(row.names(vars), numerrs), ]\n",
    "\n",
    "#Relative errors (in percent)\n",
    "relEt <- 100* absEt / vars            #Total relative error (from constants and other input variables)\n",
    "# relEt"
   ]
  },
  {
   "cell_type": "markdown",
   "metadata": {},
   "source": [
    "### 2.2 Define simpler names of variables to be plotted"
   ]
  },
  {
   "cell_type": "code",
   "execution_count": 884,
   "metadata": {
    "collapsed": false,
    "scrolled": true
   },
   "outputs": [],
   "source": [
    "%%R\n",
    "\n",
    "#   Relative changes:\n",
    "    rCO3  <- relEt$CO3\n",
    "    rH    <- relEt$H\n",
    "    rpCO2 <- relEt$pCO2\n",
    "    rCO2  <- relEt$CO2\n",
    "    #rpCO2   <- relEt$pCO2 ###DUPLICATE\n",
    "    rOmegaA <- relEt$OmegaAragonite\n",
    "    rHCO3   <- relEt$HCO3\n",
    "    H       <- absEt$H\n",
    "\n",
    "    rHCO3H <- sqrt(rHCO3^2 + rH^2)\n"
   ]
  },
  {
   "cell_type": "markdown",
   "metadata": {},
   "source": [
    "## 3. Compute other parts of error-space diagrams"
   ]
  },
  {
   "cell_type": "markdown",
   "metadata": {},
   "source": [
    "### 3.1 Constants-pair CURVE (along which propagated error from constants equals that from the input pair)"
   ]
  },
  {
   "cell_type": "code",
   "execution_count": 885,
   "metadata": {
    "collapsed": false
   },
   "outputs": [],
   "source": [
    "%%R\n",
    "# Critical curves (Constants-Pairs curve)\n",
    "# ===============\n",
    "# Southern Ocean\n",
    "errcirc <- errhalf(flag=menu_flag, var1=var1, var2=var2, S=salt, T=temp, \n",
    "                   Patm=1, P=press, Pt=Phos, Sit=Sil,\n",
    "                   epK=epKstd,\n",
    "                   k1k2='l', kf='dg', ks=\"d\", pHscale=\"T\", b=\"u74\", gas=\"potential\", warn=\"n\")\n"
   ]
  },
  {
   "cell_type": "markdown",
   "metadata": {},
   "source": [
    "### 3.2 Balanced-pair LINE (along which both members of input pair contrbute equally to propagated error)"
   ]
  },
  {
   "cell_type": "code",
   "execution_count": 886,
   "metadata": {
    "collapsed": false,
    "scrolled": true
   },
   "outputs": [],
   "source": [
    "%%R\n",
    "sigyspct <- seq(0,100,by=1) # in percent  ##ALWAYS STAYS THE SAME, error will never go > 100%\n",
    "\n",
    "\n",
    "# At-Ct pair\n",
    "# ----------\n",
    "# Southern Ocean\n",
    "errm <- errmid(flag=menu_flag, var1=var1, var2=var2, S=salt, T=temp, \n",
    "                   Patm=1, P=press, Pt=Phos, Sit=Sil,\n",
    "                   sigyspct, epK=epKstd,\n",
    "                   k1k2='l', kf='dg', ks=\"d\", pHscale=\"T\", b=\"u74\", gas=\"potential\", warn=\"n\")\n"
   ]
  },
  {
   "cell_type": "code",
   "execution_count": 887,
   "metadata": {
    "collapsed": false
   },
   "outputs": [
    {
     "data": {
      "text/plain": [
       " [1] 0.00000000 0.06129303 0.30609188 0.60985422 0.90897519 1.20117832\n",
       " [7] 1.48423976 1.75600523 2.01440644 2.25747681 2.48336641 2.69035610\n",
       "[13] 2.87687055 3.04149028 3.18296243 3.30021031 3.39234161 3.45865513\n",
       "[19] 3.49864620 3.51147556 3.51201046\n"
      ]
     },
     "metadata": {},
     "output_type": "display_data"
    }
   ],
   "source": [
    "%%R\n",
    "# Apply scale factors when necessary\n",
    "sig1   <- data.frame(errcirc[1]) * scalefactor1\n",
    "sig2   <- data.frame(errcirc[2]) * scalefactor2\n",
    "    \n",
    "sigm1   <- data.frame(errm[1]) * scalefactor1\n",
    "sigm2   <- data.frame(errm[2]) * scalefactor2\n",
    "\n",
    "sig2$CO3"
   ]
  },
  {
   "cell_type": "markdown",
   "metadata": {},
   "source": [
    "## 4. Plot results: contours of calculated errors from input errors"
   ]
  },
  {
   "cell_type": "markdown",
   "metadata": {},
   "source": [
    "### 4.1 Create file 'prettyaxes.R' to beautify subsequent plots (call it in cell below)"
   ]
  },
  {
   "cell_type": "code",
   "execution_count": 888,
   "metadata": {
    "collapsed": false
   },
   "outputs": [],
   "source": [
    "%%R\n",
    "cat(' box()\\n',\n",
    "    'axis(1,labels=FALSE, tcl=-0.35) ; axis(1, lwd=0, line=-0.4, labels=TRUE)\\n',\n",
    "    'axis(2,labels=FALSE,tcl=-0.35)  ; axis(2, lwd=0, line=-0.4, las=2, labels=TRUE)\\n',\n",
    "    'axis(3,labels=FALSE,tcl=-0.35) ; axis(4,labels=FALSE,tcl=-0.25)\\n',\n",
    "   file='prettyaxes.R')"
   ]
  },
  {
   "cell_type": "markdown",
   "metadata": {},
   "source": [
    "### 4.2 Function to strip NaNs and add a 0 at beginning of a vector"
   ]
  },
  {
   "cell_type": "code",
   "execution_count": 889,
   "metadata": {
    "collapsed": true
   },
   "outputs": [],
   "source": [
    "%%R\n",
    "zenon <- function(x){\n",
    "       # Get rid of NaN's\n",
    "       x <- c(0.0, x[!is.na(x)]) \n",
    "       return(x)\n",
    "}"
   ]
  },
  {
   "cell_type": "markdown",
   "metadata": {},
   "source": [
    "### 4.3 Function to make plot"
   ]
  },
  {
   "cell_type": "code",
   "execution_count": 890,
   "metadata": {
    "collapsed": false
   },
   "outputs": [],
   "source": [
    "%%R\n",
    "plterrcontour <- function(sigcritXa, sigcritYa, xlab, ylab, subtitle, xlim, ylim,\n",
    "                           sighpXa, sighpYa,\n",
    "                           sigmidXa, sigmidYa,\n",
    "                           sigsoaX, sigsoaY,\n",
    "                           x, y, za, levels1,\n",
    "                           methoda='flattest'){\n",
    "    \n",
    "#   Region 'a' is Southern Ocean  ;  Region 'b' is Tropics:\n",
    "    # 'contour' command must come after any 'plot', 'lines', or 'points' commands \n",
    "    plot (sigcritXa, sigcritYa, xlab=xlab, ylab=ylab, plot.title=title(main=subtitle),\n",
    "          xlim=xlim, ylim=ylim, col=\"black\", type='l', lwd=4, lty='solid',xaxt='n',yaxt='n',\n",
    "          cex.lab=1.4, ann=F, xaxs='r', yaxs='r')\n",
    "#   Plot critical point\n",
    "    if ( is.null(sighpXa) ) {\n",
    "        points(sigcritXa[11], sigcritYa[11], col=\"black\", cex=1.7, pch=19)\n",
    "    } else {\n",
    "        points(sighpXa, sighpYa, col=\"black\", cex=1.7, pch=19)\n",
    "    }    \n",
    "#   Plot mid-line (where e1 = e2 on each isoline [and between isolines])\n",
    "    lines(sigmidXa, sigmidYa, col=\"black\", lwd=1, lty='solid')\n",
    "#   symbols(x=sigcritXb[11], y=sigcritYb[11], circles=1, inches=1/3, ann=F, bg=\"steelblue2\", fg=NULL, add=TRUE)\n",
    "#   Plot point(s) at state-of-the-art (soa) for absolute error in each member of the input pair\n",
    "#   - pH has 2 points (random & overall error); other 3 input variables only have 1 point\n",
    "    points(sigsoaX, sigsoaY, col=\"black\", cex=1.7, pch=4)\n",
    "    axis(1,labels=TRUE, tcl=-0.35, cex.axis=1.3) \n",
    "    axis(2, tcl=-0.35, labels=FALSE, las=0) \n",
    "    title(xlab = xlab, cex.lab = 1.4, line = 2.9)\n",
    "    title(ylab = ylab, cex.lab = 1.4, line = 1.9)\n",
    "\n",
    "#   Add 2 colored text strings near origin to indicate the propagated error at the origin (from constants only)\n",
    "    a0 <- za[1,1]\n",
    "    if (a0 < 1) {ndiga <- 2} else {ndiga <- 3}\n",
    "    mtext( format(a0, digits=ndiga), side=1, line=2.5, at=0, srt=0,  cex=1.05, col='blue')\n",
    "\n",
    "#  'contour' command MUST come after any 'plot', 'lines', or 'points' commands \n",
    "#   For 'method', use 'simple, edge or flattest (flattest looks best but seems to fail often when lines are vertical)\n",
    "    contour(x, y , za, levels=levels1, method=methoda, col=\"blue\", lty=1, lwd=2, \n",
    "            yaxt='n', , labcex=1.0, add=TRUE)\n",
    "    axis(2, tcl=-0.35, labels=FALSE) \n",
    "\n",
    "    axis(2, tcl=-0.35, labels=FALSE, las=0) ; \n",
    "    axis(2, lwd=0, line=-0.4, las=2, labels=TRUE, cex.axis=1.4)\n",
    "    axis(3,labels=FALSE,tcl=-0.35) ; axis(4,labels=FALSE,tcl=-0.25)\n",
    "    done <- c('error contour plot')\n",
    "#return(NULL)\n",
    "}"
   ]
  },
  {
   "cell_type": "markdown",
   "metadata": {},
   "source": [
    "### 4.4 Error-space diagram of relative error in CO3  for At-Ct input pair\n",
    "\n",
    "Combine (1) contour plot of CO3 with (2) constants-pair curve, (3) balanced-pair line, ane (4) symbol indicating current state-of-the-art uncertainty."
   ]
  },
  {
   "cell_type": "code",
   "execution_count": 891,
   "metadata": {
    "collapsed": false,
    "scrolled": true
   },
   "outputs": [
    {
     "data": {
      "image/png": "[encoded data removed]"
     },
     "metadata": {},
     "output_type": "display_data"
    }
   ],
   "source": [
    "%%R\n",
    "\n",
    "  options(repr.plot.width=7.0, repr.plot.height=7)\n",
    "\n",
    "\n",
    "  dim(rCO3) <- c(length(var2_e), length(var1_e))  #my one\n",
    "\n",
    "    \n",
    "#   par(mfrow=c(1,1), mar=c(4,3.7,1,1.5)+0.1, oma=c(2,0,0,0.5), mgp=c(2,1,0), font.main=1)\n",
    "\n",
    "  subtitle <- \"test\"\n",
    "\n",
    "    \n",
    "  za <- rCO3\n",
    "   \n",
    "# x <- var2_e           ;  y <- var1_e\n",
    "if (menu_flag == 15) {\n",
    "    sigcritXa <- sig2$CO3  ;  sigcritYa <- sig1$CO3  #sig2_ is x axis; sig1_ is y axis\n",
    "    plterrcontour (sigcritXa, sigcritYa, xlabel, ylabel, subtitle, xlim, ylim,\n",
    "#                    sig1hp_AtCt$CO3, sig2hp_AtCt$CO3,\n",
    "                   NULL, NULL,\n",
    "                   zenon(sigm2$CO3), zenon(sigm1$CO3),    \n",
    "                   var2_e_soa2, var1_e_soa2,\n",
    "                   x, y, za, levels1,\n",
    "                   'flattest')\n",
    "} else if (menu_flag ==8 || menu_flag == 25) {\n",
    "    sigcritXa <- sig1$CO3  ;  sigcritYa <- sig2$CO3  #sig2_ is x axis; sig1_ is y axis\n",
    "    plterrcontour (sigcritXa, sigcritYa, xlabel, ylabel, subtitle, xlim, ylim,\n",
    "#                    sig1hp_AtCt$CO3, sig2hp_AtCt$CO3,\n",
    "                   NULL, NULL,\n",
    "                   zenon(sigm1$CO3), zenon(sigm2$CO3),\n",
    "                   var1_e_soa2, var2_e_soa2,\n",
    "                   x, y, za, levels1,\n",
    "                   'flattest')\n",
    "} else if (menu_flag == 21) {\n",
    "     za <- t(za)\n",
    "#     sigcritXa <- sig1$CO3  ;  sigcritYa <- sig2$CO3  #sig2_ is x axis; sig1_ is y axis\n",
    "    sigcritXa <- sig2$CO3  ;  sigcritYa <- sig1$CO3  #sig2_ is x axis; sig1_ is y axis\n",
    "    plterrcontour (sigcritXa, sigcritYa, xlabel, ylabel, subtitle, xlim, ylim,\n",
    "#                    sig1hp_AtCt$CO3, sig2hp_AtCt$CO3,\n",
    "                   NULL, NULL,\n",
    "                   zenon(sigm2$CO3), zenon(sigm1$CO3),\n",
    "                   var2_e_soa2, var1_e_soa2,\n",
    "                   x, y, za, levels1,\n",
    "                   'flattest')\n",
    "}\n",
    "\n"
   ]
  },
  {
   "cell_type": "markdown",
   "metadata": {},
   "source": [
    "***Figure:*** Percent relative uncertainty in computed $[\\text{CO}_3^{2-}]$ from the $A_\\text{T}-C_\\text{T}$ input pair as a function of uncertainties in each member of that input pair. Each of those members is indicated by the x- and y-axis labels. Propagated relative error (in percent) is shown for the Southern Ocean (blue solid lines). Sublots without pH as an input member also include the Constants-Pair curve (thick black line), where the total propagated error from the constants is equal to that from the input pair. The balanced-pair line (thin black line) indicates where each member of the input pair contributes equally to total propagated error. "
   ]
  },
  {
   "cell_type": "code",
   "execution_count": 804,
   "metadata": {
    "collapsed": false
   },
   "outputs": [
    {
     "data": {
      "text/plain": [
       "[1] 21\n"
      ]
     },
     "metadata": {},
     "output_type": "display_data"
    }
   ],
   "source": [
    "%%R\n",
    "length(x)"
   ]
  },
  {
   "cell_type": "code",
   "execution_count": 616,
   "metadata": {
    "collapsed": false
   },
   "outputs": [
    {
     "data": {
      "text/plain": [
       "[1] 21\n"
      ]
     },
     "metadata": {},
     "output_type": "display_data"
    }
   ],
   "source": [
    "%%R\n",
    "length(y)"
   ]
  },
  {
   "cell_type": "code",
   "execution_count": 414,
   "metadata": {
    "collapsed": false
   },
   "outputs": [
    {
     "data": {
      "text/plain": [
       "[1] 121\n"
      ]
     },
     "metadata": {},
     "output_type": "display_data"
    }
   ],
   "source": [
    "%%R\n",
    "length(za)"
   ]
  },
  {
   "cell_type": "code",
   "execution_count": 490,
   "metadata": {
    "collapsed": false
   },
   "outputs": [
    {
     "data": {
      "text/plain": [
       " [1]  0  2  4  6  8 10 12 14 16 18 20\n"
      ]
     },
     "metadata": {},
     "output_type": "display_data"
    }
   ],
   "source": [
    "%%R\n",
    "var1_e"
   ]
  },
  {
   "cell_type": "code",
   "execution_count": 491,
   "metadata": {
    "collapsed": false
   },
   "outputs": [
    {
     "data": {
      "text/plain": [
       " var1_e1  var1_e2  var1_e3  var1_e4  var1_e5  var1_e6  var1_e7  var1_e8 \n",
       "       0        2        4        6        8       10       12       14 \n",
       " var1_e9 var1_e10 var1_e11 \n",
       "      16       18       20 \n"
      ]
     },
     "metadata": {},
     "output_type": "display_data"
    }
   ],
   "source": [
    "%%R\n",
    "unlist(list(\"var1_e\" = var1_e))"
   ]
  },
  {
   "cell_type": "code",
   "execution_count": 494,
   "metadata": {
    "collapsed": false
   },
   "outputs": [
    {
     "data": {
      "text/plain": [
       "[1] 21\n"
      ]
     },
     "metadata": {},
     "output_type": "display_data"
    }
   ],
   "source": [
    "%%R\n",
    "menu_flag"
   ]
  },
  {
   "cell_type": "code",
   "execution_count": 497,
   "metadata": {
    "collapsed": false
   },
   "outputs": [
    {
     "data": {
      "text/plain": [
       "menu_flag   var1_e1   var1_e2   var1_e3   var1_e4   var1_e5   var1_e6   var1_e7 \n",
       "       21         0         2         4         6         8        10        12 \n",
       "  var1_e8   var1_e9  var1_e10  var1_e11 \n",
       "       14        16        18        20 \n"
      ]
     },
     "metadata": {},
     "output_type": "display_data"
    }
   ],
   "source": [
    "%%R\n",
    "unlist(list(\"menu_flag\"=menu_flag, \"var1_e\"=var1_e))"
   ]
  },
  {
   "cell_type": "code",
   "execution_count": 498,
   "metadata": {
    "collapsed": false
   },
   "outputs": [
    {
     "data": {
      "text/plain": [
       "$menu_flag\n",
       "[1] 21\n",
       "\n",
       "$var1_e\n",
       " [1]  0  2  4  6  8 10 12 14 16 18 20\n",
       "\n"
      ]
     },
     "metadata": {},
     "output_type": "display_data"
    }
   ],
   "source": [
    "%%R\n",
    "list(\"menu_flag\"=menu_flag, \"var1_e\"=var1_e)"
   ]
  },
  {
   "cell_type": "code",
   "execution_count": 499,
   "metadata": {
    "collapsed": false
   },
   "outputs": [
    {
     "data": {
      "text/plain": [
       " [1]  0  2  4  6  8 10 12 14 16 18 20\n"
      ]
     },
     "metadata": {},
     "output_type": "display_data"
    }
   ],
   "source": [
    "%%R\n",
    "list(\"menu_flag\"=menu_flag, \"var1_e\"=var1_e)[[\"var1_e\"]]"
   ]
  },
  {
   "cell_type": "code",
   "execution_count": 500,
   "metadata": {
    "collapsed": false
   },
   "outputs": [
    {
     "data": {
      "text/plain": [
       "[1] 21\n"
      ]
     },
     "metadata": {},
     "output_type": "display_data"
    }
   ],
   "source": [
    "%%R\n",
    "list(\"menu_flag\"=menu_flag, \"var1_e\"=var1_e)[[\"menu_flag\"]]"
   ]
  },
  {
   "cell_type": "code",
   "execution_count": null,
   "metadata": {
    "collapsed": true
   },
   "outputs": [],
   "source": []
  }
 ],
 "metadata": {
  "kernelspec": {
   "display_name": "Python 2",
   "language": "python",
   "name": "python2"
  },
  "language_info": {
   "codemirror_mode": {
    "name": "ipython",
    "version": 2
   },
   "file_extension": ".py",
   "mimetype": "text/x-python",
   "name": "python",
   "nbconvert_exporter": "python",
   "pygments_lexer": "ipython2",
   "version": "2.7.12"
  }
 },
 "nbformat": 4,
 "nbformat_minor": 0
}
