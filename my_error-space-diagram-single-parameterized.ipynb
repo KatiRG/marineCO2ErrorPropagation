{
 "cells": [
  {
   "cell_type": "markdown",
   "metadata": {},
   "source": [
    "# Error-space diagram - example for 1 input pair, 1 derived var, 1 region"
   ]
  },
  {
   "cell_type": "markdown",
   "metadata": {},
   "source": [
    "#### Load needed packages"
   ]
  },
  {
   "cell_type": "code",
   "execution_count": 1,
   "metadata": {
    "collapsed": false
   },
   "outputs": [],
   "source": [
    "import rpy2\n",
    "\n",
    "# necessary to workaround the error: /u01/anaconda2/lib/libreadline.so.6: undefined symbol: PC\n",
    "# https://www.rittmanmead.com/blog/2016/07/using-r-jupyter-notebooks-big-data-discovery/\n",
    "import readline\n",
    "\n",
    "%load_ext rpy2.ipython"
   ]
  },
  {
   "cell_type": "code",
   "execution_count": 2,
   "metadata": {
    "collapsed": false,
    "scrolled": false
   },
   "outputs": [
    {
     "name": "stderr",
     "output_type": "stream",
     "text": [
      "/homel/cnangini/anaconda/lib/python2.7/site-packages/rpy2/rinterface/__init__.py:186: RRuntimeWarning: Le chargement a nécessité le package : oce\n",
      "\n",
      "  warnings.warn(x, RRuntimeWarning)\n",
      "/homel/cnangini/anaconda/lib/python2.7/site-packages/rpy2/rinterface/__init__.py:186: RRuntimeWarning: Le chargement a nécessité le package : gsw\n",
      "\n",
      "  warnings.warn(x, RRuntimeWarning)\n"
     ]
    },
    {
     "data": {
      "text/plain": [
       "[1] ‘3.1.1’\n"
      ]
     },
     "metadata": {},
     "output_type": "display_data"
    }
   ],
   "source": [
    "%%R\n",
    "#libraries previously installed using:\n",
    "library(seacarb)\n",
    "library(oce)\n",
    "library(gsw)\n",
    "\n",
    "#library(Hmisc)   #for minor ticks in plot\n",
    "\n",
    "packageVersion('seacarb')"
   ]
  },
  {
   "cell_type": "markdown",
   "metadata": {},
   "source": [
    "## 1. Get routines and specify input vars"
   ]
  },
  {
   "cell_type": "markdown",
   "metadata": {},
   "source": [
    "### 1.1 Read in new and modified functions "
   ]
  },
  {
   "cell_type": "markdown",
   "metadata": {},
   "source": [
    "The commands below read in routines that have been modified (derivnum and errors) or are completely new relative to the standard version of the seacarb distribution.  You can get these new and modified routines from github:\n",
    "\n",
    "git clone https://github.com/jamesorr/seacarb-git.git\n",
    "\n",
    "Then just change the directory in the 4 lines of the cell just below:"
   ]
  },
  {
   "cell_type": "code",
   "execution_count": 3,
   "metadata": {
    "collapsed": true
   },
   "outputs": [],
   "source": [
    "%%R\n",
    "#branch buffesm1 of seacarb-git\n",
    "source(\"/homel/cnangini/PROJECTS/seacarb-git/R/errhalf.R\")\n",
    "source(\"/homel/cnangini/PROJECTS/seacarb-git/R/errmid.R\")\n",
    "source(\"/homel/cnangini/PROJECTS/seacarb-git/R/errors.R\")\n",
    "source(\"/homel/cnangini/PROJECTS/seacarb-git/R/derivnum.R\")"
   ]
  },
  {
   "cell_type": "markdown",
   "metadata": {},
   "source": [
    "### 1.2 Specify input variables and their corresponding uncertainties (errors)"
   ]
  },
  {
   "cell_type": "code",
   "execution_count": 34,
   "metadata": {
    "collapsed": true
   },
   "outputs": [],
   "source": [
    "%%R\n",
    "#User inputs\n",
    "\n",
    "# Specify flag\n",
    "#   menu_flag = 15  #var1=ALK, var2=DIC\n",
    "  menu_flag = 8   #var1=pH, var2=ALK\n"
   ]
  },
  {
   "cell_type": "code",
   "execution_count": 169,
   "metadata": {
    "collapsed": false
   },
   "outputs": [],
   "source": [
    "%%R\n",
    "\n",
    "  temp = -0.49    #C\n",
    "  salt = 33.96    #psu\n",
    "  press = 0       #bar\n",
    "  Phos = 2.e-6    #(umol/kg)\n",
    "  Sil = 60.e-6    #(umol/kg)\n",
    "\n",
    "  salt_e = 0.01   \n",
    "  temp_e = 0.01   \n",
    "\n",
    "  Pt_e = 0.1e-6\n",
    "  Sit_e = 4.0e-6\n",
    "\n",
    "#for testing purposes\n",
    "ALK_socn = 2295e-6\n",
    "DIC_socn = 2155e-6\n",
    "\n",
    "\n",
    "pCO2_e <- seq(0,20,1)\n",
    "pH_e   <- seq(0,0.03,0.0015)\n",
    "ALK_e <- seq(0., 20., 1.0) * 1e-6\n",
    "\n",
    "\n",
    "\n",
    "  if (menu_flag == 15){#var1=ALK, var2=DIC\n",
    "      \n",
    "      # Input variables:\n",
    "      var1 = 2295e-6  #(umol/kg)\n",
    "      var2 = 2155e-6\n",
    "      \n",
    "      # Uncertainties in input variables      \n",
    "      var1_e <- seq(0., 20., 1.0) * 1e-6\n",
    "      var2_e <- var1_e\n",
    "      \n",
    "      var1_e_soa   <- 2 #umol/kg\n",
    "      var2_e_soa   <- 2 #umol/kg\n",
    "\n",
    "      var1_e_soa2  <- c(var1_e_soa, var1_e_soa)\n",
    "      var2_e_soa2  <- c(var2_e_soa, var2_e_soa)\n",
    "\n",
    "      # for plot\n",
    "      x <- var2_e*1e+6  ;  y <- var1_e*1e+6      \n",
    "      xlim <- c(0,20)  ; ylim <- xlim\n",
    "      levels1 <- c(1,seq(2,20,by=2))\n",
    "      xlabel <- expression(paste(sigma[italic(\"C\")[T]],\" (\",mu,\"mol kg\"^{-1},\")\",sep=\"\"))\n",
    "      ylabel <- expression(paste(sigma[italic(\"A\")[T]],\" (\",mu,\"mol kg\"^{-1},\")\",sep=\"\"))\n",
    "      \n",
    "  } else if (menu_flag == 8) {#var1=pH, var2=ALK\n",
    "      # Input variables:\n",
    "      var1 = 8.111823\n",
    "      var2 = 2295e-6  #(umol/kg)\n",
    "      \n",
    "      # Uncertainties in input variables      \n",
    "      var1_e <- seq(0,0.03,0.0015)\n",
    "      var2_e <- seq(0., 20., 1.0) * 1e-6\n",
    "      \n",
    "      var1_e_soa   <- c(0.003, 0.01) #pH_e_soa    <- c(0.003, 0.01)\n",
    "      var2_e_soa   <- 2 #umol/kg\n",
    "      \n",
    "      var1_e_soa2  <- var1_e_soa #pH_e_soa2   <- pH_e_soa\n",
    "      var2_e_soa2  <- c(var2_e_soa, var2_e_soa) #ALK_e_soa2  <- c(ALK_e_soa, ALK_e_soa)\n",
    "      \n",
    "      # for plot\n",
    "#       x <- var1_e           ;  y <- var2_e * 1e+6\n",
    "      x <- pH_e           ;  y <- ALK_e * 1e+6\n",
    "      xlim <- c(0,0.03) ; ylim <- c(0,20) \n",
    "      levels1 <- c(4.2, seq(4,7,by=1))\n",
    "      xlabel <- expression(paste(sigma[pH],\" (total scale)\",sep=\"\"))\n",
    "      ylabel <- expression(paste(sigma[italic(\"A\")[T]],\" (\",mu,\"mol kg\"^{-1},\")\",sep=\"\"))\n",
    "  }\n",
    " \n",
    "\n",
    "\n",
    "# ALK_e_soa   <- 2 #umol/kg\n",
    "# DIC_e_soa   <- 2 #umol/kg\n",
    "# pCO2_e_soa  <- 2 #umol/kg\n",
    "# pH_e_soa    <- c(0.003, 0.01)  #total scale\n",
    "\n",
    "# pH_e_soa2   <- pH_e_soa\n",
    "# ALK_e_soa2  <- c(ALK_e_soa, ALK_e_soa)\n",
    "# DIC_e_soa2  <- c(DIC_e_soa, DIC_e_soa)\n",
    "# pCO2_e_soa2 <- c(pCO2_e_soa, pCO2_e_soa)"
   ]
  },
  {
   "cell_type": "code",
   "execution_count": 107,
   "metadata": {
    "collapsed": false
   },
   "outputs": [
    {
     "data": {
      "text/plain": [
       "[1] 0.003 0.010\n"
      ]
     },
     "metadata": {},
     "output_type": "display_data"
    }
   ],
   "source": [
    "%%R\n",
    "var1_e_soa2"
   ]
  },
  {
   "cell_type": "code",
   "execution_count": 108,
   "metadata": {
    "collapsed": false
   },
   "outputs": [
    {
     "data": {
      "text/plain": [
       "[1] 2 2\n"
      ]
     },
     "metadata": {},
     "output_type": "display_data"
    }
   ],
   "source": [
    "%%R\n",
    "var2_e_soa2"
   ]
  },
  {
   "cell_type": "markdown",
   "metadata": {},
   "source": [
    "### 1.3 Default uncertainties in equilibrium constants (pK0, pK1, pK2, pKb, pKw, pKa, pKc, Bt)"
   ]
  },
  {
   "cell_type": "code",
   "execution_count": 109,
   "metadata": {
    "collapsed": true
   },
   "outputs": [],
   "source": [
    "%%R\n",
    "# Estimates for errors in constants in errors.R routine (from Orr et al., 2017)\n",
    "  epKstd  <- c(0.004, 0.015,  0.03, 0.01,  0.01, 0.02, 0.02, 0.01)\n",
    "# epKstd  <- c(0.004, 0.015,  0.03, 0.01,  0.01, 0.02, 0.02)"
   ]
  },
  {
   "cell_type": "markdown",
   "metadata": {},
   "source": [
    "### 1.3 Compute derived carbonate system vars with std seacarb routine `carb`:"
   ]
  },
  {
   "cell_type": "code",
   "execution_count": 110,
   "metadata": {
    "collapsed": false
   },
   "outputs": [],
   "source": [
    "%%R\n",
    "# Compute derived carbonate system variables with standard seacarb routine 'carb':\n",
    "\n",
    "# Southern Ocean\n",
    "vars <- carb  (flag=menu_flag, var1=var1, var2=var2, S=salt, T=temp, Patm=1, P=press, Pt=Phos, Sit=Sil, \n",
    "                    k1k2='w14', kf='dg', ks=\"d\", pHscale=\"T\", b=\"u74\", gas=\"potential\", warn='n')\n",
    "\n",
    "# vars <- carb  (flag=15, var1=ALK_socn, var2=DIC_socn, S=salt, T=temp, Patm=1, P=press, Pt=Phos, Sit=Sil, \n",
    "#                     k1k2='w14', kf='dg', ks=\"d\", pHscale=\"T\", b=\"u74\", gas=\"potential\", warn='n')\n",
    "\n",
    "\n",
    "pH <- vars$pH\n",
    "pCO2 <- vars$pCO2\n",
    "\n",
    "# Compute H+ from pH, i.e., pH = -log10[H+], where [H+] is the hydrogen ion concentration in mol/kg\n",
    "H = 10^(-1*vars$pH)\n",
    "\n",
    "# Keep only key columns to be consistent with output from 'errors.R' routine (called below)\n",
    "vars <- data.frame(H, vars[,c('pH','CO2','fCO2','pCO2','HCO3','CO3','OmegaAragonite','OmegaCalcite')] )\n",
    "vars\n",
    "\n",
    "# Duplicate rows in *vars* until same as number of members of error vector ALK_e\n",
    "numerrs <- length(var1_e)\n",
    "vars <- vars[rep(row.names(vars), numerrs), ]\n"
   ]
  },
  {
   "cell_type": "code",
   "execution_count": 111,
   "metadata": {
    "collapsed": false
   },
   "outputs": [
    {
     "data": {
      "text/plain": [
       "[1] 8.111823\n"
      ]
     },
     "metadata": {},
     "output_type": "display_data"
    }
   ],
   "source": [
    "%%R\n",
    "pH"
   ]
  },
  {
   "cell_type": "markdown",
   "metadata": {},
   "source": [
    "### 1.4 Use 1-D error vectors to build 2-D error array (to plot contours in DIC-ALK space)  "
   ]
  },
  {
   "cell_type": "code",
   "execution_count": 112,
   "metadata": {
    "collapsed": false
   },
   "outputs": [
    {
     "data": {
      "text/plain": [
       " [1] 0.0e+00 1.0e-06 2.0e-06 3.0e-06 4.0e-06 5.0e-06 6.0e-06 7.0e-06 8.0e-06\n",
       "[10] 9.0e-06 1.0e-05 1.1e-05 1.2e-05 1.3e-05 1.4e-05 1.5e-05 1.6e-05 1.7e-05\n",
       "[19] 1.8e-05 1.9e-05 2.0e-05\n"
      ]
     },
     "metadata": {},
     "output_type": "display_data"
    }
   ],
   "source": [
    "%%R\n",
    "var2_e"
   ]
  },
  {
   "cell_type": "code",
   "execution_count": 113,
   "metadata": {
    "collapsed": false
   },
   "outputs": [],
   "source": [
    "%%R\n",
    "#dat <- expand.grid(var2_e, var1_e) ####ALK & DIC\n",
    "# dat <- expand.grid(var1_e, var2_e)\n",
    "\n",
    "dat   <- expand.grid(pH_e,  ALK_e)\n",
    "# dat_pHCt   <- expand.grid(pH_e,  DIC_e)\n",
    "# dat_AtCt   <- expand.grid(DIC_e, ALK_e)"
   ]
  },
  {
   "cell_type": "code",
   "execution_count": 114,
   "metadata": {
    "collapsed": false
   },
   "outputs": [
    {
     "data": {
      "text/plain": [
       "      Var1    Var2\n",
       "1   0.0000 0.0e+00\n",
       "2   0.0015 0.0e+00\n",
       "3   0.0030 0.0e+00\n",
       "4   0.0045 0.0e+00\n",
       "5   0.0060 0.0e+00\n",
       "6   0.0075 0.0e+00\n",
       "7   0.0090 0.0e+00\n",
       "8   0.0105 0.0e+00\n",
       "9   0.0120 0.0e+00\n",
       "10  0.0135 0.0e+00\n",
       "11  0.0150 0.0e+00\n",
       "12  0.0165 0.0e+00\n",
       "13  0.0180 0.0e+00\n",
       "14  0.0195 0.0e+00\n",
       "15  0.0210 0.0e+00\n",
       "16  0.0225 0.0e+00\n",
       "17  0.0240 0.0e+00\n",
       "18  0.0255 0.0e+00\n",
       "19  0.0270 0.0e+00\n",
       "20  0.0285 0.0e+00\n",
       "21  0.0300 0.0e+00\n",
       "22  0.0000 1.0e-06\n",
       "23  0.0015 1.0e-06\n",
       "24  0.0030 1.0e-06\n",
       "25  0.0045 1.0e-06\n",
       "26  0.0060 1.0e-06\n",
       "27  0.0075 1.0e-06\n",
       "28  0.0090 1.0e-06\n",
       "29  0.0105 1.0e-06\n",
       "30  0.0120 1.0e-06\n",
       "31  0.0135 1.0e-06\n",
       "32  0.0150 1.0e-06\n",
       "33  0.0165 1.0e-06\n",
       "34  0.0180 1.0e-06\n",
       "35  0.0195 1.0e-06\n",
       "36  0.0210 1.0e-06\n",
       "37  0.0225 1.0e-06\n",
       "38  0.0240 1.0e-06\n",
       "39  0.0255 1.0e-06\n",
       "40  0.0270 1.0e-06\n",
       "41  0.0285 1.0e-06\n",
       "42  0.0300 1.0e-06\n",
       "43  0.0000 2.0e-06\n",
       "44  0.0015 2.0e-06\n",
       "45  0.0030 2.0e-06\n",
       "46  0.0045 2.0e-06\n",
       "47  0.0060 2.0e-06\n",
       "48  0.0075 2.0e-06\n",
       "49  0.0090 2.0e-06\n",
       "50  0.0105 2.0e-06\n",
       "51  0.0120 2.0e-06\n",
       "52  0.0135 2.0e-06\n",
       "53  0.0150 2.0e-06\n",
       "54  0.0165 2.0e-06\n",
       "55  0.0180 2.0e-06\n",
       "56  0.0195 2.0e-06\n",
       "57  0.0210 2.0e-06\n",
       "58  0.0225 2.0e-06\n",
       "59  0.0240 2.0e-06\n",
       "60  0.0255 2.0e-06\n",
       "61  0.0270 2.0e-06\n",
       "62  0.0285 2.0e-06\n",
       "63  0.0300 2.0e-06\n",
       "64  0.0000 3.0e-06\n",
       "65  0.0015 3.0e-06\n",
       "66  0.0030 3.0e-06\n",
       "67  0.0045 3.0e-06\n",
       "68  0.0060 3.0e-06\n",
       "69  0.0075 3.0e-06\n",
       "70  0.0090 3.0e-06\n",
       "71  0.0105 3.0e-06\n",
       "72  0.0120 3.0e-06\n",
       "73  0.0135 3.0e-06\n",
       "74  0.0150 3.0e-06\n",
       "75  0.0165 3.0e-06\n",
       "76  0.0180 3.0e-06\n",
       "77  0.0195 3.0e-06\n",
       "78  0.0210 3.0e-06\n",
       "79  0.0225 3.0e-06\n",
       "80  0.0240 3.0e-06\n",
       "81  0.0255 3.0e-06\n",
       "82  0.0270 3.0e-06\n",
       "83  0.0285 3.0e-06\n",
       "84  0.0300 3.0e-06\n",
       "85  0.0000 4.0e-06\n",
       "86  0.0015 4.0e-06\n",
       "87  0.0030 4.0e-06\n",
       "88  0.0045 4.0e-06\n",
       "89  0.0060 4.0e-06\n",
       "90  0.0075 4.0e-06\n",
       "91  0.0090 4.0e-06\n",
       "92  0.0105 4.0e-06\n",
       "93  0.0120 4.0e-06\n",
       "94  0.0135 4.0e-06\n",
       "95  0.0150 4.0e-06\n",
       "96  0.0165 4.0e-06\n",
       "97  0.0180 4.0e-06\n",
       "98  0.0195 4.0e-06\n",
       "99  0.0210 4.0e-06\n",
       "100 0.0225 4.0e-06\n",
       "101 0.0240 4.0e-06\n",
       "102 0.0255 4.0e-06\n",
       "103 0.0270 4.0e-06\n",
       "104 0.0285 4.0e-06\n",
       "105 0.0300 4.0e-06\n",
       "106 0.0000 5.0e-06\n",
       "107 0.0015 5.0e-06\n",
       "108 0.0030 5.0e-06\n",
       "109 0.0045 5.0e-06\n",
       "110 0.0060 5.0e-06\n",
       "111 0.0075 5.0e-06\n",
       "112 0.0090 5.0e-06\n",
       "113 0.0105 5.0e-06\n",
       "114 0.0120 5.0e-06\n",
       "115 0.0135 5.0e-06\n",
       "116 0.0150 5.0e-06\n",
       "117 0.0165 5.0e-06\n",
       "118 0.0180 5.0e-06\n",
       "119 0.0195 5.0e-06\n",
       "120 0.0210 5.0e-06\n",
       "121 0.0225 5.0e-06\n",
       "122 0.0240 5.0e-06\n",
       "123 0.0255 5.0e-06\n",
       "124 0.0270 5.0e-06\n",
       "125 0.0285 5.0e-06\n",
       "126 0.0300 5.0e-06\n",
       "127 0.0000 6.0e-06\n",
       "128 0.0015 6.0e-06\n",
       "129 0.0030 6.0e-06\n",
       "130 0.0045 6.0e-06\n",
       "131 0.0060 6.0e-06\n",
       "132 0.0075 6.0e-06\n",
       "133 0.0090 6.0e-06\n",
       "134 0.0105 6.0e-06\n",
       "135 0.0120 6.0e-06\n",
       "136 0.0135 6.0e-06\n",
       "137 0.0150 6.0e-06\n",
       "138 0.0165 6.0e-06\n",
       "139 0.0180 6.0e-06\n",
       "140 0.0195 6.0e-06\n",
       "141 0.0210 6.0e-06\n",
       "142 0.0225 6.0e-06\n",
       "143 0.0240 6.0e-06\n",
       "144 0.0255 6.0e-06\n",
       "145 0.0270 6.0e-06\n",
       "146 0.0285 6.0e-06\n",
       "147 0.0300 6.0e-06\n",
       "148 0.0000 7.0e-06\n",
       "149 0.0015 7.0e-06\n",
       "150 0.0030 7.0e-06\n",
       "151 0.0045 7.0e-06\n",
       "152 0.0060 7.0e-06\n",
       "153 0.0075 7.0e-06\n",
       "154 0.0090 7.0e-06\n",
       "155 0.0105 7.0e-06\n",
       "156 0.0120 7.0e-06\n",
       "157 0.0135 7.0e-06\n",
       "158 0.0150 7.0e-06\n",
       "159 0.0165 7.0e-06\n",
       "160 0.0180 7.0e-06\n",
       "161 0.0195 7.0e-06\n",
       "162 0.0210 7.0e-06\n",
       "163 0.0225 7.0e-06\n",
       "164 0.0240 7.0e-06\n",
       "165 0.0255 7.0e-06\n",
       "166 0.0270 7.0e-06\n",
       "167 0.0285 7.0e-06\n",
       "168 0.0300 7.0e-06\n",
       "169 0.0000 8.0e-06\n",
       "170 0.0015 8.0e-06\n",
       "171 0.0030 8.0e-06\n",
       "172 0.0045 8.0e-06\n",
       "173 0.0060 8.0e-06\n",
       "174 0.0075 8.0e-06\n",
       "175 0.0090 8.0e-06\n",
       "176 0.0105 8.0e-06\n",
       "177 0.0120 8.0e-06\n",
       "178 0.0135 8.0e-06\n",
       "179 0.0150 8.0e-06\n",
       "180 0.0165 8.0e-06\n",
       "181 0.0180 8.0e-06\n",
       "182 0.0195 8.0e-06\n",
       "183 0.0210 8.0e-06\n",
       "184 0.0225 8.0e-06\n",
       "185 0.0240 8.0e-06\n",
       "186 0.0255 8.0e-06\n",
       "187 0.0270 8.0e-06\n",
       "188 0.0285 8.0e-06\n",
       "189 0.0300 8.0e-06\n",
       "190 0.0000 9.0e-06\n",
       "191 0.0015 9.0e-06\n",
       "192 0.0030 9.0e-06\n",
       "193 0.0045 9.0e-06\n",
       "194 0.0060 9.0e-06\n",
       "195 0.0075 9.0e-06\n",
       "196 0.0090 9.0e-06\n",
       "197 0.0105 9.0e-06\n",
       "198 0.0120 9.0e-06\n",
       "199 0.0135 9.0e-06\n",
       "200 0.0150 9.0e-06\n",
       "201 0.0165 9.0e-06\n",
       "202 0.0180 9.0e-06\n",
       "203 0.0195 9.0e-06\n",
       "204 0.0210 9.0e-06\n",
       "205 0.0225 9.0e-06\n",
       "206 0.0240 9.0e-06\n",
       "207 0.0255 9.0e-06\n",
       "208 0.0270 9.0e-06\n",
       "209 0.0285 9.0e-06\n",
       "210 0.0300 9.0e-06\n",
       "211 0.0000 1.0e-05\n",
       "212 0.0015 1.0e-05\n",
       "213 0.0030 1.0e-05\n",
       "214 0.0045 1.0e-05\n",
       "215 0.0060 1.0e-05\n",
       "216 0.0075 1.0e-05\n",
       "217 0.0090 1.0e-05\n",
       "218 0.0105 1.0e-05\n",
       "219 0.0120 1.0e-05\n",
       "220 0.0135 1.0e-05\n",
       "221 0.0150 1.0e-05\n",
       "222 0.0165 1.0e-05\n",
       "223 0.0180 1.0e-05\n",
       "224 0.0195 1.0e-05\n",
       "225 0.0210 1.0e-05\n",
       "226 0.0225 1.0e-05\n",
       "227 0.0240 1.0e-05\n",
       "228 0.0255 1.0e-05\n",
       "229 0.0270 1.0e-05\n",
       "230 0.0285 1.0e-05\n",
       "231 0.0300 1.0e-05\n",
       "232 0.0000 1.1e-05\n",
       "233 0.0015 1.1e-05\n",
       "234 0.0030 1.1e-05\n",
       "235 0.0045 1.1e-05\n",
       "236 0.0060 1.1e-05\n",
       "237 0.0075 1.1e-05\n",
       "238 0.0090 1.1e-05\n",
       "239 0.0105 1.1e-05\n",
       "240 0.0120 1.1e-05\n",
       "241 0.0135 1.1e-05\n",
       "242 0.0150 1.1e-05\n",
       "243 0.0165 1.1e-05\n",
       "244 0.0180 1.1e-05\n",
       "245 0.0195 1.1e-05\n",
       "246 0.0210 1.1e-05\n",
       "247 0.0225 1.1e-05\n",
       "248 0.0240 1.1e-05\n",
       "249 0.0255 1.1e-05\n",
       "250 0.0270 1.1e-05\n",
       "251 0.0285 1.1e-05\n",
       "252 0.0300 1.1e-05\n",
       "253 0.0000 1.2e-05\n",
       "254 0.0015 1.2e-05\n",
       "255 0.0030 1.2e-05\n",
       "256 0.0045 1.2e-05\n",
       "257 0.0060 1.2e-05\n",
       "258 0.0075 1.2e-05\n",
       "259 0.0090 1.2e-05\n",
       "260 0.0105 1.2e-05\n",
       "261 0.0120 1.2e-05\n",
       "262 0.0135 1.2e-05\n",
       "263 0.0150 1.2e-05\n",
       "264 0.0165 1.2e-05\n",
       "265 0.0180 1.2e-05\n",
       "266 0.0195 1.2e-05\n",
       "267 0.0210 1.2e-05\n",
       "268 0.0225 1.2e-05\n",
       "269 0.0240 1.2e-05\n",
       "270 0.0255 1.2e-05\n",
       "271 0.0270 1.2e-05\n",
       "272 0.0285 1.2e-05\n",
       "273 0.0300 1.2e-05\n",
       "274 0.0000 1.3e-05\n",
       "275 0.0015 1.3e-05\n",
       "276 0.0030 1.3e-05\n",
       "277 0.0045 1.3e-05\n",
       "278 0.0060 1.3e-05\n",
       "279 0.0075 1.3e-05\n",
       "280 0.0090 1.3e-05\n",
       "281 0.0105 1.3e-05\n",
       "282 0.0120 1.3e-05\n",
       "283 0.0135 1.3e-05\n",
       "284 0.0150 1.3e-05\n",
       "285 0.0165 1.3e-05\n",
       "286 0.0180 1.3e-05\n",
       "287 0.0195 1.3e-05\n",
       "288 0.0210 1.3e-05\n",
       "289 0.0225 1.3e-05\n",
       "290 0.0240 1.3e-05\n",
       "291 0.0255 1.3e-05\n",
       "292 0.0270 1.3e-05\n",
       "293 0.0285 1.3e-05\n",
       "294 0.0300 1.3e-05\n",
       "295 0.0000 1.4e-05\n",
       "296 0.0015 1.4e-05\n",
       "297 0.0030 1.4e-05\n",
       "298 0.0045 1.4e-05\n",
       "299 0.0060 1.4e-05\n",
       "300 0.0075 1.4e-05\n",
       "301 0.0090 1.4e-05\n",
       "302 0.0105 1.4e-05\n",
       "303 0.0120 1.4e-05\n",
       "304 0.0135 1.4e-05\n",
       "305 0.0150 1.4e-05\n",
       "306 0.0165 1.4e-05\n",
       "307 0.0180 1.4e-05\n",
       "308 0.0195 1.4e-05\n",
       "309 0.0210 1.4e-05\n",
       "310 0.0225 1.4e-05\n",
       "311 0.0240 1.4e-05\n",
       "312 0.0255 1.4e-05\n",
       "313 0.0270 1.4e-05\n",
       "314 0.0285 1.4e-05\n",
       "315 0.0300 1.4e-05\n",
       "316 0.0000 1.5e-05\n",
       "317 0.0015 1.5e-05\n",
       "318 0.0030 1.5e-05\n",
       "319 0.0045 1.5e-05\n",
       "320 0.0060 1.5e-05\n",
       "321 0.0075 1.5e-05\n",
       "322 0.0090 1.5e-05\n",
       "323 0.0105 1.5e-05\n",
       "324 0.0120 1.5e-05\n",
       "325 0.0135 1.5e-05\n",
       "326 0.0150 1.5e-05\n",
       "327 0.0165 1.5e-05\n",
       "328 0.0180 1.5e-05\n",
       "329 0.0195 1.5e-05\n",
       "330 0.0210 1.5e-05\n",
       "331 0.0225 1.5e-05\n",
       "332 0.0240 1.5e-05\n",
       "333 0.0255 1.5e-05\n",
       "334 0.0270 1.5e-05\n",
       "335 0.0285 1.5e-05\n",
       "336 0.0300 1.5e-05\n",
       "337 0.0000 1.6e-05\n",
       "338 0.0015 1.6e-05\n",
       "339 0.0030 1.6e-05\n",
       "340 0.0045 1.6e-05\n",
       "341 0.0060 1.6e-05\n",
       "342 0.0075 1.6e-05\n",
       "343 0.0090 1.6e-05\n",
       "344 0.0105 1.6e-05\n",
       "345 0.0120 1.6e-05\n",
       "346 0.0135 1.6e-05\n",
       "347 0.0150 1.6e-05\n",
       "348 0.0165 1.6e-05\n",
       "349 0.0180 1.6e-05\n",
       "350 0.0195 1.6e-05\n",
       "351 0.0210 1.6e-05\n",
       "352 0.0225 1.6e-05\n",
       "353 0.0240 1.6e-05\n",
       "354 0.0255 1.6e-05\n",
       "355 0.0270 1.6e-05\n",
       "356 0.0285 1.6e-05\n",
       "357 0.0300 1.6e-05\n",
       "358 0.0000 1.7e-05\n",
       "359 0.0015 1.7e-05\n",
       "360 0.0030 1.7e-05\n",
       "361 0.0045 1.7e-05\n",
       "362 0.0060 1.7e-05\n",
       "363 0.0075 1.7e-05\n",
       "364 0.0090 1.7e-05\n",
       "365 0.0105 1.7e-05\n",
       "366 0.0120 1.7e-05\n",
       "367 0.0135 1.7e-05\n",
       "368 0.0150 1.7e-05\n",
       "369 0.0165 1.7e-05\n",
       "370 0.0180 1.7e-05\n",
       "371 0.0195 1.7e-05\n",
       "372 0.0210 1.7e-05\n",
       "373 0.0225 1.7e-05\n",
       "374 0.0240 1.7e-05\n",
       "375 0.0255 1.7e-05\n",
       "376 0.0270 1.7e-05\n",
       "377 0.0285 1.7e-05\n",
       "378 0.0300 1.7e-05\n",
       "379 0.0000 1.8e-05\n",
       "380 0.0015 1.8e-05\n",
       "381 0.0030 1.8e-05\n",
       "382 0.0045 1.8e-05\n",
       "383 0.0060 1.8e-05\n",
       "384 0.0075 1.8e-05\n",
       "385 0.0090 1.8e-05\n",
       "386 0.0105 1.8e-05\n",
       "387 0.0120 1.8e-05\n",
       "388 0.0135 1.8e-05\n",
       "389 0.0150 1.8e-05\n",
       "390 0.0165 1.8e-05\n",
       "391 0.0180 1.8e-05\n",
       "392 0.0195 1.8e-05\n",
       "393 0.0210 1.8e-05\n",
       "394 0.0225 1.8e-05\n",
       "395 0.0240 1.8e-05\n",
       "396 0.0255 1.8e-05\n",
       "397 0.0270 1.8e-05\n",
       "398 0.0285 1.8e-05\n",
       "399 0.0300 1.8e-05\n",
       "400 0.0000 1.9e-05\n",
       "401 0.0015 1.9e-05\n",
       "402 0.0030 1.9e-05\n",
       "403 0.0045 1.9e-05\n",
       "404 0.0060 1.9e-05\n",
       "405 0.0075 1.9e-05\n",
       "406 0.0090 1.9e-05\n",
       "407 0.0105 1.9e-05\n",
       "408 0.0120 1.9e-05\n",
       "409 0.0135 1.9e-05\n",
       "410 0.0150 1.9e-05\n",
       "411 0.0165 1.9e-05\n",
       "412 0.0180 1.9e-05\n",
       "413 0.0195 1.9e-05\n",
       "414 0.0210 1.9e-05\n",
       "415 0.0225 1.9e-05\n",
       "416 0.0240 1.9e-05\n",
       "417 0.0255 1.9e-05\n",
       "418 0.0270 1.9e-05\n",
       "419 0.0285 1.9e-05\n",
       "420 0.0300 1.9e-05\n",
       "421 0.0000 2.0e-05\n",
       "422 0.0015 2.0e-05\n",
       "423 0.0030 2.0e-05\n",
       "424 0.0045 2.0e-05\n",
       "425 0.0060 2.0e-05\n",
       "426 0.0075 2.0e-05\n",
       "427 0.0090 2.0e-05\n",
       "428 0.0105 2.0e-05\n",
       "429 0.0120 2.0e-05\n",
       "430 0.0135 2.0e-05\n",
       "431 0.0150 2.0e-05\n",
       "432 0.0165 2.0e-05\n",
       "433 0.0180 2.0e-05\n",
       "434 0.0195 2.0e-05\n",
       "435 0.0210 2.0e-05\n",
       "436 0.0225 2.0e-05\n",
       "437 0.0240 2.0e-05\n",
       "438 0.0255 2.0e-05\n",
       "439 0.0270 2.0e-05\n",
       "440 0.0285 2.0e-05\n",
       "441 0.0300 2.0e-05\n"
      ]
     },
     "metadata": {},
     "output_type": "display_data"
    }
   ],
   "source": [
    "%%R\n",
    "dat"
   ]
  },
  {
   "cell_type": "markdown",
   "metadata": {},
   "source": [
    "### 1.5 Specify state-of-art (soa) errors for vars: from error-propagation manuscript (Orr et al. 2017, Table 1) \n",
    "\n",
    "These will be plotted as crosses on the error-space diagrams"
   ]
  },
  {
   "cell_type": "markdown",
   "metadata": {},
   "source": [
    "## 2. Compute derived variables (with `carb`) and propagated errors (with `errors`)"
   ]
  },
  {
   "cell_type": "markdown",
   "metadata": {},
   "source": [
    "### 2.1 Computations of derived vars and their errors (for At-Ct pair only) "
   ]
  },
  {
   "cell_type": "code",
   "execution_count": 115,
   "metadata": {
    "collapsed": false
   },
   "outputs": [
    {
     "data": {
      "text/plain": [
       "[1] 0.002295\n"
      ]
     },
     "metadata": {},
     "output_type": "display_data"
    }
   ],
   "source": [
    "%%R\n",
    "var2"
   ]
  },
  {
   "cell_type": "code",
   "execution_count": 116,
   "metadata": {
    "collapsed": false
   },
   "outputs": [],
   "source": [
    "%%R\n",
    "# Compute variables\n",
    "vars <- carb  (flag=menu_flag, var1=var1, var2=var2, S=salt, T=temp, Patm=1, P=press, Pt=Phos, Sit=Sil, \n",
    "                    k1k2='w14', kf='dg', ks=\"d\", pHscale=\"T\", b=\"u74\", gas=\"potential\", warn='n')\n",
    "\n",
    "H = 10^(-1*vars$pH)         # H+ concentration (mol/kg)\n",
    "vars <- data.frame(H, vars) # Add H+ as new column to vars data frame\n",
    "vars_step2 <- vars\n",
    "\n",
    "\n",
    "\n",
    "# Absolute errors: propagated uncertainties\n",
    "if (menu_flag == 15) {\n",
    "    absEt <- errors (flag=menu_flag, var1=var1, var2=var2, S=salt, T=temp, \n",
    "                      Patm=1, P=press, Pt=Phos, Sit=Sil, \n",
    "                      evar1=dat$Var2, evar2=dat$Var1, eS=0, eT=0, ePt=0, eSit=0, epK=epKstd, #HUOM!!!                \n",
    "                      k1k2='w14', kf='dg', ks=\"d\", pHscale=\"T\", b=\"u74\", gas=\"potential\", warn='no')\n",
    "    \n",
    "} else if (menu_flag == 8) { ##NB: SWAP dat$Var2 and dat$Var1 !!!!!!\n",
    "    absEt <- errors (flag=menu_flag, var1=var1, var2=var2, S=salt, T=temp, \n",
    "                      Patm=1, P=press, Pt=Phos, Sit=Sil, \n",
    "                      evar1=dat$Var1, evar2=dat$Var2, eS=0, eT=0, ePt=0, eSit=0, epK=epKstd, #HUOM!!!\n",
    "                      k1k2='w14', kf='dg', ks=\"d\", pHscale=\"T\", b=\"u74\", gas=\"potential\", warn='no')\n",
    "}\n",
    "\n",
    "\n",
    "# Keep only key columns in vars for consistency with columns in absEt\n",
    "vars <- vars[,colnames(absEt)] \n",
    "vars\n",
    "\n",
    "# Duplicate rows in *vars* until same as number of members of error vector ALK_e\n",
    "numerrs <- length(dat$Var1)\n",
    "vars <- vars[rep(row.names(vars), numerrs), ]\n",
    "\n",
    "#Relative errors (in percent)\n",
    "relEt <- 100* absEt / vars            #Total relative error (from constants and other input variables)\n",
    "# relEt"
   ]
  },
  {
   "cell_type": "markdown",
   "metadata": {},
   "source": [
    "### 2.2 Define simpler names of variables to be plotted"
   ]
  },
  {
   "cell_type": "code",
   "execution_count": 117,
   "metadata": {
    "collapsed": false,
    "scrolled": true
   },
   "outputs": [],
   "source": [
    "%%R\n",
    "#   Absolute changes (fCO2 missing):\n",
    "    pH       <- absEt$pH\n",
    "    pCO2     <- absEt$pCO2\n",
    "    CO3      <- absEt$CO3\n",
    "    CO2      <- absEt$CO2\n",
    "    pCO2socn <- absEt$pCO2\n",
    "    OmegaA   <- absEt$OmegaAragonite\n",
    "    HCO3     <- absEt$HCO3\n",
    "    H        <- absEt$H\n",
    "\n",
    "#   Relative changes:\n",
    "    rCO3  <- relEt$CO3\n",
    "    rH    <- relEt$H\n",
    "    rpCO2 <- relEt$pCO2\n",
    "    rCO2  <- relEt$CO2\n",
    "    #rpCO2   <- relEt$pCO2 ###DUPLICATE\n",
    "    rOmegaA <- relEt$OmegaAragonite\n",
    "    rHCO3   <- relEt$HCO3\n",
    "    H       <- absEt$H\n",
    "\n",
    "    rHCO3H <- sqrt(rHCO3^2 + rH^2)\n"
   ]
  },
  {
   "cell_type": "markdown",
   "metadata": {},
   "source": [
    "## 3. Compute other parts of error-space diagrams"
   ]
  },
  {
   "cell_type": "markdown",
   "metadata": {},
   "source": [
    "### 3.1 Constants-pair CURVE (along which propagated error from constants equals that from the input pair)"
   ]
  },
  {
   "cell_type": "code",
   "execution_count": 134,
   "metadata": {
    "collapsed": false
   },
   "outputs": [
    {
     "data": {
      "text/plain": [
       "[1] 0.004 0.015 0.030 0.010 0.010 0.020 0.020 0.010\n"
      ]
     },
     "metadata": {},
     "output_type": "display_data"
    }
   ],
   "source": [
    "%%R\n",
    "epKstd"
   ]
  },
  {
   "cell_type": "code",
   "execution_count": 199,
   "metadata": {
    "collapsed": false
   },
   "outputs": [],
   "source": [
    "%%R\n",
    "# Critical curves (Constants-Pairs curve)\n",
    "# ===============\n",
    "# Southern Ocean\n",
    "errcirc <- errhalf(flag=menu_flag, var1=var1, var2=var2, S=salt, T=temp, \n",
    "                   Patm=1, P=press, Pt=Phos, Sit=Sil,\n",
    "                   epK=epKstd,\n",
    "                   k1k2='l', kf='dg', ks=\"d\", pHscale=\"T\", b=\"u74\", gas=\"potential\", warn=\"n\")\n",
    "\n",
    "if (menu_flag == 15) {\n",
    "    sig1_AtCt   <- data.frame(errcirc[1]) * 1e+6\n",
    "    sig2_AtCt   <- data.frame(errcirc[2]) * 1e+6\n",
    "    # sigy_AtCt   <- data.frame(errcirc[3]) ###HUOM not used\n",
    "    sig1hp_AtCt <- data.frame(errcirc[4]) * 1e+6\n",
    "    sig2hp_AtCt <- data.frame(errcirc[5]) * 1e+6\n",
    "} else if (menu_flag == 8) {\n",
    "    sig1_AtCt   <- data.frame(errcirc[1]) #this is a pH\n",
    "    sig2_AtCt   <- data.frame(errcirc[2]) * 1e+6    \n",
    "    sig1hp_AtCt <- data.frame(errcirc[4]) #this is a pH\n",
    "    sig2hp_AtCt <- data.frame(errcirc[5]) * 1e+6\n",
    "    \n",
    "}\n"
   ]
  },
  {
   "cell_type": "markdown",
   "metadata": {},
   "source": [
    "### 3.2 Balanced-pair LINE (along which both members of input pair contrbute equally to propagated error)"
   ]
  },
  {
   "cell_type": "code",
   "execution_count": 200,
   "metadata": {
    "collapsed": false,
    "scrolled": true
   },
   "outputs": [],
   "source": [
    "%%R\n",
    "sigyspct <- seq(0,20,by=0.1) # in percent\n",
    "\n",
    "# At-Ct pair\n",
    "# ----------\n",
    "# Southern Ocean\n",
    "errm <- errmid(flag=menu_flag, var1=var1, var2=var2, S=salt, T=temp, \n",
    "                   Patm=1, P=press, Pt=Phos, Sit=Sil,\n",
    "                   sigyspct, epK=epKstd,\n",
    "                   k1k2='l', kf='dg', ks=\"d\", pHscale=\"T\", b=\"u74\", gas=\"potential\", warn=\"n\")\n",
    "\n",
    "if (menu_flag == 15) {\n",
    "    sigm1_AtCt   <- data.frame(errm[1]) * 1e+6\n",
    "    sigm2_AtCt   <- data.frame(errm[2]) * 1e+6\n",
    "} else if (menu_flag == 8) {\n",
    "    sigm1_AtCt   <- data.frame(errm[1]) #this is a pH\n",
    "    sigm2_AtCt   <- data.frame(errm[2]) * 1e+6\n",
    "}\n"
   ]
  },
  {
   "cell_type": "code",
   "execution_count": 201,
   "metadata": {
    "collapsed": false
   },
   "outputs": [
    {
     "data": {
      "text/plain": [
       "  [1]        NaN        NaN        NaN        NaN        NaN        NaN\n",
       "  [7]        NaN        NaN        NaN        NaN        NaN        NaN\n",
       " [13]        NaN        NaN        NaN        NaN        NaN        NaN\n",
       " [19]        NaN        NaN        NaN        NaN        NaN        NaN\n",
       " [25]        NaN        NaN        NaN        NaN        NaN        NaN\n",
       " [31]        NaN        NaN        NaN        NaN        NaN        NaN\n",
       " [37]        NaN        NaN        NaN        NaN        NaN        NaN\n",
       " [43]        NaN        NaN        NaN        NaN        NaN        NaN\n",
       " [49]        NaN        NaN        NaN        NaN        NaN        NaN\n",
       " [55]        NaN        NaN        NaN        NaN        NaN        NaN\n",
       " [61]        NaN        NaN        NaN   9.199885  20.064456  26.935736\n",
       " [67]  32.457548  37.235170  41.526262  45.468780  49.146683  52.615491\n",
       " [73]  55.914134  59.071126  62.108071  65.041786  67.885657  70.650534\n",
       " [79]  73.345351  75.977562  78.553462  81.078419  83.557049  85.993360\n",
       " [85]  88.390851  90.752598  93.081322  95.379442  97.649119  99.892292\n",
       " [91] 102.110707 104.305944 106.479437 108.632491 110.766297 112.881947\n",
       " [97] 114.980444 117.062710 119.129596 121.181888 123.220317 125.245559\n",
       "[103] 127.258244 129.258958 131.248248 133.226627 135.194573 137.152536\n",
       "[109] 139.100937 141.040172 142.970615 144.892616 146.806508 148.712603\n",
       "[115] 150.611197 152.502571 154.386990 156.264706 158.135956 160.000969\n",
       "[121] 161.859960 163.713134 165.560686 167.402802 169.239661 171.071430\n",
       "[127] 172.898273 174.720343 176.537789 178.350751 180.159365 181.963761\n",
       "[133] 183.764063 185.560390 187.352857 189.141572 190.926643 192.708169\n",
       "[139] 194.486249 196.260975 198.032439 199.800727 201.565922 203.328105\n",
       "[145] 205.087354 206.843744 208.597347 210.348231 212.096466 213.842116\n",
       "[151] 215.585243 217.325909 219.064171 220.800087 222.533712 224.265099\n",
       "[157] 225.994299 227.721362 229.446336 231.169268 232.890204 234.609187\n",
       "[163] 236.326260 238.041464 239.754840 241.466426 243.176260 244.884378\n",
       "[169] 246.590817 248.295612 249.998794 251.700399 253.400456 255.098998\n",
       "[175] 256.796054 258.491653 260.185825 261.878596 263.569993 265.260044\n",
       "[181] 266.948773 268.636205 270.322366 272.007277 273.690963 275.373446\n",
       "[187] 277.054748 278.734890 280.413893 282.091778 283.768563 285.444270\n",
       "[193] 287.118915 288.792519 290.465099 292.136672 293.807256 295.476867\n",
       "[199] 297.145523 298.813238 300.480029\n"
      ]
     },
     "metadata": {},
     "output_type": "display_data"
    }
   ],
   "source": [
    "%%R\n",
    "sigm2_AtCt$CO3"
   ]
  },
  {
   "cell_type": "markdown",
   "metadata": {},
   "source": [
    "## 4. Plot results: contours of calculated errors from input errors"
   ]
  },
  {
   "cell_type": "markdown",
   "metadata": {},
   "source": [
    "### 4.1 Create file 'prettyaxes.R' to beautify subsequent plots (call it in cell below)"
   ]
  },
  {
   "cell_type": "code",
   "execution_count": 202,
   "metadata": {
    "collapsed": false
   },
   "outputs": [],
   "source": [
    "%%R\n",
    "cat(' box()\\n',\n",
    "    'axis(1,labels=FALSE, tcl=-0.35) ; axis(1, lwd=0, line=-0.4, labels=TRUE)\\n',\n",
    "    'axis(2,labels=FALSE,tcl=-0.35)  ; axis(2, lwd=0, line=-0.4, las=2, labels=TRUE)\\n',\n",
    "    'axis(3,labels=FALSE,tcl=-0.35) ; axis(4,labels=FALSE,tcl=-0.25)\\n',\n",
    "   file='prettyaxes.R')"
   ]
  },
  {
   "cell_type": "markdown",
   "metadata": {},
   "source": [
    "### 4.2 Function to strip NaNs and add a 0 at beginning of a vector"
   ]
  },
  {
   "cell_type": "code",
   "execution_count": 203,
   "metadata": {
    "collapsed": true
   },
   "outputs": [],
   "source": [
    "%%R\n",
    "zenon <- function(x){\n",
    "       # Get rid of NaN's\n",
    "       x <- c(0.0, x[!is.na(x)]) \n",
    "       return(x)\n",
    "}"
   ]
  },
  {
   "cell_type": "markdown",
   "metadata": {},
   "source": [
    "### 4.3 Function to make plot"
   ]
  },
  {
   "cell_type": "code",
   "execution_count": 204,
   "metadata": {
    "collapsed": false
   },
   "outputs": [],
   "source": [
    "%%R\n",
    "plterrcontour <- function(sigcritXa, sigcritYa, xlab, ylab, subtitle, xlim, ylim,\n",
    "                           sighpXa, sighpYa,\n",
    "                           sigmidXa, sigmidYa,\n",
    "                           sigsoaX, sigsoaY,\n",
    "                           x, y, za, levels1,\n",
    "                           methoda='flattest'){\n",
    "    \n",
    "#   Region 'a' is Southern Ocean  ;  Region 'b' is Tropics:\n",
    "    # 'contour' command must come after any 'plot', 'lines', or 'points' commands \n",
    "    plot (sigcritXa, sigcritYa, xlab=xlab, ylab=ylab, plot.title=title(main=subtitle),\n",
    "          xlim=xlim, ylim=ylim, col=\"black\", type='l', lwd=4, lty='solid',xaxt='n',yaxt='n',\n",
    "          cex.lab=1.4, ann=F, xaxs='r', yaxs='r')\n",
    "#   Plot critical point\n",
    "    if ( is.null(sighpXa) ) {\n",
    "        points(sigcritXa[11], sigcritYa[11], col=\"black\", cex=1.7, pch=19)\n",
    "    } else {\n",
    "        points(sighpXa, sighpYa, col=\"black\", cex=1.7, pch=19)\n",
    "    }    \n",
    "#   Plot mid-line (where e1 = e2 on each isoline [and between isolines])\n",
    "    lines(sigmidXa, sigmidYa, col=\"black\", lwd=1, lty='solid')\n",
    "#   symbols(x=sigcritXb[11], y=sigcritYb[11], circles=1, inches=1/3, ann=F, bg=\"steelblue2\", fg=NULL, add=TRUE)\n",
    "#   Plot point(s) at state-of-the-art (soa) for absolute error in each member of the input pair\n",
    "#   - pH has 2 points (random & overall error); other 3 input variables only have 1 point\n",
    "    points(sigsoaX, sigsoaY, col=\"black\", cex=1.7, pch=4)\n",
    "    axis(1,labels=TRUE, tcl=-0.35, cex.axis=1.3) \n",
    "    axis(2, tcl=-0.35, labels=FALSE, las=0) \n",
    "    title(xlab = xlab, cex.lab = 1.4, line = 2.9)\n",
    "    title(ylab = ylab, cex.lab = 1.4, line = 1.9)\n",
    "\n",
    "#   Add 2 colored text strings near origin to indicate the propagated error at the origin (from constants only)\n",
    "    a0 <- za[1,1]\n",
    "    if (a0 < 1) {ndiga <- 2} else {ndiga <- 3}\n",
    "    mtext( format(a0, digits=ndiga), side=1, line=2.5, at=0, srt=0,  cex=1.05, col='blue')\n",
    "\n",
    "#  'contour' command MUST come after any 'plot', 'lines', or 'points' commands \n",
    "#   For 'method', use 'simple, edge or flattest (flattest looks best but seems to fail often when lines are vertical)\n",
    "    contour(x, y , za, levels=levels1, method=methoda, col=\"blue\", lty=1, lwd=2, \n",
    "            yaxt='n', , labcex=1.0, add=TRUE)\n",
    "    axis(2, tcl=-0.35, labels=FALSE) \n",
    "\n",
    "    axis(2, tcl=-0.35, labels=FALSE, las=0) ; \n",
    "    axis(2, lwd=0, line=-0.4, las=2, labels=TRUE, cex.axis=1.4)\n",
    "    axis(3,labels=FALSE,tcl=-0.35) ; axis(4,labels=FALSE,tcl=-0.25)\n",
    "    done <- c('error contour plot')\n",
    "#return(NULL)\n",
    "}"
   ]
  },
  {
   "cell_type": "markdown",
   "metadata": {},
   "source": [
    "### 4.4 Error-space diagram of relative error in CO3  for At-Ct input pair\n",
    "\n",
    "Combine (1) contour plot of CO3 with (2) constants-pair curve, (3) balanced-pair line, ane (4) symbol indicating current state-of-the-art uncertainty."
   ]
  },
  {
   "cell_type": "code",
   "execution_count": 205,
   "metadata": {
    "collapsed": false
   },
   "outputs": [
    {
     "data": {
      "text/plain": [
       " [1]  0  1  2  3  4  5  6  7  8  9 10 11 12 13 14 15 16 17 18 19 20\n"
      ]
     },
     "metadata": {},
     "output_type": "display_data"
    }
   ],
   "source": [
    "%%R\n",
    "pCO2_e"
   ]
  },
  {
   "cell_type": "code",
   "execution_count": 206,
   "metadata": {
    "collapsed": false
   },
   "outputs": [
    {
     "data": {
      "text/plain": [
       "[1] 21\n"
      ]
     },
     "metadata": {},
     "output_type": "display_data"
    }
   ],
   "source": [
    "%%R\n",
    "length(var1_e)"
   ]
  },
  {
   "cell_type": "code",
   "execution_count": 207,
   "metadata": {
    "collapsed": false
   },
   "outputs": [
    {
     "data": {
      "image/png": "[encoded data removed]"
     },
     "metadata": {},
     "output_type": "display_data"
    }
   ],
   "source": [
    "%%R\n",
    "\n",
    "#   options(repr.plot.width=7.0, repr.plot.height=7)\n",
    "  options(repr.plot.width=10.0, repr.plot.height=7)\n",
    "\n",
    "\n",
    "#     dim(rCO3) <- c(length(DIC_e), length(ALK_e))\n",
    "#     dim(rCO3) <- c(length(var2_e), length(var1_e))  #my one\n",
    "\n",
    "    dim(rCO3) <- c(length(pCO2_e), length(pH_e))  #edited to match mega\n",
    "#     dim(rCO3_pHAt_socn) <- c(length(pCO2_e), length(pH_e))  ##FROM MEGA NOTEBOOK\n",
    "\n",
    "    \n",
    "\n",
    "#   pdf(file=\"Fig_AbsErrContours2_trop_socn.pdf\")\n",
    "    par(mfrow=c(1,1), mar=c(4,3.7,1,1.5)+0.1, oma=c(2,0,0,0.5), mgp=c(2,1,0), font.main=1)\n",
    "\n",
    "    subtitle <- \"test\"\n",
    "\n",
    "#   At-Ct\n",
    "#   -------------------\n",
    "#     xlabel <- expression(paste(sigma[italic(\"C\")[T]],\" (\",mu,\"mol kg\"^{-1},\")\",sep=\"\"))\n",
    "#     ylabel <- expression(paste(sigma[italic(\"A\")[T]],\" (\",mu,\"mol kg\"^{-1},\")\",sep=\"\"))\n",
    "      xlabel <- expression(paste(sigma[pH],\" (total scale)\",sep=\"\"))\n",
    "      ylabel <- expression(paste(sigma[italic(\"A\")[T]],\" (\",mu,\"mol kg\"^{-1},\")\",sep=\"\"))\n",
    "\n",
    "    sigcritXa <- sig1_AtCt$CO3  ;  sigcritYa <- sig2_AtCt$CO3  #sig2_ is x axis; sig1_ is y axis\n",
    "    za <- rCO3\n",
    "    xlim <- c(0,0.03) ; ylim <- c(0,20) \n",
    "    levels1 <- c(4.2, seq(4,7,by=1))\n",
    "\n",
    "    plterrcontour (sigcritXa, sigcritYa, xlabel, ylabel, subtitle, xlim, ylim,\n",
    "#                    sig1hp_AtCt$CO3, sig2hp_AtCt$CO3,\n",
    "                   NULL, NULL,\n",
    "#                    zenon(sigm2_AtCt$CO3), zenon(sigm1_AtCt$CO3),\n",
    "                   zenon(sigm1_AtCt$CO3), zenon(sigm2_AtCt$CO3),\n",
    "                   var1_e_soa2, var2_e_soa2,\n",
    "                   x, y, za, levels1,\n",
    "                   'flattest')\n",
    "\n"
   ]
  },
  {
   "cell_type": "markdown",
   "metadata": {},
   "source": [
    "***Figure:*** Percent relative uncertainty in computed $[\\text{CO}_3^{2-}]$ from the $A_\\text{T}-C_\\text{T}$ input pair as a function of uncertainties in each member of that input pair. Each of those members is indicated by the x- and y-axis labels. Propagated relative error (in percent) is shown for the Southern Ocean (blue solid lines). Sublots without pH as an input member also include the Constants-Pair curve (thick black line), where the total propagated error from the constants is equal to that from the input pair. The balanced-pair line (thin black line) indicates where each member of the input pair contributes equally to total propagated error. "
   ]
  },
  {
   "cell_type": "code",
   "execution_count": null,
   "metadata": {
    "collapsed": true
   },
   "outputs": [],
   "source": []
  }
 ],
 "metadata": {
  "kernelspec": {
   "display_name": "Python 2",
   "language": "python",
   "name": "python2"
  },
  "language_info": {
   "codemirror_mode": {
    "name": "ipython",
    "version": 2
   },
   "file_extension": ".py",
   "mimetype": "text/x-python",
   "name": "python",
   "nbconvert_exporter": "python",
   "pygments_lexer": "ipython2",
   "version": "2.7.12"
  }
 },
 "nbformat": 4,
 "nbformat_minor": 0
}
