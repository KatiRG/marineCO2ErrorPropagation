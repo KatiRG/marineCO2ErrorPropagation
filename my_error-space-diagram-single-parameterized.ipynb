{
 "cells": [
  {
   "cell_type": "markdown",
   "metadata": {},
   "source": [
    "# Error-space diagram - example for 1 input pair, 1 derived var, 1 region"
   ]
  },
  {
   "cell_type": "markdown",
   "metadata": {},
   "source": [
    "#### Load needed packages"
   ]
  },
  {
   "cell_type": "code",
   "execution_count": 1,
   "metadata": {
    "collapsed": false
   },
   "outputs": [],
   "source": [
    "import rpy2\n",
    "\n",
    "# necessary to workaround the error: /u01/anaconda2/lib/libreadline.so.6: undefined symbol: PC\n",
    "# https://www.rittmanmead.com/blog/2016/07/using-r-jupyter-notebooks-big-data-discovery/\n",
    "import readline\n",
    "\n",
    "%load_ext rpy2.ipython"
   ]
  },
  {
   "cell_type": "code",
   "execution_count": 2,
   "metadata": {
    "collapsed": false,
    "scrolled": false
   },
   "outputs": [
    {
     "name": "stderr",
     "output_type": "stream",
     "text": [
      "/homel/cnangini/anaconda/lib/python2.7/site-packages/rpy2/rinterface/__init__.py:186: RRuntimeWarning: Le chargement a nécessité le package : oce\n",
      "\n",
      "  warnings.warn(x, RRuntimeWarning)\n",
      "/homel/cnangini/anaconda/lib/python2.7/site-packages/rpy2/rinterface/__init__.py:186: RRuntimeWarning: Le chargement a nécessité le package : gsw\n",
      "\n",
      "  warnings.warn(x, RRuntimeWarning)\n"
     ]
    },
    {
     "data": {
      "text/plain": [
       "[1] ‘3.1.1’\n"
      ]
     },
     "metadata": {},
     "output_type": "display_data"
    }
   ],
   "source": [
    "%%R\n",
    "#libraries previously installed using:\n",
    "library(seacarb)\n",
    "library(oce)\n",
    "library(gsw)\n",
    "\n",
    "#library(Hmisc)   #for minor ticks in plot\n",
    "\n",
    "packageVersion('seacarb')"
   ]
  },
  {
   "cell_type": "markdown",
   "metadata": {},
   "source": [
    "## 1. Get routines and specify input vars"
   ]
  },
  {
   "cell_type": "markdown",
   "metadata": {},
   "source": [
    "### 1.1 Read in new and modified functions "
   ]
  },
  {
   "cell_type": "markdown",
   "metadata": {},
   "source": [
    "The commands below read in routines that have been modified (derivnum and errors) or are completely new relative to the standard version of the seacarb distribution.  You can get these new and modified routines from github:\n",
    "\n",
    "git clone https://github.com/jamesorr/seacarb-git.git\n",
    "\n",
    "Then just change the directory in the 4 lines of the cell just below:"
   ]
  },
  {
   "cell_type": "code",
   "execution_count": 3,
   "metadata": {
    "collapsed": true
   },
   "outputs": [],
   "source": [
    "%%R\n",
    "#branch buffesm1 of seacarb-git\n",
    "source(\"/homel/cnangini/PROJECTS/seacarb-git/R/errhalf.R\")\n",
    "source(\"/homel/cnangini/PROJECTS/seacarb-git/R/errmid.R\")\n",
    "source(\"/homel/cnangini/PROJECTS/seacarb-git/R/errors.R\")\n",
    "source(\"/homel/cnangini/PROJECTS/seacarb-git/R/derivnum.R\")"
   ]
  },
  {
   "cell_type": "markdown",
   "metadata": {},
   "source": [
    "### 1.2 Specify input variables and their corresponding uncertainties (errors)"
   ]
  },
  {
   "cell_type": "code",
   "execution_count": 75,
   "metadata": {
    "collapsed": true
   },
   "outputs": [],
   "source": [
    "%%R\n",
    "#User inputs\n",
    "\n",
    "# Specify flag\n",
    "#   menu_flag = 15  #var1=ALK, var2=DIC\n",
    "#   menu_flag = 8   #var1=pH, var2=ALK\n",
    "  menu_flag = 25  #var1=pCO2, var2=DIC\n"
   ]
  },
  {
   "cell_type": "code",
   "execution_count": 76,
   "metadata": {
    "collapsed": false
   },
   "outputs": [],
   "source": [
    "%%R\n",
    "\n",
    "  temp = -0.49    #C\n",
    "  salt = 35    #psu\n",
    "  press = 0       #bar\n",
    "  Phos = 2.e-6    #(umol/kg)\n",
    "  Sil = 60.e-6    #(umol/kg)\n",
    "\n",
    "\n",
    "  if (menu_flag == 15){#var1=ALK, var2=DIC\n",
    "      \n",
    "      # Input variables:\n",
    "      var1 = 2295e-6  #(umol/kg)\n",
    "      var2 = 2155e-6\n",
    "      \n",
    "      # Uncertainties in input variables      \n",
    "      var1_e <- seq(0., 20., 1.0) * 1e-6\n",
    "      var2_e <- var1_e\n",
    "      \n",
    "      var1_e_soa   <- 2 #umol/kg\n",
    "      var2_e_soa   <- 2 #umol/kg\n",
    "\n",
    "      var1_e_soa2  <- c(var1_e_soa, var1_e_soa)\n",
    "      var2_e_soa2  <- c(var2_e_soa, var2_e_soa)\n",
    "\n",
    "      # for plot\n",
    "      x <- var2_e*1e+6  ;  y <- var1_e*1e+6      \n",
    "      xlim <- c(0,20)  ; ylim <- xlim\n",
    "      levels1 <- c(1,seq(2,20,by=2))\n",
    "      xlabel <- expression(paste(sigma[italic(\"C\")[T]],\" (\",mu,\"mol kg\"^{-1},\")\",sep=\"\"))\n",
    "      ylabel <- expression(paste(sigma[italic(\"A\")[T]],\" (\",mu,\"mol kg\"^{-1},\")\",sep=\"\"))\n",
    "      \n",
    "  } else if (menu_flag == 8) {#var1=pH, var2=ALK\n",
    "      # Input variables:\n",
    "      var1 = 8.111823\n",
    "      var2 = 2295e-6  #(umol/kg)\n",
    "      \n",
    "      # Uncertainties in input variables      \n",
    "      var1_e <- seq(0,0.03,0.0015)\n",
    "      var2_e <- seq(0., 20., 1.0) * 1e-6\n",
    "      \n",
    "      var1_e_soa   <- c(0.003, 0.01)\n",
    "      var2_e_soa   <- 2 #umol/kg\n",
    "      \n",
    "      var1_e_soa2  <- var1_e_soa\n",
    "      var2_e_soa2  <- c(var2_e_soa, var2_e_soa)\n",
    "      \n",
    "      # for plot\n",
    "      x <- var1_e           ;  y <- var2_e * 1e+6\n",
    "      xlim <- c(0,0.03) ; ylim <- c(0,20) \n",
    "      levels1 <- c(4.2, seq(4,7,by=1))\n",
    "      xlabel <- expression(paste(sigma[pH],\" (total scale)\",sep=\"\"))\n",
    "      ylabel <- expression(paste(sigma[italic(\"A\")[T]],\" (\",mu,\"mol kg\"^{-1},\")\",sep=\"\"))\n",
    "  \n",
    "  } else if (menu_flag == 25) {#var1=pCO2, var2=DIC\n",
    "      # Input variables:\n",
    "      var1 = 330.5511 #uatm\n",
    "      var2 = 2155e-6  #(umol/kg)\n",
    "      \n",
    "      # Uncertainties in input variables      \n",
    "      var1_e <- seq(0,20,1)\n",
    "      var2_e <- seq(0., 20., 1.0) * 1e-6\n",
    "      \n",
    "      var1_e_soa   <- 2\n",
    "      var2_e_soa   <- 2 #umol/kg\n",
    "      \n",
    "      var1_e_soa2  <- c(var1_e_soa, var1_e_soa)\n",
    "      var2_e_soa2  <- c(var2_e_soa, var2_e_soa)\n",
    "      \n",
    "      # for plot\n",
    "      x <- var1_e           ;  y <- var2_e * 1e+6\n",
    "      xlim <- c(0,20)  ; ylim <- xlim\n",
    "      levels1 <- c(4.7,seq(1,20,by=1))\n",
    "      xlabel <- expression(paste(sigma[pCO[2]],\" (\",mu,\"atm\",\")\",sep=\"\"))\n",
    "      ylabel <- expression(paste(sigma[italic(\"C\")[T]],\" (\",mu,\"mol kg\"^{-1},\")\",sep=\"\"))\n",
    "      \n",
    "  }\n",
    " \n",
    "\n"
   ]
  },
  {
   "cell_type": "markdown",
   "metadata": {},
   "source": [
    "### 1.3 Default uncertainties in equilibrium constants (pK0, pK1, pK2, pKb, pKw, pKa, pKc, Bt)"
   ]
  },
  {
   "cell_type": "code",
   "execution_count": 77,
   "metadata": {
    "collapsed": true
   },
   "outputs": [],
   "source": [
    "%%R\n",
    "# Estimates for errors in constants in errors.R routine (from Orr et al., 2017)\n",
    "  epKstd  <- c(0.004, 0.015,  0.03, 0.01,  0.01, 0.02, 0.02, 0.01)\n",
    "# epKstd  <- c(0.004, 0.015,  0.03, 0.01,  0.01, 0.02, 0.02)"
   ]
  },
  {
   "cell_type": "markdown",
   "metadata": {},
   "source": [
    "### 1.3 Compute derived carbonate system vars with std seacarb routine `carb`:"
   ]
  },
  {
   "cell_type": "code",
   "execution_count": 78,
   "metadata": {
    "collapsed": false
   },
   "outputs": [],
   "source": [
    "%%R\n",
    "# Compute derived carbonate system variables with standard seacarb routine 'carb':\n",
    "\n",
    "# Southern Ocean\n",
    "vars <- carb  (flag=menu_flag, var1=var1, var2=var2, S=salt, T=temp, Patm=1, P=press, Pt=Phos, Sit=Sil, \n",
    "                    k1k2='w14', kf='dg', ks=\"d\", pHscale=\"T\", b=\"u74\", gas=\"potential\", warn='n')\n",
    "\n",
    "# vars <- carb  (flag=15, var1=ALK_socn, var2=DIC_socn, S=salt, T=temp, Patm=1, P=press, Pt=Phos, Sit=Sil, \n",
    "#                     k1k2='w14', kf='dg', ks=\"d\", pHscale=\"T\", b=\"u74\", gas=\"potential\", warn='n')\n",
    "\n",
    "\n",
    "pH <- vars$pH\n",
    "pCO2 <- vars$pCO2\n",
    "\n",
    "# Compute H+ from pH, i.e., pH = -log10[H+], where [H+] is the hydrogen ion concentration in mol/kg\n",
    "H = 10^(-1*vars$pH)\n",
    "\n",
    "# Keep only key columns to be consistent with output from 'errors.R' routine (called below)\n",
    "vars <- data.frame(H, vars[,c('pH','CO2','fCO2','pCO2','HCO3','CO3','OmegaAragonite','OmegaCalcite')] )\n",
    "vars\n",
    "\n",
    "# Duplicate rows in *vars* until same as number of members of error vector ALK_e\n",
    "numerrs <- length(var1_e)\n",
    "vars <- vars[rep(row.names(vars), numerrs), ]\n"
   ]
  },
  {
   "cell_type": "markdown",
   "metadata": {},
   "source": [
    "### 1.4 Use 1-D error vectors to build 2-D error array (to plot contours in DIC-ALK space)  "
   ]
  },
  {
   "cell_type": "code",
   "execution_count": 79,
   "metadata": {
    "collapsed": false
   },
   "outputs": [],
   "source": [
    "%%R\n",
    "if (menu_flag == 15) dat <- expand.grid(var2_e, var1_e)\n",
    "else if (menu_flag == 8 || menu_flag == 9 || menu_flag == 21 || menu_flag == 24 || menu_flag == 25) {\n",
    "    dat <- expand.grid(var1_e,  var2_e)\n",
    "}\n",
    "\n",
    "#   dat_pCO2Ct <- expand.grid(pCO2_e,  DIC_e) #flag 25"
   ]
  },
  {
   "cell_type": "markdown",
   "metadata": {},
   "source": [
    "### 1.5 Specify state-of-art (soa) errors for vars: from error-propagation manuscript (Orr et al. 2017, Table 1) \n",
    "\n",
    "These will be plotted as crosses on the error-space diagrams"
   ]
  },
  {
   "cell_type": "markdown",
   "metadata": {},
   "source": [
    "## 2. Compute derived variables (with `carb`) and propagated errors (with `errors`)"
   ]
  },
  {
   "cell_type": "markdown",
   "metadata": {},
   "source": [
    "### 2.1 Computations of derived vars and their errors"
   ]
  },
  {
   "cell_type": "code",
   "execution_count": 80,
   "metadata": {
    "collapsed": false
   },
   "outputs": [
    {
     "data": {
      "text/plain": [
       "[1] 0.002155\n"
      ]
     },
     "metadata": {},
     "output_type": "display_data"
    }
   ],
   "source": [
    "%%R\n",
    "var2"
   ]
  },
  {
   "cell_type": "code",
   "execution_count": 57,
   "metadata": {
    "collapsed": false
   },
   "outputs": [],
   "source": [
    "%%R\n",
    "# Compute variables\n",
    "vars <- carb  (flag=menu_flag, var1=var1, var2=var2, S=salt, T=temp, Patm=1, P=press, Pt=Phos, Sit=Sil, \n",
    "                    k1k2='w14', kf='dg', ks=\"d\", pHscale=\"T\", b=\"u74\", gas=\"potential\", warn='n')\n",
    "\n",
    "H = 10^(-1*vars$pH)         # H+ concentration (mol/kg)\n",
    "vars <- data.frame(H, vars) # Add H+ as new column to vars data frame\n",
    "\n",
    "# Absolute errors: propagated uncertainties\n",
    "if (menu_flag == 15) {\n",
    "    absEt <- errors (flag=menu_flag, var1=var1, var2=var2, S=salt, T=temp, \n",
    "                      Patm=1, P=press, Pt=Phos, Sit=Sil, \n",
    "                      evar1=dat$Var2, evar2=dat$Var1, eS=0, eT=0, ePt=0, eSit=0, epK=epKstd, #HUOM!!!                \n",
    "                      k1k2='w14', kf='dg', ks=\"d\", pHscale=\"T\", b=\"u74\", gas=\"potential\", warn='no')\n",
    "    \n",
    "} else if (menu_flag == 8 || menu_flag == 25) { ##NB: SWAP dat$Var2 and dat$Var1 !!!!!!\n",
    "    absEt <- errors (flag=menu_flag, var1=var1, var2=var2, S=salt, T=temp, \n",
    "                      Patm=1, P=press, Pt=Phos, Sit=Sil, \n",
    "                      evar1=dat$Var1, evar2=dat$Var2, eS=0, eT=0, ePt=0, eSit=0, epK=epKstd, #HUOM!!!\n",
    "                      k1k2='w14', kf='dg', ks=\"d\", pHscale=\"T\", b=\"u74\", gas=\"potential\", warn='no')\n",
    "}\n",
    "\n",
    "\n",
    "# Keep only key columns in vars for consistency with columns in absEt\n",
    "vars <- vars[,colnames(absEt)] \n",
    "vars\n",
    "\n",
    "# Duplicate rows in *vars* until same as number of members of error vector ALK_e\n",
    "numerrs <- length(dat$Var1)\n",
    "vars <- vars[rep(row.names(vars), numerrs), ]\n",
    "\n",
    "#Relative errors (in percent)\n",
    "relEt <- 100* absEt / vars            #Total relative error (from constants and other input variables)\n",
    "# relEt"
   ]
  },
  {
   "cell_type": "markdown",
   "metadata": {},
   "source": [
    "### 2.2 Define simpler names of variables to be plotted"
   ]
  },
  {
   "cell_type": "code",
   "execution_count": 58,
   "metadata": {
    "collapsed": false,
    "scrolled": true
   },
   "outputs": [],
   "source": [
    "%%R\n",
    "\n",
    "#   Relative changes:\n",
    "    rCO3  <- relEt$CO3\n",
    "    rH    <- relEt$H\n",
    "    rpCO2 <- relEt$pCO2\n",
    "    rCO2  <- relEt$CO2\n",
    "    #rpCO2   <- relEt$pCO2 ###DUPLICATE\n",
    "    rOmegaA <- relEt$OmegaAragonite\n",
    "    rHCO3   <- relEt$HCO3\n",
    "    H       <- absEt$H\n",
    "\n",
    "    rHCO3H <- sqrt(rHCO3^2 + rH^2)\n"
   ]
  },
  {
   "cell_type": "markdown",
   "metadata": {},
   "source": [
    "## 3. Compute other parts of error-space diagrams"
   ]
  },
  {
   "cell_type": "markdown",
   "metadata": {},
   "source": [
    "### 3.1 Constants-pair CURVE (along which propagated error from constants equals that from the input pair)"
   ]
  },
  {
   "cell_type": "code",
   "execution_count": 59,
   "metadata": {
    "collapsed": false
   },
   "outputs": [],
   "source": [
    "%%R\n",
    "# Critical curves (Constants-Pairs curve)\n",
    "# ===============\n",
    "# Southern Ocean\n",
    "errcirc <- errhalf(flag=menu_flag, var1=var1, var2=var2, S=salt, T=temp, \n",
    "                   Patm=1, P=press, Pt=Phos, Sit=Sil,\n",
    "                   epK=epKstd,\n",
    "                   k1k2='l', kf='dg', ks=\"d\", pHscale=\"T\", b=\"u74\", gas=\"potential\", warn=\"n\")\n"
   ]
  },
  {
   "cell_type": "markdown",
   "metadata": {},
   "source": [
    "### 3.2 Balanced-pair LINE (along which both members of input pair contrbute equally to propagated error)"
   ]
  },
  {
   "cell_type": "code",
   "execution_count": 60,
   "metadata": {
    "collapsed": false,
    "scrolled": true
   },
   "outputs": [],
   "source": [
    "%%R\n",
    "sigyspct <- seq(0,20,by=0.1) # in percent\n",
    "\n",
    "# At-Ct pair\n",
    "# ----------\n",
    "# Southern Ocean\n",
    "errm <- errmid(flag=menu_flag, var1=var1, var2=var2, S=salt, T=temp, \n",
    "                   Patm=1, P=press, Pt=Phos, Sit=Sil,\n",
    "                   sigyspct, epK=epKstd,\n",
    "                   k1k2='l', kf='dg', ks=\"d\", pHscale=\"T\", b=\"u74\", gas=\"potential\", warn=\"n\")\n"
   ]
  },
  {
   "cell_type": "code",
   "execution_count": 72,
   "metadata": {
    "collapsed": false
   },
   "outputs": [
    {
     "data": {
      "text/plain": [
       "[1] 0.002155\n"
      ]
     },
     "metadata": {},
     "output_type": "display_data"
    }
   ],
   "source": [
    "%%R\n",
    "var2"
   ]
  },
  {
   "cell_type": "code",
   "execution_count": 70,
   "metadata": {
    "collapsed": false
   },
   "outputs": [
    {
     "data": {
      "text/plain": [
       " [1]  0.000000  1.378371  6.883459 13.714530 20.441226 27.012351 33.377897\n",
       " [8] 39.489416 45.300397 50.766614 55.846467 60.501295 64.695671 68.397675\n",
       "[15] 71.579130 74.215825 76.287693 77.778966 78.678293 78.966803 78.978832\n"
      ]
     },
     "metadata": {},
     "output_type": "display_data"
    }
   ],
   "source": [
    "%%R\n",
    "# Apply scale factors when necessary\n",
    "\n",
    "if (menu_flag == 15) {\n",
    "    sig1   <- data.frame(errcirc[1]) * 1e+6\n",
    "    sig2   <- data.frame(errcirc[2]) * 1e+6\n",
    "    \n",
    "    sigm1   <- data.frame(errm[1]) * 1e+6\n",
    "    sigm2   <- data.frame(errm[2]) * 1e+6\n",
    "} else if (menu_flag == 8 || menu_flag == 25) {\n",
    "    sig1   <- data.frame(errcirc[1])\n",
    "    sig2   <- data.frame(errcirc[2]) * 1e+6    \n",
    "\n",
    "    sigm1   <- data.frame(errm[1])\n",
    "    sigm2   <- data.frame(errm[2]) * 1e+6\n",
    "}\n",
    "\n",
    "sig2$CO3"
   ]
  },
  {
   "cell_type": "markdown",
   "metadata": {},
   "source": [
    "## 4. Plot results: contours of calculated errors from input errors"
   ]
  },
  {
   "cell_type": "markdown",
   "metadata": {},
   "source": [
    "### 4.1 Create file 'prettyaxes.R' to beautify subsequent plots (call it in cell below)"
   ]
  },
  {
   "cell_type": "code",
   "execution_count": 62,
   "metadata": {
    "collapsed": false
   },
   "outputs": [],
   "source": [
    "%%R\n",
    "cat(' box()\\n',\n",
    "    'axis(1,labels=FALSE, tcl=-0.35) ; axis(1, lwd=0, line=-0.4, labels=TRUE)\\n',\n",
    "    'axis(2,labels=FALSE,tcl=-0.35)  ; axis(2, lwd=0, line=-0.4, las=2, labels=TRUE)\\n',\n",
    "    'axis(3,labels=FALSE,tcl=-0.35) ; axis(4,labels=FALSE,tcl=-0.25)\\n',\n",
    "   file='prettyaxes.R')"
   ]
  },
  {
   "cell_type": "markdown",
   "metadata": {},
   "source": [
    "### 4.2 Function to strip NaNs and add a 0 at beginning of a vector"
   ]
  },
  {
   "cell_type": "code",
   "execution_count": 63,
   "metadata": {
    "collapsed": true
   },
   "outputs": [],
   "source": [
    "%%R\n",
    "zenon <- function(x){\n",
    "       # Get rid of NaN's\n",
    "       x <- c(0.0, x[!is.na(x)]) \n",
    "       return(x)\n",
    "}"
   ]
  },
  {
   "cell_type": "markdown",
   "metadata": {},
   "source": [
    "### 4.3 Function to make plot"
   ]
  },
  {
   "cell_type": "code",
   "execution_count": 64,
   "metadata": {
    "collapsed": false
   },
   "outputs": [],
   "source": [
    "%%R\n",
    "plterrcontour <- function(sigcritXa, sigcritYa, xlab, ylab, subtitle, xlim, ylim,\n",
    "                           sighpXa, sighpYa,\n",
    "                           sigmidXa, sigmidYa,\n",
    "                           sigsoaX, sigsoaY,\n",
    "                           x, y, za, levels1,\n",
    "                           methoda='flattest'){\n",
    "    \n",
    "#   Region 'a' is Southern Ocean  ;  Region 'b' is Tropics:\n",
    "    # 'contour' command must come after any 'plot', 'lines', or 'points' commands \n",
    "    plot (sigcritXa, sigcritYa, xlab=xlab, ylab=ylab, plot.title=title(main=subtitle),\n",
    "          xlim=xlim, ylim=ylim, col=\"black\", type='l', lwd=4, lty='solid',xaxt='n',yaxt='n',\n",
    "          cex.lab=1.4, ann=F, xaxs='r', yaxs='r')\n",
    "#   Plot critical point\n",
    "    if ( is.null(sighpXa) ) {\n",
    "        points(sigcritXa[11], sigcritYa[11], col=\"black\", cex=1.7, pch=19)\n",
    "    } else {\n",
    "        points(sighpXa, sighpYa, col=\"black\", cex=1.7, pch=19)\n",
    "    }    \n",
    "#   Plot mid-line (where e1 = e2 on each isoline [and between isolines])\n",
    "    lines(sigmidXa, sigmidYa, col=\"black\", lwd=1, lty='solid')\n",
    "#   symbols(x=sigcritXb[11], y=sigcritYb[11], circles=1, inches=1/3, ann=F, bg=\"steelblue2\", fg=NULL, add=TRUE)\n",
    "#   Plot point(s) at state-of-the-art (soa) for absolute error in each member of the input pair\n",
    "#   - pH has 2 points (random & overall error); other 3 input variables only have 1 point\n",
    "    points(sigsoaX, sigsoaY, col=\"black\", cex=1.7, pch=4)\n",
    "    axis(1,labels=TRUE, tcl=-0.35, cex.axis=1.3) \n",
    "    axis(2, tcl=-0.35, labels=FALSE, las=0) \n",
    "    title(xlab = xlab, cex.lab = 1.4, line = 2.9)\n",
    "    title(ylab = ylab, cex.lab = 1.4, line = 1.9)\n",
    "\n",
    "#   Add 2 colored text strings near origin to indicate the propagated error at the origin (from constants only)\n",
    "    a0 <- za[1,1]\n",
    "    if (a0 < 1) {ndiga <- 2} else {ndiga <- 3}\n",
    "    mtext( format(a0, digits=ndiga), side=1, line=2.5, at=0, srt=0,  cex=1.05, col='blue')\n",
    "\n",
    "#  'contour' command MUST come after any 'plot', 'lines', or 'points' commands \n",
    "#   For 'method', use 'simple, edge or flattest (flattest looks best but seems to fail often when lines are vertical)\n",
    "    contour(x, y , za, levels=levels1, method=methoda, col=\"blue\", lty=1, lwd=2, \n",
    "            yaxt='n', , labcex=1.0, add=TRUE)\n",
    "    axis(2, tcl=-0.35, labels=FALSE) \n",
    "\n",
    "    axis(2, tcl=-0.35, labels=FALSE, las=0) ; \n",
    "    axis(2, lwd=0, line=-0.4, las=2, labels=TRUE, cex.axis=1.4)\n",
    "    axis(3,labels=FALSE,tcl=-0.35) ; axis(4,labels=FALSE,tcl=-0.25)\n",
    "    done <- c('error contour plot')\n",
    "#return(NULL)\n",
    "}"
   ]
  },
  {
   "cell_type": "markdown",
   "metadata": {},
   "source": [
    "### 4.4 Error-space diagram of relative error in CO3  for At-Ct input pair\n",
    "\n",
    "Combine (1) contour plot of CO3 with (2) constants-pair curve, (3) balanced-pair line, ane (4) symbol indicating current state-of-the-art uncertainty."
   ]
  },
  {
   "cell_type": "code",
   "execution_count": 66,
   "metadata": {
    "collapsed": false,
    "scrolled": true
   },
   "outputs": [
    {
     "data": {
      "image/png": "[encoded data removed]"
     },
     "metadata": {},
     "output_type": "display_data"
    }
   ],
   "source": [
    "%%R\n",
    "\n",
    "  options(repr.plot.width=7.0, repr.plot.height=7)\n",
    "\n",
    "\n",
    "  dim(rCO3) <- c(length(var2_e), length(var1_e))  #my one\n",
    "\n",
    "    \n",
    "#   par(mfrow=c(1,1), mar=c(4,3.7,1,1.5)+0.1, oma=c(2,0,0,0.5), mgp=c(2,1,0), font.main=1)\n",
    "\n",
    "  subtitle <- \"test\"\n",
    "\n",
    "    \n",
    "  za <- rCO3\n",
    "   \n",
    "\n",
    "if (menu_flag == 15) {\n",
    "    sigcritXa <- sig2$CO3  ;  sigcritYa <- sig1$CO3  #sig2_ is x axis; sig1_ is y axis\n",
    "    plterrcontour (sigcritXa, sigcritYa, xlabel, ylabel, subtitle, xlim, ylim,\n",
    "#                    sig1hp_AtCt$CO3, sig2hp_AtCt$CO3,\n",
    "                   NULL, NULL,\n",
    "                   zenon(sigm2$CO3), zenon(sigm1$CO3),    \n",
    "                   var2_e_soa2, var1_e_soa2,\n",
    "                   x, y, za, levels1,\n",
    "                   'flattest')\n",
    "} else if (menu_flag ==8 || menu_flag == 25) {\n",
    "    sigcritXa <- sig1$CO3  ;  sigcritYa <- sig2$CO3  #sig2_ is x axis; sig1_ is y axis\n",
    "    plterrcontour (sigcritXa, sigcritYa, xlabel, ylabel, subtitle, xlim, ylim,\n",
    "#                    sig1hp_AtCt$CO3, sig2hp_AtCt$CO3,\n",
    "                   NULL, NULL,\n",
    "                   zenon(sigm1$CO3), zenon(sigm2$CO3),\n",
    "                   var1_e_soa2, var2_e_soa2,\n",
    "                   x, y, za, levels1,\n",
    "                   'flattest')\n",
    "}\n",
    "\n"
   ]
  },
  {
   "cell_type": "markdown",
   "metadata": {},
   "source": [
    "***Figure:*** Percent relative uncertainty in computed $[\\text{CO}_3^{2-}]$ from the $A_\\text{T}-C_\\text{T}$ input pair as a function of uncertainties in each member of that input pair. Each of those members is indicated by the x- and y-axis labels. Propagated relative error (in percent) is shown for the Southern Ocean (blue solid lines). Sublots without pH as an input member also include the Constants-Pair curve (thick black line), where the total propagated error from the constants is equal to that from the input pair. The balanced-pair line (thin black line) indicates where each member of the input pair contributes equally to total propagated error. "
   ]
  },
  {
   "cell_type": "code",
   "execution_count": 67,
   "metadata": {
    "collapsed": false
   },
   "outputs": [
    {
     "data": {
      "text/plain": [
       " [1] 2.519388e+01 2.519004e+01 2.509801e+01 2.481113e+01 2.433542e+01\n",
       " [6] 2.367450e+01 2.283341e+01 2.181854e+01 2.063762e+01 1.929963e+01\n",
       "[11] 1.781476e+01 1.619431e+01 1.445062e+01 1.259694e+01 1.064739e+01\n",
       "[16] 8.616815e+00 6.520656e+00 4.374872e+00 2.195791e+00 4.396939e-01\n",
       "[21] 1.542680e-15\n"
      ]
     },
     "metadata": {},
     "output_type": "display_data"
    }
   ],
   "source": [
    "%%R\n",
    "sigcritXa"
   ]
  },
  {
   "cell_type": "code",
   "execution_count": 68,
   "metadata": {
    "collapsed": false
   },
   "outputs": [
    {
     "data": {
      "text/plain": [
       " [1]  0.000000  1.378371  6.883459 13.714530 20.441226 27.012351 33.377897\n",
       " [8] 39.489416 45.300397 50.766614 55.846467 60.501295 64.695671 68.397675\n",
       "[15] 71.579130 74.215825 76.287693 77.778966 78.678293 78.966803 78.978832\n"
      ]
     },
     "metadata": {},
     "output_type": "display_data"
    }
   ],
   "source": [
    "%%R\n",
    "sigcritYa"
   ]
  },
  {
   "cell_type": "code",
   "execution_count": null,
   "metadata": {
    "collapsed": true
   },
   "outputs": [],
   "source": []
  }
 ],
 "metadata": {
  "kernelspec": {
   "display_name": "Python 2",
   "language": "python",
   "name": "python2"
  },
  "language_info": {
   "codemirror_mode": {
    "name": "ipython",
    "version": 2
   },
   "file_extension": ".py",
   "mimetype": "text/x-python",
   "name": "python",
   "nbconvert_exporter": "python",
   "pygments_lexer": "ipython2",
   "version": "2.7.12"
  }
 },
 "nbformat": 4,
 "nbformat_minor": 0
}
