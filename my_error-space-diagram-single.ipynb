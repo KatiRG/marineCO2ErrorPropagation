{
 "cells": [
  {
   "cell_type": "markdown",
   "metadata": {},
   "source": [
    "# Error-space diagram - example for 1 input pair, 1 derived var, 1 region"
   ]
  },
  {
   "cell_type": "markdown",
   "metadata": {},
   "source": [
    "#### Load needed packages"
   ]
  },
  {
   "cell_type": "code",
   "execution_count": 1,
   "metadata": {
    "collapsed": false
   },
   "outputs": [],
   "source": [
    "import rpy2\n",
    "\n",
    "# necessary to workaround the error: /u01/anaconda2/lib/libreadline.so.6: undefined symbol: PC\n",
    "# https://www.rittmanmead.com/blog/2016/07/using-r-jupyter-notebooks-big-data-discovery/\n",
    "import readline\n",
    "\n",
    "%load_ext rpy2.ipython"
   ]
  },
  {
   "cell_type": "code",
   "execution_count": 2,
   "metadata": {
    "collapsed": false
   },
   "outputs": [
    {
     "data": {
      "text/plain": [
       "NULL\n"
      ]
     },
     "metadata": {},
     "output_type": "display_data"
    }
   ],
   "source": [
    "%%R\n",
    "#remove.packages('seacarb')\n",
    "#install.packages('seacarb')"
   ]
  },
  {
   "cell_type": "code",
   "execution_count": 3,
   "metadata": {
    "collapsed": false,
    "scrolled": false
   },
   "outputs": [
    {
     "name": "stderr",
     "output_type": "stream",
     "text": [
      "/homel/cnangini/anaconda/lib/python2.7/site-packages/rpy2/rinterface/__init__.py:186: RRuntimeWarning: Le chargement a nécessité le package : oce\n",
      "\n",
      "  warnings.warn(x, RRuntimeWarning)\n",
      "/homel/cnangini/anaconda/lib/python2.7/site-packages/rpy2/rinterface/__init__.py:186: RRuntimeWarning: Le chargement a nécessité le package : gsw\n",
      "\n",
      "  warnings.warn(x, RRuntimeWarning)\n"
     ]
    }
   ],
   "source": [
    "%%R\n",
    "#libraries previously installed using:\n",
    "library(seacarb)\n",
    "library(oce)\n",
    "library(gsw)\n",
    "\n",
    "#library(Hmisc)   #for minor ticks in plot"
   ]
  },
  {
   "cell_type": "code",
   "execution_count": 4,
   "metadata": {
    "collapsed": false
   },
   "outputs": [
    {
     "data": {
      "text/plain": [
       "[1] ‘3.1.1’\n"
      ]
     },
     "metadata": {},
     "output_type": "display_data"
    }
   ],
   "source": [
    "%%R\n",
    "packageVersion('seacarb')"
   ]
  },
  {
   "cell_type": "code",
   "execution_count": 5,
   "metadata": {
    "collapsed": false
   },
   "outputs": [
    {
     "name": "stdout",
     "output_type": "stream",
     "text": [
      "R Help on ‘carb’carb                  package:seacarb                  R Documentation\n",
      "\n",
      "_\bP_\ba_\br_\ba_\bm_\be_\bt_\be_\br_\bs _\bo_\bf _\bt_\bh_\be _\bs_\be_\ba_\bw_\ba_\bt_\be_\br _\bc_\ba_\br_\bb_\bo_\bn_\ba_\bt_\be _\bs_\by_\bs_\bt_\be_\bm\n",
      "\n",
      "_\bD_\be_\bs_\bc_\br_\bi_\bp_\bt_\bi_\bo_\bn:\n",
      "\n",
      "     Returns parameters of the seawater carbonate system.\n",
      "\n",
      "_\bU_\bs_\ba_\bg_\be:\n",
      "\n",
      "     carb(flag, var1, var2, S=35, T=25, Patm=1, P=0, Pt=0, Sit=0,\n",
      "             k1k2=\"x\", kf=\"x\", ks=\"d\", pHscale=\"T\", b=\"u74\", gas=\"potential\", warn=\"y\")\n",
      "     \n",
      "_\bA_\br_\bg_\bu_\bm_\be_\bn_\bt_\bs:\n",
      "\n",
      "    flag: select the couple of variables available. The flags which can\n",
      "          be used are:\n",
      "\n",
      "          flag = 1 pH and CO2 given\n",
      "\n",
      "          flag = 2 CO2 and HCO3 given\n",
      "\n",
      "          flag = 3 CO2 and CO3 given\n",
      "\n",
      "          flag = 4 CO2 and ALK given\n",
      "\n",
      "          flag = 5 CO2 and DIC given\n",
      "\n",
      "          flag = 6 pH and HCO3 given\n",
      "\n",
      "          flag = 7 pH and CO3 given\n",
      "\n",
      "          flag = 8 pH and ALK given\n",
      "\n",
      "          flag = 9 pH and DIC given\n",
      "\n",
      "          flag = 10 HCO3 and CO3 given\n",
      "\n",
      "          flag = 11 HCO3 and ALK given\n",
      "\n",
      "          flag = 12 HCO3 and DIC given\n",
      "\n",
      "          flag = 13 CO3 and ALK given\n",
      "\n",
      "          flag = 14 CO3 and DIC given\n",
      "\n",
      "          flag = 15 ALK and DIC given\n",
      "\n",
      "          flag = 21 pCO2 and pH given\n",
      "\n",
      "          flag = 22 pCO2 and HCO3 given\n",
      "\n",
      "          flag = 23 pCO2 and CO3 given\n",
      "\n",
      "          flag = 24 pCO2 and ALK given\n",
      "\n",
      "          flag = 25 pCO2 and DIC given\n",
      "\n",
      "    var1: Value of the first variable in mol/kg, except for pH and for\n",
      "          pCO2 in muatm\n",
      "\n",
      "    var2: Value of the second variable in mol/kg, except for pH\n",
      "\n",
      "       S: Salinity\n",
      "\n",
      "       T: Temperature in degrees Celsius\n",
      "\n",
      "    Patm: Surface atmospheric pressure in atm, default is 1 atm\n",
      "\n",
      "       P: Hydrostatic pressure in bar (surface = 0)\n",
      "\n",
      "      Pt: Concentration of total phosphate in mol/kg; set to 0 if NA\n",
      "\n",
      "     Sit: Concentration of total silicate in mol/kg; set to 0 if NA\n",
      "\n",
      "    k1k2: \"l\" for using K1 and K2 from Lueker et al. (2000), \"m06\" from\n",
      "          Millero et al. (2006), \"m10\" from Millero (2010), \"w14\" from\n",
      "          Waters et al. (2014), and \"r\" from Roy et al. (1993). \"x\" is\n",
      "          the default flag; the default value is then \"l\", except if T\n",
      "          is outside the range 2 to 35oC and/or S is outside the range\n",
      "          19 to 43. In these cases, the default value is \"w14\".\n",
      "\n",
      "      kf: \"pf\" for using Kf from Perez and Fraga (1987) and \"dg\" for\n",
      "          using Kf from Dickson and Riley (1979 in Dickson and Goyet,\n",
      "          1994). \"x\" is the default flag; the default value is then\n",
      "          \"pf\", except if T is outside the range 9 to 33oC and/or S is\n",
      "          outside the range 10 to 40. In these cases, the default is\n",
      "          \"dg\".\n",
      "\n",
      "      ks: \"d\" for using Ks from Dickson (1990) and \"k\" for using Ks\n",
      "          from Khoo et al. (1977), default is \"d\"\n",
      "\n",
      " pHscale: \"T\" for the total scale, \"F\" for the free scale and \"SWS\" for\n",
      "          using the seawater scale, default is \"T\" (total scale)\n",
      "\n",
      "       b: Concentration of total boron. \"l10\" for the Lee et al. (2010)\n",
      "          formulation or \"u74\" for the Uppstrom (1974) formulation,\n",
      "          default is \"u74\"\n",
      "\n",
      "     gas: used to indicate the convention for INPUT pCO2, i.e., when it\n",
      "          is an input variable (flags 21 to 25): \"insitu\" indicates it\n",
      "          is referenced to in situ pressure and in situ temperature;\n",
      "          \"potential\" indicates it is referenced to 1 atm pressure and\n",
      "          potential temperature; and \"standard\" indicates it is\n",
      "          referenced to 1 atm pressure and in situ temperature. All\n",
      "          three options should give identical results at surface\n",
      "          pressure. This option is not used when pCO2 is not an input\n",
      "          variable (flags 1 to 15). The default is \"potential\".\n",
      "\n",
      "    warn: \"y\" to show warnings when T or S go beyond the valid range\n",
      "          for constants; \"n\" to supress warnings. The default is \"y\".\n",
      "\n",
      "_\bD_\be_\bt_\ba_\bi_\bl_\bs:\n",
      "\n",
      "     The Lueker et al. (2000) constants for K1 and K2, the Perez and\n",
      "     Fraga (1987) constant for Kf and the Dickson (1990) constant for\n",
      "     Ks are recommended by Dickson et al. (2007). It is, however,\n",
      "     critical to consider that each formulation is only valid for\n",
      "     specific ranges of temperature and salinity:\n",
      "\n",
      "     _For K1 and K2:_\n",
      "\n",
      "        • Roy et al. (1993): S ranging between 5 and 45 and T ranging\n",
      "          between 0 and 45oC.\n",
      "\n",
      "        • Lueker et al. (2000): S ranging between 19 and 43 and T\n",
      "          ranging between 2 and 35oC.\n",
      "\n",
      "        • Millero et al. (2006): S ranging between 0.1 and 50 and T\n",
      "          ranging between 1 and 50oC.\n",
      "\n",
      "        • Millero (2010): S ranging between 1 and 50 and T ranging\n",
      "          between 0 and 50oC. Millero (2010) provides a K1 and K2\n",
      "          formulation for the seawater, total and free pH scales.\n",
      "          Therefore, when this method is used and if P=0, K1 and K2 are\n",
      "          computed with the formulation corresponding to the pH scale\n",
      "          given in the flag \"pHscale\".\n",
      "\n",
      "     _For Kf:_\n",
      "\n",
      "        • Perez and Fraga (1987): S ranging between 10 and 40 and T\n",
      "          ranging between 9 and 33oC.\n",
      "\n",
      "        • Dickson and Riley (1979 in Dickson and Goyet, 1994): S\n",
      "          ranging between 0 and 45 and T ranging between 0 and 45oC.\n",
      "\n",
      "     _For Ks:_\n",
      "\n",
      "        • Dickson (1990): S ranging between 5 and 45 and T ranging\n",
      "          between 0 and 45oC.\n",
      "\n",
      "        • Khoo et al. (1977): S ranging between 20 and 45 and T ranging\n",
      "          between 5 and 40oC.\n",
      "\n",
      "     The arguments can be given as a unique number or as vectors. If\n",
      "     the lengths of the vectors are different, the longer vector is\n",
      "     retained and only the first value of the other vectors is used. It\n",
      "     is recommended to use either vectors with the same dimension or\n",
      "     one vector for one argument and numbers for the other arguments.\n",
      "\n",
      "     _Pressure corrections and pH scale:_\n",
      "\n",
      "        • For K0, the pressure correction term of Weiss (1974) is used.\n",
      "\n",
      "        • For K1, K2, pK1, pK2, pK3, Kw, Kb, Khs and Ksi, the pressure\n",
      "          correction was applied on the seawater scale. Hence, if\n",
      "          needed, values were first transformed from the total scale to\n",
      "          the seawater scale, the pressure correction applied as\n",
      "          described by Millero (1995), and the value was transformed\n",
      "          back to the required scale (T, F or SWS).\n",
      "\n",
      "        • For Kf, the pressure correction was applied on the free\n",
      "          scale. The formulation of Dickson and Riley (1979 in Dickson\n",
      "          and Goyet, 1994) provides Kf on the free scale but that of\n",
      "          Perez and Fraga (1987) provides it on the total scale. Hence,\n",
      "          in that case, Kf was first transformed from the total scale\n",
      "          to the free scale. With both formulations, the pressure\n",
      "          correction was applied as described by Millero (1995), and\n",
      "          the value was transformed back to the required scale (T, F or\n",
      "          SWS).\n",
      "\n",
      "        • For Ks, the pressure correction was applied on the free\n",
      "          scale. The pressure correction was applied as described by\n",
      "          Millero (1995), and the value was transformed back to the\n",
      "          required scale (T, F or SWS).\n",
      "\n",
      "        • For Kn, The pressure correction was applied on the seawater\n",
      "          scale. The pressure correction was applied as described by\n",
      "          Millero (1995), and the value was transformed back to the\n",
      "          required scale (T, F or SWS).\n",
      "\n",
      "_\bV_\ba_\bl_\bu_\be:\n",
      "\n",
      "     The function returns a data frame containing the following\n",
      "     columns:\n",
      "\n",
      "       S: Salinity\n",
      "\n",
      "       T: Temperature in degrees Celsius\n",
      "\n",
      "    Patm: Surface atmospheric pressure in atm\n",
      "\n",
      "       P: Hydrostatic pressure in bar\n",
      "\n",
      "      pH: pH\n",
      "\n",
      "     CO2: CO2 concentration (mol/kg)\n",
      "\n",
      "    pCO2: \"standard\" pCO2, CO2 partial pressure computed at in situ\n",
      "          temperature and atmospheric pressure (muatm)\n",
      "\n",
      "    fCO2: \"standard\" fCO2, CO2 fugacity computed at in situ temperature\n",
      "          and atmospheric pressure (muatm)\n",
      "\n",
      " pCO2pot: \"potential\" pCO2, CO2 partial pressure computed at potential\n",
      "          temperature and atmospheric pressure (muatm)\n",
      "\n",
      " fCO2pot: \"potential\" fCO2, CO2 fugacity computed at potential\n",
      "          temperature and atmospheric pressure (muatm)\n",
      "\n",
      "pCO2insitu: \"in situ\" pCO2, CO2 partial pressure computed at in situ\n",
      "          temperature and total pressure (atm + hydrostatic) (muatm)\n",
      "\n",
      "fCO2insitu: \"in situ\" fCO2, CO2 fugacity computed at in situ\n",
      "          temperature and total pressure (atm + hydrostatic) (muatm)\n",
      "\n",
      "    HCO3: HCO3 concentration (mol/kg)\n",
      "\n",
      "     CO3: CO3 concentration (mol/kg)\n",
      "\n",
      "     DIC: DIC concentration (mol/kg)\n",
      "\n",
      "     ALK: ALK, total alkalinity (mol/kg)\n",
      "\n",
      "OmegaAragonite: Omega aragonite, aragonite saturation state\n",
      "\n",
      "OmegaCalcite: Omega calcite, calcite saturation state\n",
      "\n",
      "_\bN_\bo_\bt_\be:\n",
      "\n",
      "     *Warning:* pCO2 estimates below 100 m are subject to considerable\n",
      "     uncertainty. See Weiss (1974) and Orr et al. (2015)\n",
      "\n",
      "_\bA_\bu_\bt_\bh_\bo_\br(_\bs):\n",
      "\n",
      "     Heloise Lavigne, James Orr and Jean-Pierre Gattuso <email:\n",
      "     gattuso@obs-vlfr.fr>\n",
      "\n",
      "_\bR_\be_\bf_\be_\br_\be_\bn_\bc_\be_\bs:\n",
      "\n",
      "     Dickson A. G. and Riley J. P., 1979 The estimation of acid\n",
      "     dissociation constants in seawater media from potentiometric\n",
      "     titrations with strong base. I. The ionic product of water.\n",
      "     _Marine Chemistry_ *7*, 89-99.\n",
      "\n",
      "     Dickson A. G., 1990 Standard potential of the reaction: AgCI(s) +\n",
      "     1/2H2(g) = Ag(s) + HCI(aq), and the standard acidity constant of\n",
      "     the ion HSO4 in synthetic sea water from 273.15 to 318.15 K.\n",
      "     _Journal of Chemical Thermodynamics_ *22*, 113-127.\n",
      "\n",
      "     Dickson A. G., Sabine C. L. and Christian J. R., 2007 Guide to\n",
      "     best practices for ocean CO2 measurements. _PICES Special\n",
      "     Publication_ *3*, 1-191.\n",
      "\n",
      "     Khoo H. K., Ramette R. W., Culberson C. H. and Bates R. G., 1977\n",
      "     Determination of Hydrogen ion concentration in seawater from 5 to\n",
      "     40oC: standard potentials at salinities from 20 to 45. _Analytical\n",
      "     Chemistry_ *49*, 29-34.\n",
      "\n",
      "     Lee K., Tae-Wook K., Byrne R.H., Millero F.J., Feely R.A. and Liu\n",
      "     Y-M, 2010 The universal ratio of the boron to chlorinity for the\n",
      "     North Pacific and North Atlantoc oceans. _Geochimica et\n",
      "     Cosmochimica Acta_ *74* 1801-1811.\n",
      "\n",
      "     Lueker T. J., Dickson A. G. and Keeling C. D., 2000 Ocean pCO2\n",
      "     calculated from dissolved inorganic carbon, alkalinity, and\n",
      "     equations for K1 and K2: validation based on laboratory\n",
      "     measurements of CO2 in gas and seawater at equilibrium. _Marine\n",
      "     Chemistry_ *70* 105-119.\n",
      "\n",
      "     Millero F. J., 1995. Thermodynamics of the carbon dioxide system\n",
      "     in the oceans. _Geochimica Cosmochimica Acta_ *59*: 661-677.\n",
      "\n",
      "     Millero F. J., 2010. Carbonate constant for estuarine waters.\n",
      "     _Marine and Freshwater Research_ *61*: 139-142.\n",
      "\n",
      "     Millero F. J., Graham T. B., Huang F., Bustos-Serrano H. and\n",
      "     Pierrot D., 2006. Dissociation constants of carbonic acid in\n",
      "     seawater as a function of salinity and temperature.  _Marine\n",
      "     Chemistry_ *100*, 80-84.\n",
      "\n",
      "     Orr J. C., Epitalon J.-M. and Gattuso J.-P., 2015. Comparison of\n",
      "     seven packages that compute ocean carbonate chemistry.\n",
      "     _Biogeosciences_ *12*, 1483-1510.\n",
      "\n",
      "     Perez F. F. and Fraga F., 1987 Association constant of fluoride\n",
      "     and hydrogen ions in seawater. _Marine Chemistry_ *21*, 161-168.\n",
      "\n",
      "     Roy R. N., Roy L. N., Vogel K. M., Porter-Moore C., Pearson T.,\n",
      "     Good C. E., Millero F. J. and Campbell D. M., 1993. The\n",
      "     dissociation constants of carbonic acid in seawater at salinities\n",
      "     5 to 45 and temperatures 0 to 45oC. _Marine Chemistry_ *44*,\n",
      "     249-267.\n",
      "\n",
      "     Uppstrom L.R., 1974 The boron/chlorinity ratio of the deep-sea\n",
      "     water from the Pacific Ocean. _Deep-Sea Research I_ *21*, 161-162.\n",
      "\n",
      "     Waters, J., Millero, F. J., and Woosley, R. J., 2014. Corrigendum\n",
      "     to ``The free proton concentration scale for seawater pH'',\n",
      "     [MARCHE: 149 (2013) 8-22], Marine Chemistry *165*, 66-67.\n",
      "\n",
      "     Weiss, R. F., 1974. Carbon dioxide in water and seawater: the\n",
      "     solubility of a non-ideal gas, _Mar.  Chem._, *2*, 203-215.\n",
      "\n",
      "     Weiss, R. F. and Price, B. A., 1980. Nitrous oxide solubility in\n",
      "     water and seawater, _Marine Chemistry_, *8*, 347-359.\n",
      "\n",
      "     Zeebe R. E. and Wolf-Gladrow D. A., 2001 _CO2 in seawater:\n",
      "     equilibrium, kinetics, isotopes_. Amsterdam: Elsevier, 346 pp.\n",
      "\n",
      "_\bE_\bx_\ba_\bm_\bp_\bl_\be_\bs:\n",
      "\n",
      "     ## With a couple of variables\n",
      "     carb(flag=8, var1=8.2, var2=0.00234, S=35, T=25, P=0, Patm=1.0, Pt=0, Sit=0,\n",
      "             pHscale=\"T\", kf=\"pf\", k1k2=\"l\", ks=\"d\", b=\"u74\")\n",
      "     \n",
      "     ## Using vectors as arguments\n",
      "     flag <- c(8, 2, 8)\n",
      "     var1 <- c(8.2, 7.477544e-06, 8.2)\n",
      "     var2 <- c(0.002343955, 0.001649802, 2400e-6)\n",
      "     S <- c(35, 35, 30)\n",
      "     T <- c(25, 25, 30)\n",
      "     P <- c(0, 0, 0)\n",
      "     Pt <- c(0, 0, 0)\n",
      "     Sit <- c(0, 0, 0)\n",
      "     kf <- c(\"pf\", \"pf\", \"pf\")\n",
      "     k1k2 <- c(\"l\", \"l\", \"l\")\n",
      "     pHscale <- c(\"T\", \"T\", \"T\")\n",
      "     b <- c(\"l10\", \"l10\", \"l10\")\n",
      "     carb(flag=flag, var1=var1, var2=var2, S=S, T=T, P=P,\n",
      "       Pt=Pt, Sit=Sit, kf=kf, k1k2=k1k2, pHscale=pHscale, b=b)\n",
      "     \n",
      "     ## Test with all flags \n",
      "     flag <- c((1:15), (21:25))\n",
      "     var1 <- c(8.200000, 7.308171e-06, 7.308171e-06, 7.308171e-06, 7.308171e-06, \n",
      "             8.2, 8.2, 8.2, 8.2, 0.001646857, 0.001646857, 0.001646857, 0.0002822957, \n",
      "             0.0002822957, 0.00234, 258.2164, 258.2164, 258.2164, 258.2164, 258.2164 )\n",
      "     var2 <- c(7.308171e-06, 0.001646857, 0.0002822957, 0.00234, 0.001936461, \n",
      "             0.001646857, 0.0002822957, 0.00234, 0.001936461, 0.0002822957, \n",
      "             0.00234, 0.001936461,  0.00234, 0.001936461, 0.001936461, 8.2, \n",
      "             0.001646857, 0.0002822957, 0.00234, 0.001936461)\n",
      "     carb(flag=flag, var1=var1, var2=var2)\n",
      "     \n",
      "     ## Test using a data frame \n",
      "     data(seacarb_test_P0)   #test data set for P=0 (surface)\n",
      "     tab <- seacarb_test_P0[14:19,]\n",
      "     \n",
      "     ## method 1 using the column numbers\n",
      "     carb(flag=tab[[1]], var1=tab[[2]], var2=tab[[3]], S=tab[[4]], T=tab[[5]], \n",
      "     P=tab[[6]], Sit=tab[[8]], Pt=tab[[7]])\n",
      "     \n",
      "     ## method 2 using the column names\n",
      "     carb(flag=tab$flag, var1=tab$var1, var2=tab$var2, S=tab$S, T=tab$T, \n",
      "     P=tab$P, Sit=tab$Sit, Pt=tab$Pt)\n",
      "     \n"
     ]
    }
   ],
   "source": [
    "%%R\n",
    "?carb"
   ]
  },
  {
   "cell_type": "markdown",
   "metadata": {},
   "source": [
    "## 1. Get routines and specify input vars"
   ]
  },
  {
   "cell_type": "markdown",
   "metadata": {},
   "source": [
    "### 1.1 Read in new and modified functions "
   ]
  },
  {
   "cell_type": "markdown",
   "metadata": {},
   "source": [
    "The commands below read in routines that have been modified (derivnum and errors) or are completely new relative to the standard version of the seacarb distribution.  You can get these new and modified routines from github:\n",
    "\n",
    "git clone https://github.com/jamesorr/seacarb-git.git\n",
    "\n",
    "Then just change the directory in the 4 lines of the cell just below:"
   ]
  },
  {
   "cell_type": "code",
   "execution_count": 6,
   "metadata": {
    "collapsed": true
   },
   "outputs": [],
   "source": [
    "%%R\n",
    "#branch buffesm1 of seacarb-git\n",
    "source(\"/homel/cnangini/PROJECTS/seacarb-git/R/errhalf.R\")\n",
    "source(\"/homel/cnangini/PROJECTS/seacarb-git/R/errmid.R\")\n",
    "source(\"/homel/cnangini/PROJECTS/seacarb-git/R/errors.R\")\n",
    "source(\"/homel/cnangini/PROJECTS/seacarb-git/R/derivnum.R\")"
   ]
  },
  {
   "cell_type": "markdown",
   "metadata": {},
   "source": [
    "### 1.2 Specify input variables and their corresponding uncertainties (errors)"
   ]
  },
  {
   "cell_type": "code",
   "execution_count": 7,
   "metadata": {
    "collapsed": false
   },
   "outputs": [],
   "source": [
    "%%R\n",
    "\n",
    "# Specify flag & corresponding 2 input variables \n",
    "  menu_flag = 15  #15\n",
    "\n",
    "# Input variables:\n",
    "# ----------------\n",
    "# Approximate regional mean for Southern Ocean (picked off of Fig. 3.2 from Orr, 2011)\n",
    "# For ALK & DIC input pair\n",
    "  ALK  = 2295e-6  #(umol/kg)\n",
    "  DIC  = 2155e-6\n",
    "\n",
    "  temp = -0.49    #C\n",
    "  salt = 33.96    #psu\n",
    "  press = 0       #bar\n",
    "\n",
    "  Phos = 2.e-6    #(umol/kg)\n",
    "  Sil = 60.e-6    #(umol/kg)\n",
    "\n",
    "# Uncertainties in input variables\n",
    "# ---------------------------------\n",
    "  ALK_e <- seq(0., 20., 1.0) * 1e-6\n",
    "  DIC_e <- ALK_e\n",
    "  pCO2_e <- seq(0,20,1)\n",
    "  pH_e   <- seq(0,0.03,0.0015)\n",
    "\n",
    "  salt_e = 0.01   \n",
    "  temp_e = 0.01   \n",
    "\n",
    "  Pt_e = 0.1e-6\n",
    "  Sit_e = 4.0e-6"
   ]
  },
  {
   "cell_type": "markdown",
   "metadata": {},
   "source": [
    "### 1.3 Default uncertainties in equilibrium constants (pK0, pK1, pK2, pKb, pKw, pKa, pKc, Bt)"
   ]
  },
  {
   "cell_type": "code",
   "execution_count": 8,
   "metadata": {
    "collapsed": true
   },
   "outputs": [],
   "source": [
    "%%R\n",
    "# Estimates for errors in constants in errors.R routine (from Orr et al., 2017)\n",
    "  epKstd  <- c(0.004, 0.015,  0.03, 0.01,  0.01, 0.02, 0.02, 0.01)\n",
    "# epKstd  <- c(0.004, 0.015,  0.03, 0.01,  0.01, 0.02, 0.02)"
   ]
  },
  {
   "cell_type": "markdown",
   "metadata": {},
   "source": [
    "### 1.3 Compute derived carbonate system vars with std seacarb routine `carb`:"
   ]
  },
  {
   "cell_type": "code",
   "execution_count": 9,
   "metadata": {
    "collapsed": false
   },
   "outputs": [],
   "source": [
    "%%R\n",
    "# Compute derived carbonate system variables with standard seacarb routine 'carb':\n",
    "\n",
    "# Southern Ocean\n",
    "vars <- carb  (flag=menu_flag, var1=ALK, DIC, S=salt, T=temp, Patm=1, P=press, Pt=Phos, Sit=Sil, \n",
    "                    k1k2='w14', kf='dg', ks=\"d\", pHscale=\"T\", b=\"u74\", gas=\"potential\", warn='n')\n",
    "\n",
    "pH <- vars$pH\n",
    "pCO2 <- vars$pCO2\n",
    "\n",
    "# Compute H+ from pH, i.e., pH = -log10[H+], where [H+] is the hydrogen ion concentration in mol/kg\n",
    "H = 10^(-1*vars$pH)\n",
    "\n",
    "# Keep only key columns to be consistent with output from 'errors.R' routine (called below)\n",
    "vars <- data.frame(H, vars[,c('pH','CO2','fCO2','pCO2','HCO3','CO3','OmegaAragonite','OmegaCalcite')] )\n",
    "vars\n",
    "\n",
    "# Duplicate rows in *vars* until same as number of members of error vector ALK_e\n",
    "numerrs <- length(ALK_e)\n",
    "vars <- vars[rep(row.names(vars), numerrs), ]\n"
   ]
  },
  {
   "cell_type": "code",
   "execution_count": 10,
   "metadata": {
    "collapsed": false
   },
   "outputs": [
    {
     "data": {
      "text/plain": [
       "[1] 21  9\n"
      ]
     },
     "metadata": {},
     "output_type": "display_data"
    }
   ],
   "source": [
    "%%R\n",
    "dim(vars)"
   ]
  },
  {
   "cell_type": "markdown",
   "metadata": {},
   "source": [
    "### 1.4 Use 1-D error vectors to build 2-D error array (to plot contours in DIC-ALK space)  "
   ]
  },
  {
   "cell_type": "code",
   "execution_count": 11,
   "metadata": {
    "collapsed": false
   },
   "outputs": [
    {
     "data": {
      "text/plain": [
       " [1] 0.0e+00 1.0e-06 2.0e-06 3.0e-06 4.0e-06 5.0e-06 6.0e-06 7.0e-06 8.0e-06\n",
       "[10] 9.0e-06 1.0e-05 1.1e-05 1.2e-05 1.3e-05 1.4e-05 1.5e-05 1.6e-05 1.7e-05\n",
       "[19] 1.8e-05 1.9e-05 2.0e-05\n"
      ]
     },
     "metadata": {},
     "output_type": "display_data"
    }
   ],
   "source": [
    "%%R\n",
    "DIC_e"
   ]
  },
  {
   "cell_type": "code",
   "execution_count": 12,
   "metadata": {
    "collapsed": false
   },
   "outputs": [
    {
     "data": {
      "text/plain": [
       " [1] 0.0e+00 1.0e-06 2.0e-06 3.0e-06 4.0e-06 5.0e-06 6.0e-06 7.0e-06 8.0e-06\n",
       "[10] 9.0e-06 1.0e-05 1.1e-05 1.2e-05 1.3e-05 1.4e-05 1.5e-05 1.6e-05 1.7e-05\n",
       "[19] 1.8e-05 1.9e-05 2.0e-05\n"
      ]
     },
     "metadata": {},
     "output_type": "display_data"
    }
   ],
   "source": [
    "%%R\n",
    "ALK_e"
   ]
  },
  {
   "cell_type": "code",
   "execution_count": 13,
   "metadata": {
    "collapsed": false
   },
   "outputs": [],
   "source": [
    "%%R\n",
    "  dat <- expand.grid(DIC_e, ALK_e)"
   ]
  },
  {
   "cell_type": "code",
   "execution_count": 14,
   "metadata": {
    "collapsed": false
   },
   "outputs": [
    {
     "data": {
      "text/plain": [
       "[1] 441   2\n"
      ]
     },
     "metadata": {},
     "output_type": "display_data"
    }
   ],
   "source": [
    "%%R\n",
    "dim(dat)"
   ]
  },
  {
   "cell_type": "markdown",
   "metadata": {},
   "source": [
    "### 1.5 Specify state-of-art (soa) errors for vars: from error-propagation manuscript (Orr et al. 2017, Table 1) \n",
    "\n",
    "These will be plotted as crosses on the error-space diagrams"
   ]
  },
  {
   "cell_type": "code",
   "execution_count": 15,
   "metadata": {
    "collapsed": false
   },
   "outputs": [
    {
     "data": {
      "text/plain": [
       "[1] 2 2\n"
      ]
     },
     "metadata": {},
     "output_type": "display_data"
    }
   ],
   "source": [
    "%%R\n",
    "ALK_e_soa   <- 2 #umol/kg\n",
    "DIC_e_soa   <- 2 #umol/kg\n",
    "\n",
    "ALK_e_soa2  <- c(ALK_e_soa, ALK_e_soa)\n",
    "DIC_e_soa2  <- c(DIC_e_soa, DIC_e_soa)\n",
    "\n",
    "ALK_e_soa2\n",
    "DIC_e_soa2"
   ]
  },
  {
   "cell_type": "markdown",
   "metadata": {},
   "source": [
    "## 2. Compute derived variables (with `carb`) and propagated errors (with `errors`)"
   ]
  },
  {
   "cell_type": "markdown",
   "metadata": {},
   "source": [
    "### 2.1 Computations of derived vars and their errors (for At-Ct pair only) "
   ]
  },
  {
   "cell_type": "code",
   "execution_count": 16,
   "metadata": {
    "collapsed": false
   },
   "outputs": [
    {
     "data": {
      "text/plain": [
       "         H        pH      CO2     fCO2     pCO2      HCO3    CO3 OmegaAragonite\n",
       "1 4.139159 0.2216044 4.929374 5.014682 5.014689 0.1866465 2.7889       5.383828\n",
       "  OmegaCalcite\n",
       "1     5.383828\n"
      ]
     },
     "metadata": {},
     "output_type": "display_data"
    }
   ],
   "source": [
    "%%R\n",
    "# Compute variables\n",
    "vars <- carb  (flag=menu_flag, var1=ALK, var2=DIC, S=salt, T=temp, Patm=1, P=press, Pt=Phos, Sit=Sil, \n",
    "                    k1k2='w14', kf='dg', ks=\"d\", pHscale=\"T\", b=\"u74\", gas=\"potential\", warn='n')\n",
    "\n",
    "H = 10^(-1*vars$pH)         # H+ concentration (mol/kg)\n",
    "vars <- data.frame(H, vars) # Add H+ as new column to vars data frame\n",
    "\n",
    "# Absolute errors: propagated uncertainties \n",
    "absEt <- errors (flag=menu_flag, var1=ALK, var2=DIC, S=salt, T=temp, \n",
    "                      Patm=1, P=press, Pt=Phos, Sit=Sil, \n",
    "                      evar1=dat$Var2, evar2=dat$Var1, eS=0, eT=0, ePt=0, eSit=0, epK=epKstd,\n",
    "                      k1k2='w14', kf='dg', ks=\"d\", pHscale=\"T\", b=\"u74\", gas=\"potential\", warn='no')\n",
    "\n",
    "# Aboslute error from constants only (all other input errors assumed to be zero)\n",
    "absEk <- errors  (flag=menu_flag, var1=ALK, var2=DIC, S=salt, T=temp, \n",
    "                       Patm=1, P=press, Pt=Phos, Sit=Sil, \n",
    "                       evar1=0, evar2=0, \n",
    "                       eS=0, eT=0, ePt=0, eSit=0, epK=epKstd,\n",
    "                       k1k2='w14', kf='dg', ks=\"d\", pHscale=\"T\", b=\"u74\", gas=\"potential\", warn='n')\n",
    "\n",
    "# Keep only key columns in vars for consistency with columns in absEt\n",
    "vars <- vars[,colnames(absEt)] \n",
    "vars\n",
    "\n",
    "# Duplicate rows in *vars* until same as number of members of error vector ALK_e\n",
    "numerrs <- length(dat$Var1)\n",
    "vars <- vars[rep(row.names(vars), numerrs), ]\n",
    "\n",
    "#Relative errors (in percent)\n",
    "relEk <- 100* absEk / vars[1,]        #Relative error from constants only\n",
    "relEt <- 100* absEt / vars            #Total relative error (from constants and other input variables)\n",
    "relEk"
   ]
  },
  {
   "cell_type": "code",
   "execution_count": 17,
   "metadata": {
    "collapsed": false
   },
   "outputs": [
    {
     "data": {
      "text/plain": [
       "         H        pH      CO2     fCO2     pCO2      HCO3    CO3 OmegaAragonite\n",
       "1 4.139159 0.2216044 4.929374 5.014682 5.014689 0.1866465 2.7889       5.383828\n",
       "  OmegaCalcite\n",
       "1     5.383828\n"
      ]
     },
     "metadata": {},
     "output_type": "display_data"
    }
   ],
   "source": [
    "%%R\n",
    "relEk"
   ]
  },
  {
   "cell_type": "markdown",
   "metadata": {},
   "source": [
    "### 2.2 Define simpler names of variables to be plotted"
   ]
  },
  {
   "cell_type": "code",
   "execution_count": 18,
   "metadata": {
    "collapsed": false,
    "scrolled": true
   },
   "outputs": [],
   "source": [
    "%%R\n",
    "#   Absolute changes (fCO2 missing):\n",
    "    pH       <- absEt$pH\n",
    "    pCO2     <- absEt$pCO2\n",
    "    CO3      <- absEt$CO3\n",
    "    CO2      <- absEt$CO2\n",
    "    pCO2socn <- absEt$pCO2\n",
    "    OmegaA   <- absEt$OmegaAragonite\n",
    "    HCO3     <- absEt$HCO3\n",
    "    H        <- absEt$H\n",
    "\n",
    "#   Relative changes:\n",
    "    rCO3  <- relEt$CO3\n",
    "    rH    <- relEt$H\n",
    "    rpCO2 <- relEt$pCO2\n",
    "    rCO2  <- relEt$CO2\n",
    "    #rpCO2   <- relEt$pCO2 ###DUPLICATE\n",
    "    rOmegaA <- relEt$OmegaAragonite\n",
    "    rHCO3   <- relEt$HCO3\n",
    "    H       <- absEt$H\n",
    "\n",
    "    rHCO3H <- sqrt(rHCO3^2 + rH^2)\n"
   ]
  },
  {
   "cell_type": "code",
   "execution_count": 19,
   "metadata": {
    "collapsed": false
   },
   "outputs": [],
   "source": [
    "%%R\n",
    "menu_outvar = \"CO3\"\n",
    "er_outvar = relEt[[menu_outvar]]"
   ]
  },
  {
   "cell_type": "code",
   "execution_count": 20,
   "metadata": {
    "collapsed": false
   },
   "outputs": [
    {
     "data": {
      "text/plain": [
       "  [1]  2.788900  2.840769  2.990981  3.225830  3.528454  3.883040  4.276683\n",
       "  [8]  4.699578  5.144517  5.606253  6.080962  6.565831  7.058765  7.558188\n",
       " [15]  8.062893  8.571947  9.084620  9.600332 10.118617 10.639101 11.161475\n",
       " [22]  2.845577  2.896431  3.043898  3.274954  3.573420  3.923945  4.313857\n",
       " [29]  4.733432  5.175461  5.634663  6.107164  6.590105  7.081350  7.579284\n",
       " [36]  8.082672  8.590554  9.102179  9.616949 10.134385 10.654099 11.175772\n",
       " [43]  3.009210  3.057343  3.197398  3.418093  3.705046  4.044179  4.423505\n",
       " [50]  4.833572  5.267204  5.719044  6.185102  6.662396  7.148675  7.642224\n",
       " [57]  8.141721  8.646136  9.154655  9.666631 10.181542 10.698965 11.218552\n",
       " [64]  3.263751  3.308183  3.438034  3.644185  3.914600  4.236993  4.600448\n",
       " [71]  4.996012  5.416656  5.856978  6.312861  6.781168  7.259495  7.745987\n",
       " [78]  8.239196  8.737985  9.241452  9.748871 10.259655 10.773327 11.289492\n",
       " [85]  3.589915  3.630357  3.749066  3.938972  4.190407  4.493053  4.837307\n",
       " [92]  5.214936  5.619215  6.044800  6.487498  6.944038  7.411862  7.888962\n",
       " [99]  8.373754  8.864976  9.361616  9.862854 10.368025 10.876580 11.388066\n",
       "[106]  3.970088  4.006694  4.114560  4.288311  4.520356  4.802253  5.125783\n",
       "[113]  5.483581  5.869386  6.278034  6.705351  7.147990  7.603276  8.069066\n",
       "[120]  8.543645  9.025625  9.513882 10.007497 10.505715 11.007911 11.513564\n",
       "[127]  4.390261  4.423392  4.521327  4.680001  4.893508  5.155039  5.457696\n",
       "[134]  5.795038  6.161370  6.551832  6.962366  7.389625  7.830875  8.283878\n",
       "[141]  8.746809  9.218173  9.696739 10.181493 10.671591 11.166329 11.665117\n",
       "[148]  4.840029  4.870101  4.959223  5.104302  5.300746  5.543096  5.825627\n",
       "[155]  6.142797  6.489528  6.861341  7.254380  7.665380  8.091606  8.530775\n",
       "[162]  8.980989  9.440667  9.908493 10.383366 10.864361 11.350700 11.841725\n",
       "[169]  5.311879  5.339294  5.420707  5.553744  5.734813  5.959538  6.223192\n",
       "[176]  6.521053  6.848661  7.201956  7.577348  7.971715  8.382378  8.807060\n",
       "[183]  9.243827  9.691046 10.147336 10.611525 11.082622 11.559782 12.042285\n",
       "[190]  5.800425  5.825542  5.900249  6.022702  6.190069  6.398826  6.645072\n",
       "[197]  6.924811  7.234157  7.569481  7.927488  8.305245  8.700180  9.110059\n",
       "[204]  9.532954  9.967209 10.411402 10.864315 11.324901 11.792262 12.265622\n",
       "[211]  6.301785  6.324911  6.393786  6.506958  6.662170  6.856568  7.086928\n",
       "[218]  7.349868  7.642027  7.960189  8.301363  8.662832  9.042162  9.437199\n",
       "[225]  9.846053 10.267074 10.698825 11.140058 11.589691 12.046784 12.510518\n",
       "[232]  6.813130  6.834526  6.898315  7.003339  7.147781  7.329310  7.545250\n",
       "[239]  7.792741  8.068881  8.370834  8.695912  9.041621  9.405687  9.786061\n",
       "[246] 10.180914 10.588629 11.007775 11.437095 11.875487 12.321982 12.775731\n",
       "[253]  7.332372  7.352257  7.411592  7.509441  7.644325  7.814328  8.017215\n",
       "[260]  8.250561  8.511861  8.798625  9.108448  9.439060  9.788355 10.154404\n",
       "[267] 10.535462 10.929959 11.336492 11.753812 12.180810 12.616505 13.060025\n",
       "[274]  7.857946  7.876504  7.931918  8.023424  8.149806  8.309474  8.500551\n",
       "[281]  8.720974  8.968579  9.241181  9.536638  9.852892 10.188009 10.540188\n",
       "[288] 10.907777 11.289271 11.683308 12.088661 12.504230 12.929030 13.362181\n",
       "[295]  8.388661  8.406048  8.457993  8.543866  8.662659  8.813040  8.993425\n",
       "[302]  9.202049  9.437040  9.696482  9.978466 10.281139 10.602728 10.941567\n",
       "[309] 11.296102 11.664903 12.046659 12.440179 12.844380 13.258286 13.681016\n",
       "[316]  8.923601  8.939947  8.988807  9.069656  9.181649  9.323663  9.494351\n",
       "[323]  9.692199  9.915581 10.162813 10.432200 10.722072 11.030814 11.356887\n",
       "[330] 11.698843 12.055330 12.425096 12.806993 13.199966 13.603057 14.015392\n",
       "[337]  9.462048  9.477466  9.523569  9.599915  9.705791  9.840244 10.002120\n",
       "[344] 10.190114 10.402810 10.638725 10.896353 11.174190 11.470770 11.784676\n",
       "[351] 12.114563 12.459160 12.817282 13.187826 13.569776 13.962194 14.364224\n",
       "[358] 10.003437 10.018021 10.061648 10.133941 10.234294 10.361891 10.515741\n",
       "[365] 10.694710 10.897561 11.122988 11.369648 11.636190 11.921282 12.223624\n",
       "[372] 12.541971 12.875134 13.221993 13.581501 13.952677 14.334618 14.726483\n",
       "[379] 10.547314 10.561148 10.602539 10.671169 10.766516 10.887877 11.034396\n",
       "[386] 11.205084 11.398856 11.614558 11.850991 12.106940 12.381197 12.672572\n",
       "[393] 12.979912 13.302111 13.638116 13.986931 14.347623 14.719319 15.101205\n",
       "[400] 11.093314 11.106467 11.145834 11.211138 11.301931 11.417603 11.557407\n",
       "[407] 11.720481 11.905868 12.112544 12.339439 12.585459 12.849506 13.130493\n",
       "[414] 13.427356 13.739066 14.064636 14.403125 14.753646 15.115360 15.487484\n",
       "[421] 11.641137 11.653672 11.691197 11.753472 11.840106 11.950570 12.084210\n",
       "[428] 12.240268 12.417897 12.616188 12.834182 13.070893 13.325325 13.596482\n",
       "[435] 13.883384 14.185077 14.500636 14.829177 15.169856 15.521874 15.884478\n"
      ]
     },
     "metadata": {},
     "output_type": "display_data"
    }
   ],
   "source": [
    "%%R\n",
    "er_outvar"
   ]
  },
  {
   "cell_type": "markdown",
   "metadata": {},
   "source": [
    "## 3. Compute other parts of error-space diagrams"
   ]
  },
  {
   "cell_type": "markdown",
   "metadata": {},
   "source": [
    "### 3.1 Constants-pair CURVE (along which propagated error from constants equals that from the input pair)"
   ]
  },
  {
   "cell_type": "code",
   "execution_count": 21,
   "metadata": {
    "collapsed": false
   },
   "outputs": [],
   "source": [
    "%%R\n",
    "# Critical curves (Constants-Pairs curve)\n",
    "# ===============\n",
    "# Southern Ocean\n",
    "errcirc <- errhalf(flag=menu_flag, var1=ALK, var2=DIC, S=salt, T=temp, \n",
    "                   Patm=1, P=press, Pt=Phos, Sit=Sil,\n",
    "                   epK=epKstd,\n",
    "                   k1k2='l', kf='dg', ks=\"d\", pHscale=\"T\", b=\"u74\", gas=\"potential\", warn=\"n\")  \n",
    "sig1_AtCt   <- data.frame(errcirc[1]) * 1e+6\n",
    "sig2_AtCt   <- data.frame(errcirc[2]) * 1e+6\n",
    "sigy_AtCt   <- data.frame(errcirc[3]) \n",
    "sig1hp_AtCt <- data.frame(errcirc[4]) * 1e+6\n",
    "sig2hp_AtCt <- data.frame(errcirc[5]) * 1e+6"
   ]
  },
  {
   "cell_type": "markdown",
   "metadata": {},
   "source": [
    "### 3.2 Balanced-pair LINE (along which both members of input pair contrbute equally to propagated error)"
   ]
  },
  {
   "cell_type": "code",
   "execution_count": 22,
   "metadata": {
    "collapsed": false,
    "scrolled": true
   },
   "outputs": [],
   "source": [
    "%%R\n",
    "sigyspct <- seq(0,20,by=0.1) # in percent\n",
    "\n",
    "# At-Ct pair\n",
    "# ----------\n",
    "# Southern Ocean\n",
    "errm <- errmid(flag=menu_flag, var1=ALK, var2=DIC, S=salt, T=temp, \n",
    "                   Patm=1, P=press, Pt=Phos, Sit=Sil,\n",
    "                   sigyspct, epK=epKstd,\n",
    "                   k1k2='l', kf='dg', ks=\"d\", pHscale=\"T\", b=\"u74\", gas=\"potential\", warn=\"n\")  \n",
    "sigm1_AtCt   <- data.frame(errm[1]) * 1e+6\n",
    "sigm2_AtCt   <- data.frame(errm[2]) * 1e+6"
   ]
  },
  {
   "cell_type": "markdown",
   "metadata": {},
   "source": [
    "## 4. Plot results: contours of calculated errors from input errors"
   ]
  },
  {
   "cell_type": "markdown",
   "metadata": {},
   "source": [
    "### 4.1 Create file 'prettyaxes.R' to beautify subsequent plots (call it in cell below)"
   ]
  },
  {
   "cell_type": "code",
   "execution_count": 23,
   "metadata": {
    "collapsed": false
   },
   "outputs": [],
   "source": [
    "%%R\n",
    "cat(' box()\\n',\n",
    "    'axis(1,labels=FALSE, tcl=-0.35) ; axis(1, lwd=0, line=-0.4, labels=TRUE)\\n',\n",
    "    'axis(2,labels=FALSE,tcl=-0.35)  ; axis(2, lwd=0, line=-0.4, las=2, labels=TRUE)\\n',\n",
    "    'axis(3,labels=FALSE,tcl=-0.35) ; axis(4,labels=FALSE,tcl=-0.25)\\n',\n",
    "   file='prettyaxes.R')"
   ]
  },
  {
   "cell_type": "markdown",
   "metadata": {},
   "source": [
    "### 4.2 Function to strip NaNs and add a 0 at beginning of a vector"
   ]
  },
  {
   "cell_type": "code",
   "execution_count": 24,
   "metadata": {
    "collapsed": true
   },
   "outputs": [],
   "source": [
    "%%R\n",
    "zenon <- function(x){\n",
    "       # Get rid of NaN's\n",
    "       x <- c(0.0, x[!is.na(x)]) \n",
    "       return(x)\n",
    "}"
   ]
  },
  {
   "cell_type": "markdown",
   "metadata": {},
   "source": [
    "### 4.3 Function to make plot"
   ]
  },
  {
   "cell_type": "code",
   "execution_count": 25,
   "metadata": {
    "collapsed": false
   },
   "outputs": [],
   "source": [
    "%%R\n",
    "plterrcontour <- function(sigcritXa, sigcritYa, xlab, ylab, subtitle, xlim, ylim,\n",
    "                           sighpXa, sighpYa,\n",
    "                           sigmidXa, sigmidYa,\n",
    "                           sigsoaX, sigsoaY,\n",
    "                           x, y, za, levels1,\n",
    "                           methoda='flattest'){\n",
    "    \n",
    "#   Region 'a' is Southern Ocean  ;  Region 'b' is Tropics:\n",
    "    # 'contour' command must come after any 'plot', 'lines', or 'points' commands \n",
    "    plot (sigcritXa, sigcritYa, xlab=xlab, ylab=ylab, plot.title=title(main=subtitle),\n",
    "          xlim=xlim, ylim=ylim, col=\"black\", type='l', lwd=4, lty='solid',xaxt='n',yaxt='n',\n",
    "          cex.lab=1.4, ann=F, xaxs='r', yaxs='r')\n",
    "#   Plot critical point\n",
    "    if ( is.null(sighpXa) ) {\n",
    "        points(sigcritXa[11], sigcritYa[11], col=\"black\", cex=1.7, pch=19)\n",
    "    } else {\n",
    "        points(sighpXa, sighpYa, col=\"black\", cex=1.7, pch=19)\n",
    "    }    \n",
    "#   Plot mid-line (where e1 = e2 on each isoline [and between isolines])\n",
    "    lines(sigmidXa, sigmidYa, col=\"black\", lwd=1, lty='solid')\n",
    "#   symbols(x=sigcritXb[11], y=sigcritYb[11], circles=1, inches=1/3, ann=F, bg=\"steelblue2\", fg=NULL, add=TRUE)\n",
    "#   Plot point(s) at state-of-the-art (soa) for absolute error in each member of the input pair\n",
    "#   - pH has 2 points (random & overall error); other 3 input variables only have 1 point\n",
    "    points(sigsoaX, sigsoaY, col=\"black\", cex=1.7, pch=4)\n",
    "    axis(1,labels=TRUE, tcl=-0.35, cex.axis=1.3) \n",
    "    axis(2, tcl=-0.35, labels=FALSE, las=0) \n",
    "    title(xlab = xlab, cex.lab = 1.4, line = 2.9)\n",
    "    title(ylab = ylab, cex.lab = 1.4, line = 1.9)\n",
    "\n",
    "#   Add 2 colored text strings near origin to indicate the propagated error at the origin (from constants only)\n",
    "    a0 <- za[1,1]\n",
    "    if (a0 < 1) {ndiga <- 2} else {ndiga <- 3}\n",
    "    mtext( format(a0, digits=ndiga), side=1, line=2.5, at=0, srt=0,  cex=1.05, col='blue')\n",
    "\n",
    "#  'contour' command MUST come after any 'plot', 'lines', or 'points' commands \n",
    "#   For 'method', use 'simple, edge or flattest (flattest looks best but seems to fail often when lines are vertical)\n",
    "    contour(x, y , za, levels=levels1, method=methoda, col=\"blue\", lty=1, lwd=2, \n",
    "            yaxt='n', , labcex=1.0, add=TRUE)\n",
    "    axis(2, tcl=-0.35, labels=FALSE) \n",
    "\n",
    "    axis(2, tcl=-0.35, labels=FALSE, las=0) ; \n",
    "    axis(2, lwd=0, line=-0.4, las=2, labels=TRUE, cex.axis=1.4)\n",
    "    axis(3,labels=FALSE,tcl=-0.35) ; axis(4,labels=FALSE,tcl=-0.25)\n",
    "    done <- c('error contour plot')\n",
    "#return(NULL)\n",
    "}"
   ]
  },
  {
   "cell_type": "markdown",
   "metadata": {},
   "source": [
    "### 4.4 Error-space diagram of relative error in CO3  for At-Ct input pair\n",
    "\n",
    "Combine (1) contour plot of CO3 with (2) constants-pair curve, (3) balanced-pair line, ane (4) symbol indicating current state-of-the-art uncertainty."
   ]
  },
  {
   "cell_type": "code",
   "execution_count": 26,
   "metadata": {
    "collapsed": false
   },
   "outputs": [
    {
     "data": {
      "text/plain": [
       "NULL\n"
      ]
     },
     "metadata": {},
     "output_type": "display_data"
    }
   ],
   "source": [
    "%%R\n",
    "dim(er_outvar)"
   ]
  },
  {
   "cell_type": "code",
   "execution_count": 28,
   "metadata": {
    "collapsed": false
   },
   "outputs": [
    {
     "data": {
      "image/png": "[encoded data removed]"
     },
     "metadata": {},
     "output_type": "display_data"
    }
   ],
   "source": [
    "%%R\n",
    "### Start PDF device driver to save output to figure.pdf\n",
    "# Comment out line below & last line of this script to display resulting graph on computer screen\n",
    "# pdf(file=\"halfway_CO3.pdf\",  width=10.0, height=7.0)\n",
    "\n",
    "  options(repr.plot.width=7.0, repr.plot.height=7)\n",
    "\n",
    "\n",
    "#     dim(rCO3) <- c(length(DIC_e), length(ALK_e))\n",
    "    dim(er_outvar) <- c(length(DIC_e), length(ALK_e))\n",
    "\n",
    "#   pdf(file=\"Fig_AbsErrContours2_trop_socn.pdf\")\n",
    "    par(mfrow=c(1,1), mar=c(4,3.7,1,1.5)+0.1, oma=c(2,0,0,0.5), mgp=c(2,1,0), font.main=1) \n",
    "\n",
    "    subtitle <- NULL\n",
    "\n",
    "#   At-Ct\n",
    "#   -------------------\n",
    "    xlabel <- expression(paste(sigma[italic(\"C\")[T]],\" (\",mu,\"mol kg\"^{-1},\")\",sep=\"\"))\n",
    "    ylabel <- expression(paste(sigma[italic(\"A\")[T]],\" (\",mu,\"mol kg\"^{-1},\")\",sep=\"\"))\n",
    "\n",
    "    sigcritXa <- sig2_AtCt$CO3  ;  sigcritYa <- sig1_AtCt$CO3  #sig2_ is x axis; sig1_ is y axis\n",
    "    x <- DIC_e*1e+6  ;  y <- ALK_e*1e+6\n",
    "    za <- er_outvar #rCO3  \n",
    "    xlim <- c(0,20)  ; ylim <- xlim\n",
    "    levels1 <- c(1,seq(2,20,by=2))  \n",
    "\n",
    "    plterrcontour (sigcritXa, sigcritYa, xlabel, ylabel, subtitle, xlim, ylim,\n",
    "                   sig1hp_AtCt$CO3, sig2hp_AtCt$CO3,\n",
    "                   zenon(sigm2_AtCt$CO3), zenon(sigm1_AtCt$CO3),\n",
    "                   DIC_e_soa2, ALK_e_soa2,\n",
    "                   x, y, za, levels1,\n",
    "                   'flattest')\n",
    "\n",
    "# Turn off device driver (to flush output to PDF)\n",
    "# dev.off()"
   ]
  },
  {
   "cell_type": "markdown",
   "metadata": {},
   "source": [
    "***Figure:*** Percent relative uncertainty in computed $[\\text{CO}_3^{2-}]$ from the $A_\\text{T}-C_\\text{T}$ input pair as a function of uncertainties in each member of that input pair. Each of those members is indicated by the x- and y-axis labels. Propagated relative error (in percent) is shown for the Southern Ocean (blue solid lines). Sublots without pH as an input member also include the Constants-Pair curve (thick black line), where the total propagated error from the constants is equal to that from the input pair. The balanced-pair line (thin black line) indicates where each member of the input pair contributes equally to total propagated error. "
   ]
  },
  {
   "cell_type": "code",
   "execution_count": null,
   "metadata": {
    "collapsed": true
   },
   "outputs": [],
   "source": []
  }
 ],
 "metadata": {
  "kernelspec": {
   "display_name": "Python 2",
   "language": "python",
   "name": "python2"
  },
  "language_info": {
   "codemirror_mode": {
    "name": "ipython",
    "version": 2
   },
   "file_extension": ".py",
   "mimetype": "text/x-python",
   "name": "python",
   "nbconvert_exporter": "python",
   "pygments_lexer": "ipython2",
   "version": "2.7.12"
  }
 },
 "nbformat": 4,
 "nbformat_minor": 0
}
