{
 "cells": [
  {
   "cell_type": "markdown",
   "metadata": {},
   "source": [
    "# Error-space diagram - example for 1 input pair, 1 derived var, 1 region"
   ]
  },
  {
   "cell_type": "markdown",
   "metadata": {},
   "source": [
    "#### Load needed packages"
   ]
  },
  {
   "cell_type": "code",
   "execution_count": 67,
   "metadata": {
    "collapsed": false
   },
   "outputs": [
    {
     "name": "stdout",
     "output_type": "stream",
     "text": [
      "The rpy2.ipython extension is already loaded. To reload it, use:\n",
      "  %reload_ext rpy2.ipython\n"
     ]
    }
   ],
   "source": [
    "import rpy2\n",
    "\n",
    "# necessary to workaround the error: /u01/anaconda2/lib/libreadline.so.6: undefined symbol: PC\n",
    "# https://www.rittmanmead.com/blog/2016/07/using-r-jupyter-notebooks-big-data-discovery/\n",
    "import readline\n",
    "\n",
    "%load_ext rpy2.ipython"
   ]
  },
  {
   "cell_type": "code",
   "execution_count": 68,
   "metadata": {
    "collapsed": false,
    "scrolled": false
   },
   "outputs": [
    {
     "name": "stdout",
     "output_type": "stream",
     "text": [
      "\n",
      "Error in library(Hmisc) : aucun package nommé ‘Hmisc’ n'est trouvé\n"
     ]
    }
   ],
   "source": [
    "%%R\n",
    "#libraries previously installed using:\n",
    "# install.packages(\"seacarb\", repos=\"http://R-Forge.R-project.org\") \n",
    "library(seacarb)\n",
    "library(Hmisc)   #for minor ticks in plot"
   ]
  },
  {
   "cell_type": "markdown",
   "metadata": {},
   "source": [
    "## 1. Get routines and specify input vars"
   ]
  },
  {
   "cell_type": "markdown",
   "metadata": {},
   "source": [
    "### 1.1 Read in new and modified functions "
   ]
  },
  {
   "cell_type": "markdown",
   "metadata": {},
   "source": [
    "The commands below read in routines that have been modified (derivnum and errors) or are completely new relative to the standard version of the seacarb distribution.  You can get these new and modified routines from github:\n",
    "\n",
    "git clone https://github.com/jamesorr/seacarb-git.git\n",
    "\n",
    "Then just change the directory in the 4 lines of the cell just below:"
   ]
  },
  {
   "cell_type": "code",
   "execution_count": 69,
   "metadata": {
    "collapsed": true
   },
   "outputs": [],
   "source": [
    "%%R\n",
    "#branch buffesm1 of seacarb-git\n",
    "source(\"/homel/cnangini/PROJECTS/seacarb-git/R/errhalf.R\")\n",
    "source(\"/homel/cnangini/PROJECTS/seacarb-git/R/errmid.R\")\n",
    "source(\"/homel/cnangini/PROJECTS/seacarb-git/R/errors.R\")\n",
    "source(\"/homel/cnangini/PROJECTS/seacarb-git/R/derivnum.R\")"
   ]
  },
  {
   "cell_type": "markdown",
   "metadata": {},
   "source": [
    "### 1.2 Specify input variables and their corresponding uncertainties (errors)"
   ]
  },
  {
   "cell_type": "code",
   "execution_count": 70,
   "metadata": {
    "collapsed": false
   },
   "outputs": [],
   "source": [
    "%%R\n",
    "\n",
    "# Specify flag & corresponding 2 input variables \n",
    "  flag = 15\n",
    "\n",
    "# Input variables:\n",
    "# ----------------\n",
    "# Approximate regional mean for Southern Ocean (picked off of Fig. 3.2 from Orr, 2011)\n",
    "# For ALK & DIC input pair\n",
    "  ALK  = 2295e-6  #(umol/kg)\n",
    "  DIC  = 2155e-6\n",
    "\n",
    "  temp = -0.49    #C\n",
    "  salt = 33.96    #psu\n",
    "  press = 0       #bar\n",
    "\n",
    "  Phos = 2.e-6    #(umol/kg)\n",
    "  Sil = 60.e-6    #(umol/kg)\n",
    "\n",
    "# Uncertainties in input variables\n",
    "# ---------------------------------\n",
    "  ALK_e <- seq(0., 20., 1.0) * 1e-6\n",
    "  DIC_e <- ALK_e\n",
    "  pCO2_e <- seq(0,20,1)\n",
    "  pH_e   <- seq(0,0.03,0.0015)\n",
    "\n",
    "  salt_e = 0.01   \n",
    "  temp_e = 0.01   \n",
    "\n",
    "  Pt_e = 0.1e-6\n",
    "  Sit_e = 4.0e-6"
   ]
  },
  {
   "cell_type": "markdown",
   "metadata": {},
   "source": [
    "### 1.3 Default uncertainties in equilibrium constants (pK0, pK1, pK2, pKb, pKw, pKa, pKc, Bt)"
   ]
  },
  {
   "cell_type": "code",
   "execution_count": 71,
   "metadata": {
    "collapsed": true
   },
   "outputs": [],
   "source": [
    "%%R\n",
    "# Estimates for errors in constants in errors.R routine (from Orr et al., 2017)\n",
    "  epKstd  <- c(0.004, 0.015,  0.03, 0.01,  0.01, 0.02, 0.02, 0.01)\n",
    "# epKstd  <- c(0.004, 0.015,  0.03, 0.01,  0.01, 0.02, 0.02)"
   ]
  },
  {
   "cell_type": "markdown",
   "metadata": {},
   "source": [
    "### 1.3 Compute derived carbonate system vars with std seacarb routine `carb`:"
   ]
  },
  {
   "cell_type": "code",
   "execution_count": 72,
   "metadata": {
    "collapsed": false
   },
   "outputs": [
    {
     "name": "stdout",
     "output_type": "stream",
     "text": [
      "\n",
      "Error in bor(S = S, b = b) : argument inutilisé (b = b)\n"
     ]
    }
   ],
   "source": [
    "%%R\n",
    "# Compute derived carbonate system variables with standard seacarb routine 'carb':\n",
    "\n",
    "# Southern Ocean\n",
    "# vars <- carb  (flag=15, var1=ALK, DIC, S=salt, T=temp, Patm=1, P=press, Pt=Phos, Sit=Sil, \n",
    "#                     k1k2='w14', kf='dg', ks=\"d\", pHscale=\"T\", b=\"u74\", gas=\"potential\", warn='n')\n",
    "vars <- carb  (flag=15, var1=ALK, DIC, S=salt, T=temp, P=press, Pt=Phos, Sit=Sil, \n",
    "                    k1k2='w14', kf='dg', pHscale=\"T\")\n",
    "#missing: Patm=1, ks=\"d\", b=\"u74\", gas=\"potential\", warn='n'\n",
    "\n",
    "pH <- vars$pH\n",
    "pCO2 <- vars$pCO2\n",
    "\n",
    "# Compute H+ from pH, i.e., pH = -log10[H+], where [H+] is the hydrogen ion concentration in mol/kg\n",
    "H = 10^(-1*vars$pH)\n",
    "\n",
    "# Keep only key columns to be consistent with output from 'errors.R' routine (called below)\n",
    "vars <- data.frame(H, vars[,c('pH','CO2','fCO2','pCO2','HCO3','CO3','OmegaAragonite','OmegaCalcite')] )\n",
    "vars\n",
    "\n",
    "# Duplicate rows in *vars* until same as number of members of error vector ALK_e\n",
    "numerrs <- length(ALK_e)\n",
    "vars <- vars[rep(row.names(vars), numerrs), ]\n"
   ]
  },
  {
   "cell_type": "code",
   "execution_count": 73,
   "metadata": {
    "collapsed": false
   },
   "outputs": [
    {
     "data": {
      "text/plain": [
       "             H flag     S     T P       pH          CO2     pCO2    fCO2\n",
       "1 7.695426e-09   15 33.96 -0.49 0 8.113767 2.086114e-05 324.8924 323.474\n",
       "         HCO3          CO3      DIC      ALK OmegaAragonite OmegaCalcite\n",
       "1 0.002030905 0.0001032343 0.002155 0.002295       1.559692     2.487399\n"
      ]
     },
     "metadata": {},
     "output_type": "display_data"
    }
   ],
   "source": [
    "%%R\n",
    "vars"
   ]
  },
  {
   "cell_type": "markdown",
   "metadata": {},
   "source": [
    "### 1.4 Use 1-D error vectors to build 2-D error array (to plot contours in DIC-ALK space)  "
   ]
  },
  {
   "cell_type": "code",
   "execution_count": 22,
   "metadata": {
    "collapsed": false
   },
   "outputs": [],
   "source": [
    "%%R\n",
    "  dat <- expand.grid(DIC_e, ALK_e)"
   ]
  },
  {
   "cell_type": "markdown",
   "metadata": {},
   "source": [
    "### 1.5 Specify state-of-art (soa) errors for vars: from error-propagation manuscript (Orr et al. 2017, Table 1) \n",
    "\n",
    "These will be plotted as crosses on the error-space diagrams"
   ]
  },
  {
   "cell_type": "code",
   "execution_count": 23,
   "metadata": {
    "collapsed": false
   },
   "outputs": [
    {
     "data": {
      "text/plain": [
       "[1] 2 2\n"
      ]
     },
     "metadata": {},
     "output_type": "display_data"
    }
   ],
   "source": [
    "%%R\n",
    "ALK_e_soa   <- 2 #umol/kg\n",
    "DIC_e_soa   <- 2 #umol/kg\n",
    "\n",
    "ALK_e_soa2  <- c(ALK_e_soa, ALK_e_soa)\n",
    "DIC_e_soa2  <- c(DIC_e_soa, DIC_e_soa)\n",
    "\n",
    "ALK_e_soa2\n",
    "DIC_e_soa2"
   ]
  },
  {
   "cell_type": "markdown",
   "metadata": {},
   "source": [
    "## 2. Compute derived variables (with `carb`) and propagated errors (with `errors`)"
   ]
  },
  {
   "cell_type": "markdown",
   "metadata": {},
   "source": [
    "### 2.1 Computations of derived vars and their errors (for At-Ct pair only) "
   ]
  },
  {
   "cell_type": "code",
   "execution_count": 62,
   "metadata": {
    "collapsed": false
   },
   "outputs": [
    {
     "name": "stdout",
     "output_type": "stream",
     "text": [
      "\n",
      "Error in bor(S = S, b = b) : argument inutilisé (b = b)\n"
     ]
    }
   ],
   "source": [
    "%%R\n",
    "errors(flag=15, var1=2300e-6, var2=2000e-6, S=35, T=25, P=0, Patm=1.0, Pt=0, Sit=0, \n",
    "       evar1=5e-6, evar2=5e-6, eS=0, eT=0, ePt=0, eSit=0, \n",
    "       pHscale=\"T\", kf=\"pf\", k1k2=\"l\", ks=\"d\", b=\"u74\")"
   ]
  },
  {
   "cell_type": "code",
   "execution_count": 43,
   "metadata": {
    "collapsed": false
   },
   "outputs": [
    {
     "name": "stdout",
     "output_type": "stream",
     "text": [
      "\n",
      "Error in carb(flag = 15, var1 = ALK, var2 = DIC, S = salt, T = temp, Patm = 1,  : \n",
      "  arguments inutilisés (Patm = 1, ks = \"d\", b = \"u74\", gas = \"potential\", warn = \"n\")\n"
     ]
    }
   ],
   "source": [
    "%%R\n",
    "# Compute variables\n",
    "vars <- carb  (flag=15, var1=ALK, var2=DIC, S=salt, T=temp, Patm=1, P=press, Pt=Phos, Sit=Sil, \n",
    "                    k1k2='w14', kf='dg', ks=\"d\", pHscale=\"T\", b=\"u74\", gas=\"potential\", warn='n')\n",
    "\n",
    "H = 10^(-1*vars$pH)         # H+ concentration (mol/kg)\n",
    "vars <- data.frame(H, vars) # Add H+ as new column to vars data frame\n",
    "\n",
    "# Absolute errors: propagated uncertainties \n",
    "absEt <- errors (flag=15, var1=ALK, var2=DIC, S=salt, T=temp, \n",
    "                      Patm=1, P=press, Pt=Phos, Sit=Sil, \n",
    "                      evar1=dat$Var2, evar2=dat$Var1, eS=0, eT=0, ePt=0, eSit=0, epK=epKstd,\n",
    "                      k1k2='w14', kf='dg', ks=\"d\", pHscale=\"T\", b=\"u74\", gas=\"potential\", warn='no')\n",
    "\n",
    "# Aboslute error from constants only (all other input errors assumed to be zero)\n",
    "absEk <- errors  (flag=15, var1=ALK, var2=DIC, S=salt, T=temp, \n",
    "                       Patm=1, P=press, Pt=Phos, Sit=Sil, \n",
    "                       evar1=0, evar2=0, \n",
    "                       eS=0, eT=0, ePt=0, eSit=0, epK=epKstd,\n",
    "                       k1k2='w14', kf='dg', ks=\"d\", pHscale=\"T\", b=\"u74\", gas=\"potential\", warn='n')\n",
    "\n",
    "# Keep only key columns in vars for consistency with columns in absEt\n",
    "vars <- vars[,colnames(absEt)] \n",
    "vars\n",
    "\n",
    "# Duplicate rows in *vars* until same as number of members of error vector ALK_e\n",
    "numerrs <- length(dat$Var1)\n",
    "vars <- vars[rep(row.names(vars), numerrs), ]\n",
    "\n",
    "#Relative errors (in percent)\n",
    "relEk <- 100* absEk / vars[1,]        #Relative error from constants only\n",
    "relEt <- 100* absEt / vars            #Total relative error (from constants and other input variables)\n",
    "relEk"
   ]
  },
  {
   "cell_type": "code",
   "execution_count": 34,
   "metadata": {
    "collapsed": false
   },
   "outputs": [
    {
     "name": "stdout",
     "output_type": "stream",
     "text": [
      "\n",
      "Error in carb(flag, var11, var21, S = S1, T = T1, Patm = Patm, P = P,  : \n",
      "  arguments inutilisés (Patm = Patm, ks = ks, b = b, gas = gas, warn = warn)\n"
     ]
    }
   ],
   "source": [
    "%%R\n",
    "# Compute variables\n",
    "vars <- carb  (flag=15, var1=ALK, var2=DIC, S=salt, T=temp, P=press, Pt=Phos, Sit=Sil, \n",
    "                    k1k2='w14', kf='dg', pHscale=\"T\")\n",
    "\n",
    "H = 10^(-1*vars$pH)         # H+ concentration (mol/kg)\n",
    "vars <- data.frame(H, vars) # Add H+ as new column to vars data frame\n",
    "\n",
    "# Absolute errors: propagated uncertainties \n",
    "# absEt <- errors (flag=15, var1=ALK, var2=DIC, S=salt, T=temp, \n",
    "#                       P=press, Pt=Phos, Sit=Sil, \n",
    "#                       evar1=dat$Var2, evar2=dat$Var1, eS=0, eT=0, ePt=0, eSit=0, epK=epKstd,\n",
    "#                       k1k2='w14', kf='dg', pHscale=\"T\")\n",
    "\n",
    "absEt <- errors (flag=15, var1=ALK, var2=DIC,\n",
    "                      evar1=dat$Var2, evar2=dat$Var1)"
   ]
  },
  {
   "cell_type": "markdown",
   "metadata": {},
   "source": [
    "### 2.2 Define simpler names of variables to be plotted"
   ]
  },
  {
   "cell_type": "code",
   "execution_count": 9,
   "metadata": {
    "collapsed": false,
    "scrolled": true
   },
   "outputs": [],
   "source": [
    "#   Absolute changes:\n",
    "    pH       <- absEt$pH\n",
    "    pCO2     <- absEt$pCO2\n",
    "    CO3      <- absEt$CO3\n",
    "    CO2      <- absEt$CO2\n",
    "    pCO2socn <- absEt$pCO2\n",
    "    OmegaA   <- absEt$OmegaAragonite\n",
    "    HCO3     <- absEt$HCO3\n",
    "    H        <- absEt$H\n",
    "\n",
    "#   Relative changes:\n",
    "    rCO3  <- relEt$CO3\n",
    "    rH    <- relEt$H\n",
    "    rpCO2 <- relEt$pCO2\n",
    "    rCO2  <- relEt$CO2\n",
    "    rpCO2   <- relEt$pCO2\n",
    "    rOmegaA <- relEt$OmegaAragonite\n",
    "    rHCO3   <- relEt$HCO3\n",
    "    H       <- absEt$H\n",
    "\n",
    "    rHCO3H <- sqrt(rHCO3^2 + rH^2)\n"
   ]
  },
  {
   "cell_type": "markdown",
   "metadata": {},
   "source": [
    "## 3. Compute other parts of error-space diagrams"
   ]
  },
  {
   "cell_type": "markdown",
   "metadata": {},
   "source": [
    "### 3.1 Constants-pair CURVE (along which propagated error from constants equals that from the input pair)"
   ]
  },
  {
   "cell_type": "code",
   "execution_count": 10,
   "metadata": {
    "collapsed": false
   },
   "outputs": [
    {
     "name": "stderr",
     "output_type": "stream",
     "text": [
      "Warning message:\n",
      "In seacarb::K1(S, T, P, k1k2 = k1k2, pHscale = pHscale, kSWS2scale = kSWS2scale, : S and/or T is outside the range of validity of the formulation chosen for K1.Warning message:\n",
      "In seacarb::K1(S, T, P, k1k2 = k1k2, pHscale = pHscale, kSWS2scale = kSWS2scale, : S and/or T is outside the range of validity of the formulation chosen for K1.Warning message:\n",
      "In seacarb::K2(S, T, P, k1k2 = k1k2, pHscale = pHscale, kSWS2scale = kSWS2scale, : S and/or T is outside the range of validity of the formulation chosen for K2.Warning message:\n",
      "In seacarb::K2(S, T, P, k1k2 = k1k2, pHscale = pHscale, kSWS2scale = kSWS2scale, : S and/or T is outside the range of validity of the formulation chosen for K2.Warning message:\n",
      "In seacarb::Kb(S, T, P, pHscale = pHscale, kSWS2scale = kSWS2scale, : S and/or T is outside the range of validity of the formulation available for Kb in seacarb.Warning message:\n",
      "In seacarb::Kb(S, T, P, pHscale = pHscale, kSWS2scale = kSWS2scale, : S and/or T is outside the range of validity of the formulation available for Kb in seacarb.Warning message:\n",
      "In seacarb::Kw(S, T, P, pHscale = pHscale, kSWS2scale = kSWS2scale): S and/or T is outside the range of validity of the formulation available for Kw in seacarb.Warning message:\n",
      "In seacarb::Kw(S, T, P, pHscale = pHscale, kSWS2scale = kSWS2scale): S and/or T is outside the range of validity of the formulation available for Kw in seacarb.Warning message:\n",
      "In seacarb::Kspa(S, T, P): S and/or T is outside the range of validity of the formulation available for Kspa in seacarb.Warning message:\n",
      "In seacarb::Kspa(S, T, P): S and/or T is outside the range of validity of the formulation available for Kspa in seacarb.Warning message:\n",
      "In seacarb::Kspc(S, T, P): S and/or T is outside the range of validity of the formulation available for Kspc in seacarb.Warning message:\n",
      "In seacarb::Kspc(S, T, P): S and/or T is outside the range of validity of the formulation available for Kspc in seacarb."
     ]
    }
   ],
   "source": [
    "# Critical curves (Constants-Pairs curve)\n",
    "# ===============\n",
    "# Southern Ocean\n",
    "errcirc <- errhalf(flag=15, var1=ALK, var2=DIC, S=salt, T=temp, \n",
    "                   Patm=1, P=press, Pt=Phos, Sit=Sil,\n",
    "                   epK=epKstd,\n",
    "                   k1k2='l', kf='dg', ks=\"d\", pHscale=\"T\", b=\"u74\", gas=\"potential\", warn=\"n\")  \n",
    "sig1_AtCt   <- data.frame(errcirc[1]) * 1e+6\n",
    "sig2_AtCt   <- data.frame(errcirc[2]) * 1e+6\n",
    "sigy_AtCt   <- data.frame(errcirc[3]) \n",
    "sig1hp_AtCt <- data.frame(errcirc[4]) * 1e+6\n",
    "sig2hp_AtCt <- data.frame(errcirc[5]) * 1e+6"
   ]
  },
  {
   "cell_type": "markdown",
   "metadata": {},
   "source": [
    "### 3.2 Balanced-pair LINE (along which both members of input pair contrbute equally to propagated error)"
   ]
  },
  {
   "cell_type": "code",
   "execution_count": 11,
   "metadata": {
    "collapsed": false,
    "scrolled": true
   },
   "outputs": [
    {
     "name": "stderr",
     "output_type": "stream",
     "text": [
      "Warning message:\n",
      "In seacarb::K1(S, T, P, k1k2 = k1k2, pHscale = pHscale, kSWS2scale = kSWS2scale, : S and/or T is outside the range of validity of the formulation chosen for K1.Warning message:\n",
      "In seacarb::K1(S, T, P, k1k2 = k1k2, pHscale = pHscale, kSWS2scale = kSWS2scale, : S and/or T is outside the range of validity of the formulation chosen for K1.Warning message:\n",
      "In seacarb::K2(S, T, P, k1k2 = k1k2, pHscale = pHscale, kSWS2scale = kSWS2scale, : S and/or T is outside the range of validity of the formulation chosen for K2.Warning message:\n",
      "In seacarb::K2(S, T, P, k1k2 = k1k2, pHscale = pHscale, kSWS2scale = kSWS2scale, : S and/or T is outside the range of validity of the formulation chosen for K2.Warning message:\n",
      "In seacarb::Kb(S, T, P, pHscale = pHscale, kSWS2scale = kSWS2scale, : S and/or T is outside the range of validity of the formulation available for Kb in seacarb.Warning message:\n",
      "In seacarb::Kb(S, T, P, pHscale = pHscale, kSWS2scale = kSWS2scale, : S and/or T is outside the range of validity of the formulation available for Kb in seacarb.Warning message:\n",
      "In seacarb::Kw(S, T, P, pHscale = pHscale, kSWS2scale = kSWS2scale): S and/or T is outside the range of validity of the formulation available for Kw in seacarb.Warning message:\n",
      "In seacarb::Kw(S, T, P, pHscale = pHscale, kSWS2scale = kSWS2scale): S and/or T is outside the range of validity of the formulation available for Kw in seacarb.Warning message:\n",
      "In seacarb::Kspa(S, T, P): S and/or T is outside the range of validity of the formulation available for Kspa in seacarb.Warning message:\n",
      "In seacarb::Kspa(S, T, P): S and/or T is outside the range of validity of the formulation available for Kspa in seacarb.Warning message:\n",
      "In seacarb::Kspc(S, T, P): S and/or T is outside the range of validity of the formulation available for Kspc in seacarb.Warning message:\n",
      "In seacarb::Kspc(S, T, P): S and/or T is outside the range of validity of the formulation available for Kspc in seacarb.Warning message:\n",
      "In sqrt(0.5 * (sigmay^2 - eKall^2)/dd1^2): NaNs producedWarning message:\n",
      "In sqrt(0.5 * (sigmay^2 - eKall^2)/dd2^2): NaNs produced"
     ]
    }
   ],
   "source": [
    "sigyspct <- seq(0,20,by=0.1) # in percent\n",
    "\n",
    "# At-Ct pair\n",
    "# ----------\n",
    "# Southern Ocean\n",
    "errm <- errmid(flag=15, var1=ALK, var2=DIC, S=salt, T=temp, \n",
    "                   Patm=1, P=press, Pt=Phos, Sit=Sil,\n",
    "                   sigyspct, epK=epKstd,\n",
    "                   k1k2='l', kf='dg', ks=\"d\", pHscale=\"T\", b=\"u74\", gas=\"potential\", warn=\"n\")  \n",
    "sigm1_AtCt   <- data.frame(errm[1]) * 1e+6\n",
    "sigm2_AtCt   <- data.frame(errm[2]) * 1e+6"
   ]
  },
  {
   "cell_type": "markdown",
   "metadata": {},
   "source": [
    "## 4. Plot results: contours of calculated errors from input errors"
   ]
  },
  {
   "cell_type": "markdown",
   "metadata": {},
   "source": [
    "### 4.1 Create file 'prettyaxes.R' to beautify subsequent plots (call it in cell below)"
   ]
  },
  {
   "cell_type": "code",
   "execution_count": 12,
   "metadata": {
    "collapsed": false
   },
   "outputs": [],
   "source": [
    "cat(' box()\\n',\n",
    "    'axis(1,labels=FALSE, tcl=-0.35) ; axis(1, lwd=0, line=-0.4, labels=TRUE)\\n',\n",
    "    'axis(2,labels=FALSE,tcl=-0.35)  ; axis(2, lwd=0, line=-0.4, las=2, labels=TRUE)\\n',\n",
    "    'axis(3,labels=FALSE,tcl=-0.35) ; axis(4,labels=FALSE,tcl=-0.25)\\n',\n",
    "   file='prettyaxes.R')"
   ]
  },
  {
   "cell_type": "markdown",
   "metadata": {},
   "source": [
    "### 4.2 Function to strip NaNs and add a 0 at beginning of a vector"
   ]
  },
  {
   "cell_type": "code",
   "execution_count": 13,
   "metadata": {
    "collapsed": true
   },
   "outputs": [],
   "source": [
    "zenon <- function(x){\n",
    "       # Get rid of NaN's\n",
    "       x <- c(0.0, x[!is.na(x)]) \n",
    "       return(x)\n",
    "}"
   ]
  },
  {
   "cell_type": "markdown",
   "metadata": {},
   "source": [
    "### 4.3 Function to make plot"
   ]
  },
  {
   "cell_type": "code",
   "execution_count": 14,
   "metadata": {
    "collapsed": false
   },
   "outputs": [],
   "source": [
    "plterrcontour <- function(sigcritXa, sigcritYa, xlab, ylab, subtitle, xlim, ylim,\n",
    "                           sighpXa, sighpYa,\n",
    "                           sigmidXa, sigmidYa,\n",
    "                           sigsoaX, sigsoaY,\n",
    "                           x, y, za, levels1,\n",
    "                           methoda='flattest'){\n",
    "    \n",
    "#   Region 'a' is Southern Ocean  ;  Region 'b' is Tropics:\n",
    "    # 'contour' command must come after any 'plot', 'lines', or 'points' commands \n",
    "    plot (sigcritXa, sigcritYa, xlab=xlab, ylab=ylab, plot.title=title(main=subtitle),\n",
    "          xlim=xlim, ylim=ylim, col=\"black\", type='l', lwd=4, lty='solid',xaxt='n',yaxt='n',\n",
    "          cex.lab=1.4, ann=F, xaxs='r', yaxs='r')\n",
    "#   Plot critical point\n",
    "    if ( is.null(sighpXa) ) {\n",
    "        points(sigcritXa[11], sigcritYa[11], col=\"black\", cex=1.7, pch=19)\n",
    "    } else {\n",
    "        points(sighpXa, sighpYa, col=\"black\", cex=1.7, pch=19)\n",
    "    }    \n",
    "#   Plot mid-line (where e1 = e2 on each isoline [and between isolines])\n",
    "    lines(sigmidXa, sigmidYa, col=\"black\", lwd=1, lty='solid')\n",
    "#   symbols(x=sigcritXb[11], y=sigcritYb[11], circles=1, inches=1/3, ann=F, bg=\"steelblue2\", fg=NULL, add=TRUE)\n",
    "#   Plot point(s) at state-of-the-art (soa) for absolute error in each member of the input pair\n",
    "#   - pH has 2 points (random & overall error); other 3 input variables only have 1 point\n",
    "    points(sigsoaX, sigsoaY, col=\"black\", cex=1.7, pch=4)\n",
    "    axis(1,labels=TRUE, tcl=-0.35, cex.axis=1.3) \n",
    "    axis(2, tcl=-0.35, labels=FALSE, las=0) \n",
    "    title(xlab = xlab, cex.lab = 1.4, line = 2.9)\n",
    "    title(ylab = ylab, cex.lab = 1.4, line = 1.9)\n",
    "\n",
    "#   Add 2 colored text strings near origin to indicate the propagated error at the origin (from constants only)\n",
    "    a0 <- za[1,1]\n",
    "    if (a0 < 1) {ndiga <- 2} else {ndiga <- 3}\n",
    "    mtext( format(a0, digits=ndiga), side=1, line=2.5, at=0, srt=0,  cex=1.05, col='blue')\n",
    "\n",
    "#  'contour' command MUST come after any 'plot', 'lines', or 'points' commands \n",
    "#   For 'method', use 'simple, edge or flattest (flattest looks best but seems to fail often when lines are vertical)\n",
    "    contour(x, y , za, levels=levels1, method=methoda, col=\"blue\", lty=1, lwd=2, \n",
    "            yaxt='n', , labcex=1.0, add=TRUE)\n",
    "    axis(2, tcl=-0.35, labels=FALSE) \n",
    "\n",
    "    axis(2, tcl=-0.35, labels=FALSE, las=0) ; \n",
    "    axis(2, lwd=0, line=-0.4, las=2, labels=TRUE, cex.axis=1.4)\n",
    "    axis(3,labels=FALSE,tcl=-0.35) ; axis(4,labels=FALSE,tcl=-0.25)\n",
    "    done <- c('error contour plot')\n",
    "#return(NULL)\n",
    "}"
   ]
  },
  {
   "cell_type": "markdown",
   "metadata": {},
   "source": [
    "### 4.4 Error-space diagram of relative error in CO3  for At-Ct input pair\n",
    "\n",
    "Combine (1) contour plot of CO3 with (2) constants-pair curve, (3) balanced-pair line, ane (4) symbol indicating current state-of-the-art uncertainty."
   ]
  },
  {
   "cell_type": "code",
   "execution_count": 15,
   "metadata": {
    "collapsed": false
   },
   "outputs": [
    {
     "data": {
      "image/png": "[encoded data removed]",
      "image/svg+xml": [
       "<?xml version=\"1.0\" encoding=\"UTF-8\"?>\n",
       "<svg xmlns=\"http://www.w3.org/2000/svg\" xmlns:xlink=\"http://www.w3.org/1999/xlink\" width=\"504pt\" height=\"504pt\" viewBox=\"0 0 504 504\" version=\"1.1\">\n",
       "<defs>\n",
       "<g>\n",
       "<symbol overflow=\"visible\" id=\"glyph0-0\">\n",
       "<path style=\"stroke:none;\" d=\"\"/>\n",
       "</symbol>\n",
       "<symbol overflow=\"visible\" id=\"glyph0-1\">\n",
       "<path style=\"stroke:none;\" d=\"M 7.90625 -5.3125 C 7.90625 -9.15625 6.6875 -11.0625 4.28125 -11.0625 C 1.90625 -11.0625 0.671875 -9.125 0.671875 -5.40625 C 0.671875 -1.6875 1.921875 0.234375 4.28125 0.234375 C 6.625 0.234375 7.90625 -1.6875 7.90625 -5.3125 Z M 6.5 -5.4375 C 6.5 -2.3125 5.78125 -0.90625 4.25 -0.90625 C 2.8125 -0.90625 2.078125 -2.375 2.078125 -5.390625 C 2.078125 -8.421875 2.8125 -9.84375 4.28125 -9.84375 C 5.765625 -9.84375 6.5 -8.40625 6.5 -5.4375 Z \"/>\n",
       "</symbol>\n",
       "<symbol overflow=\"visible\" id=\"glyph0-2\">\n",
       "<path style=\"stroke:none;\" d=\"M 8 -3.671875 C 8 -5.84375 6.546875 -7.28125 4.421875 -7.28125 C 3.65625 -7.28125 3.03125 -7.078125 2.390625 -6.609375 L 2.828125 -9.46875 L 7.421875 -9.46875 L 7.421875 -10.828125 L 1.71875 -10.828125 L 0.890625 -5.03125 L 2.15625 -5.03125 C 2.796875 -5.796875 3.328125 -6.0625 4.171875 -6.0625 C 5.65625 -6.0625 6.59375 -5.109375 6.59375 -3.484375 C 6.59375 -1.890625 5.671875 -0.984375 4.171875 -0.984375 C 2.984375 -0.984375 2.25 -1.59375 1.921875 -2.84375 L 0.546875 -2.84375 C 1 -0.640625 2.25 0.234375 4.203125 0.234375 C 6.4375 0.234375 8 -1.328125 8 -3.671875 Z \"/>\n",
       "</symbol>\n",
       "<symbol overflow=\"visible\" id=\"glyph0-3\">\n",
       "<path style=\"stroke:none;\" d=\"M 5.40625 0 L 5.40625 -11.0625 L 4.5 -11.0625 C 4.015625 -9.359375 3.71875 -9.125 1.59375 -8.859375 L 1.59375 -7.875 L 4.03125 -7.875 L 4.03125 0 Z \"/>\n",
       "</symbol>\n",
       "<symbol overflow=\"visible\" id=\"glyph0-4\">\n",
       "<path style=\"stroke:none;\" d=\"M 7.96875 -7.8125 C 7.96875 -9.6875 6.515625 -11.0625 4.421875 -11.0625 C 2.171875 -11.0625 0.859375 -9.90625 0.78125 -7.21875 L 2.15625 -7.21875 C 2.265625 -9.078125 3.03125 -9.859375 4.375 -9.859375 C 5.625 -9.859375 6.5625 -8.96875 6.5625 -7.78125 C 6.5625 -6.90625 6.046875 -6.15625 5.0625 -5.59375 L 3.640625 -4.78125 C 1.328125 -3.484375 0.65625 -2.4375 0.53125 0 L 7.890625 0 L 7.890625 -1.359375 L 2.078125 -1.359375 C 2.21875 -2.265625 2.71875 -2.84375 4.0625 -3.640625 L 5.625 -4.46875 C 7.171875 -5.296875 7.96875 -6.453125 7.96875 -7.8125 Z \"/>\n",
       "</symbol>\n",
       "<symbol overflow=\"visible\" id=\"glyph1-0\">\n",
       "<path style=\"stroke:none;\" d=\"\"/>\n",
       "</symbol>\n",
       "<symbol overflow=\"visible\" id=\"glyph1-1\">\n",
       "<path style=\"stroke:none;\" d=\"M 9.875 -6.9375 L 9.875 -8.390625 L 6.0625 -8.390625 C 4.734375 -8.390625 3.828125 -8.25 3.0625 -7.90625 C 1.421875 -7.171875 0.5 -5.859375 0.5 -4.296875 C 0.5 -3.203125 0.921875 -2.09375 1.703125 -1.21875 C 2.5625 -0.21875 3.53125 0.21875 4.859375 0.21875 C 6 0.21875 6.96875 -0.140625 7.75 -0.828125 C 8.5 -1.515625 8.953125 -2.46875 8.953125 -3.375 C 8.953125 -4.65625 7.984375 -5.90625 6.203125 -6.9375 Z M 5.40625 -6.9375 C 6.859375 -5.4375 7.171875 -4.796875 7.171875 -3.421875 C 7.171875 -1.671875 6.328125 -0.5 5.09375 -0.5 C 3.546875 -0.5 2.265625 -2.203125 2.265625 -4.265625 C 2.265625 -5.875 3.3125 -6.9375 4.890625 -6.9375 Z \"/>\n",
       "</symbol>\n",
       "<symbol overflow=\"visible\" id=\"glyph1-2\">\n",
       "<path style=\"stroke:none;\" d=\"M 7.421875 -8.390625 L 5.921875 -8.390625 L 5.953125 -2.203125 C 5.34375 -1.34375 4.765625 -0.96875 4.0625 -0.96875 C 3.09375 -0.96875 2.515625 -1.65625 2.515625 -2.84375 L 2.515625 -8.390625 L 1.046875 -8.390625 L 1.046875 -0.328125 C 1.046875 0.015625 0.96875 0.4375 0.859375 0.9375 C 0.578125 1.984375 0.546875 2.078125 0.546875 2.46875 C 0.546875 3.171875 0.90625 3.671875 1.390625 3.671875 C 1.875 3.671875 2.21875 3.171875 2.21875 2.4375 C 2.21875 2.078125 2.171875 1.859375 1.890625 0.890625 C 1.734375 0.28125 1.703125 0.125 1.703125 -0.359375 L 1.703125 -0.546875 C 2.40625 0.03125 2.78125 0.21875 3.359375 0.21875 C 4.203125 0.21875 5.0625 -0.296875 5.953125 -1.34375 C 6.078125 -0.8125 6.171875 -0.609375 6.328125 -0.359375 C 6.578125 0 7.03125 0.21875 7.53125 0.21875 C 8.5625 0.21875 9.28125 -0.515625 9.53125 -1.8125 L 9.0625 -1.828125 C 9 -1.1875 8.65625 -0.6875 8.265625 -0.6875 C 7.765625 -0.6875 7.421875 -1.296875 7.421875 -2.203125 Z \"/>\n",
       "</symbol>\n",
       "<symbol overflow=\"visible\" id=\"glyph2-0\">\n",
       "<path style=\"stroke:none;\" d=\"\"/>\n",
       "</symbol>\n",
       "<symbol overflow=\"visible\" id=\"glyph2-1\">\n",
       "<path style=\"stroke:none;\" d=\"M 8.0625 -3.125 L 6.90625 -3.125 C 6.171875 -1.453125 5.421875 -0.734375 3.90625 -0.734375 C 2.6875 -0.734375 1.875 -1.6875 1.875 -3.125 C 1.875 -4.1875 2.21875 -5.375 2.828125 -6.265625 C 3.546875 -7.328125 4.40625 -7.84375 5.484375 -7.84375 C 6.671875 -7.84375 7.25 -7.1875 7.34375 -5.921875 L 8.46875 -5.921875 C 8.375 -7.84375 7.3125 -8.78125 5.6875 -8.78125 C 4.3125 -8.78125 3.171875 -8.234375 2.25 -7.125 C 1.3125 -6.015625 0.734375 -4.375 0.734375 -2.90625 C 0.734375 -1.03125 1.859375 0.21875 3.734375 0.21875 C 5.8125 0.21875 7.0625 -0.75 8.0625 -3.125 Z \"/>\n",
       "</symbol>\n",
       "<symbol overflow=\"visible\" id=\"glyph3-0\">\n",
       "<path style=\"stroke:none;\" d=\"\"/>\n",
       "</symbol>\n",
       "<symbol overflow=\"visible\" id=\"glyph3-1\">\n",
       "<path style=\"stroke:none;\" d=\"M 4.984375 -5.4375 L 4.984375 -6.125 L 0.171875 -6.125 L 0.171875 -5.4375 L 2.1875 -5.4375 L 2.1875 0 L 2.96875 0 L 2.96875 -5.4375 Z \"/>\n",
       "</symbol>\n",
       "<symbol overflow=\"visible\" id=\"glyph4-0\">\n",
       "<path style=\"stroke:none;\" d=\"\"/>\n",
       "</symbol>\n",
       "<symbol overflow=\"visible\" id=\"glyph4-1\">\n",
       "<path style=\"stroke:none;\" d=\"\"/>\n",
       "</symbol>\n",
       "<symbol overflow=\"visible\" id=\"glyph4-2\">\n",
       "<path style=\"stroke:none;\" d=\"M 4.890625 3.5625 C 3.40625 1.15625 2.59375 -1.65625 2.59375 -4.34375 C 2.59375 -7.015625 3.40625 -9.859375 4.890625 -12.25 L 3.96875 -12.25 C 2.28125 -10.046875 1.21875 -6.984375 1.21875 -4.34375 C 1.21875 -1.703125 2.28125 1.359375 3.96875 3.5625 Z \"/>\n",
       "</symbol>\n",
       "<symbol overflow=\"visible\" id=\"glyph4-3\">\n",
       "<path style=\"stroke:none;\" d=\"M 12.765625 0 L 12.765625 -6.59375 C 12.765625 -8.1875 11.890625 -9.046875 10.25 -9.046875 C 9.0625 -9.046875 8.359375 -8.703125 7.546875 -7.703125 C 7.015625 -8.65625 6.3125 -9.046875 5.171875 -9.046875 C 4 -9.046875 3.21875 -8.609375 2.46875 -7.5625 L 2.46875 -8.796875 L 1.1875 -8.796875 L 1.1875 0 L 2.59375 0 L 2.59375 -5.53125 C 2.59375 -6.796875 3.515625 -7.828125 4.65625 -7.828125 C 5.6875 -7.828125 6.28125 -7.1875 6.28125 -6.0625 L 6.28125 0 L 7.671875 0 L 7.671875 -5.53125 C 7.671875 -6.796875 8.609375 -7.828125 9.765625 -7.828125 C 10.78125 -7.828125 11.375 -7.171875 11.375 -6.0625 L 11.375 0 Z \"/>\n",
       "</symbol>\n",
       "<symbol overflow=\"visible\" id=\"glyph4-4\">\n",
       "<path style=\"stroke:none;\" d=\"M 8.5625 -4.328125 C 8.5625 -7.375 7.109375 -9.046875 4.5625 -9.046875 C 2.09375 -9.046875 0.609375 -7.359375 0.609375 -4.40625 C 0.609375 -1.4375 2.078125 0.25 4.578125 0.25 C 7.046875 0.25 8.5625 -1.4375 8.5625 -4.328125 Z M 7.109375 -4.34375 C 7.109375 -2.28125 6.125 -1.046875 4.578125 -1.046875 C 3.015625 -1.046875 2.0625 -2.265625 2.0625 -4.40625 C 2.0625 -6.515625 3.015625 -7.765625 4.578125 -7.765625 C 6.171875 -7.765625 7.109375 -6.53125 7.109375 -4.34375 Z \"/>\n",
       "</symbol>\n",
       "<symbol overflow=\"visible\" id=\"glyph4-5\">\n",
       "<path style=\"stroke:none;\" d=\"M 2.53125 0 L 2.53125 -12.25 L 1.140625 -12.25 L 1.140625 0 Z \"/>\n",
       "</symbol>\n",
       "<symbol overflow=\"visible\" id=\"glyph4-6\">\n",
       "<path style=\"stroke:none;\" d=\"M 8.4375 0 L 4.84375 -5.765625 L 7.890625 -8.796875 L 6.09375 -8.796875 L 2.375 -5.078125 L 2.375 -12.25 L 0.96875 -12.25 L 0.96875 0 L 2.375 0 L 2.375 -3.421875 L 3.734375 -4.765625 L 6.703125 0 Z \"/>\n",
       "</symbol>\n",
       "<symbol overflow=\"visible\" id=\"glyph4-7\">\n",
       "<path style=\"stroke:none;\" d=\"M 8.21875 -1.4375 L 8.21875 -8.796875 L 6.921875 -8.796875 L 6.921875 -7.53125 C 6.21875 -8.5625 5.359375 -9.046875 4.234375 -9.046875 C 2 -9.046875 0.484375 -7.171875 0.484375 -4.3125 C 0.484375 -1.546875 2.046875 0.25 4.109375 0.25 C 5.21875 0.25 6 -0.21875 6.921875 -1.328125 L 6.921875 -0.734375 C 6.921875 1.59375 5.96875 2.484375 4.328125 2.484375 C 3.21875 2.484375 2.375 2.078125 2.203125 1 L 0.765625 1 C 0.921875 2.671875 2.21875 3.65625 4.28125 3.65625 C 7.03125 3.65625 8.21875 2.4375 8.21875 -1.4375 Z M 6.78125 -4.34375 C 6.78125 -2.25 5.875 -1.046875 4.40625 -1.046875 C 2.875 -1.046875 1.953125 -2.265625 1.953125 -4.40625 C 1.953125 -6.515625 2.890625 -7.765625 4.390625 -7.765625 C 5.890625 -7.765625 6.78125 -6.484375 6.78125 -4.34375 Z \"/>\n",
       "</symbol>\n",
       "<symbol overflow=\"visible\" id=\"glyph4-8\">\n",
       "<path style=\"stroke:none;\" d=\"M 4.296875 -4.328125 C 4.296875 -6.984375 3.234375 -10.046875 1.5625 -12.25 L 0.640625 -12.25 C 2.109375 -9.84375 2.9375 -7.015625 2.9375 -4.328125 C 2.9375 -1.65625 2.109375 1.171875 0.640625 3.5625 L 1.5625 3.5625 C 3.234375 1.359375 4.296875 -1.703125 4.296875 -4.328125 Z \"/>\n",
       "</symbol>\n",
       "<symbol overflow=\"visible\" id=\"glyph4-9\">\n",
       "<path style=\"stroke:none;\" d=\"M 8.515625 -5.734375 C 8.515625 -9.859375 7.203125 -11.90625 4.625 -11.90625 C 2.046875 -11.90625 0.71875 -9.828125 0.71875 -5.828125 C 0.71875 -1.8125 2.0625 0.25 4.625 0.25 C 7.140625 0.25 8.515625 -1.8125 8.515625 -5.734375 Z M 7 -5.859375 C 7 -2.484375 6.234375 -0.96875 4.578125 -0.96875 C 3.015625 -0.96875 2.234375 -2.546875 2.234375 -5.8125 C 2.234375 -9.0625 3.015625 -10.59375 4.625 -10.59375 C 6.21875 -10.59375 7 -9.046875 7 -5.859375 Z \"/>\n",
       "</symbol>\n",
       "<symbol overflow=\"visible\" id=\"glyph4-10\">\n",
       "<path style=\"stroke:none;\" d=\"M 8.609375 -3.953125 C 8.609375 -6.296875 7.046875 -7.84375 4.765625 -7.84375 C 3.9375 -7.84375 3.265625 -7.625 2.5625 -7.125 L 3.046875 -10.203125 L 8 -10.203125 L 8 -11.65625 L 1.84375 -11.65625 L 0.953125 -5.421875 L 2.3125 -5.421875 C 3 -6.25 3.578125 -6.53125 4.5 -6.53125 C 6.09375 -6.53125 7.109375 -5.515625 7.109375 -3.75 C 7.109375 -2.03125 6.109375 -1.0625 4.5 -1.0625 C 3.203125 -1.0625 2.421875 -1.71875 2.0625 -3.0625 L 0.59375 -3.0625 C 1.078125 -0.6875 2.421875 0.25 4.53125 0.25 C 6.9375 0.25 8.609375 -1.421875 8.609375 -3.953125 Z \"/>\n",
       "</symbol>\n",
       "<symbol overflow=\"visible\" id=\"glyph4-11\">\n",
       "<path style=\"stroke:none;\" d=\"M 5.828125 0 L 5.828125 -11.90625 L 4.859375 -11.90625 C 4.328125 -10.078125 4 -9.828125 1.71875 -9.546875 L 1.71875 -8.484375 L 4.34375 -8.484375 L 4.34375 0 Z \"/>\n",
       "</symbol>\n",
       "<symbol overflow=\"visible\" id=\"glyph4-12\">\n",
       "<path style=\"stroke:none;\" d=\"M 8.578125 -8.421875 C 8.578125 -10.4375 7.015625 -11.90625 4.765625 -11.90625 C 2.328125 -11.90625 0.921875 -10.671875 0.84375 -7.78125 L 2.3125 -7.78125 C 2.4375 -9.78125 3.265625 -10.609375 4.71875 -10.609375 C 6.0625 -10.609375 7.078125 -9.65625 7.078125 -8.375 C 7.078125 -7.4375 6.515625 -6.640625 5.453125 -6.03125 L 3.90625 -5.15625 C 1.421875 -3.75 0.703125 -2.625 0.578125 0 L 8.5 0 L 8.5 -1.46875 L 2.234375 -1.46875 C 2.390625 -2.4375 2.921875 -3.0625 4.390625 -3.90625 L 6.0625 -4.828125 C 7.71875 -5.703125 8.578125 -6.953125 8.578125 -8.421875 Z \"/>\n",
       "</symbol>\n",
       "<symbol overflow=\"visible\" id=\"glyph5-0\">\n",
       "<path style=\"stroke:none;\" d=\"\"/>\n",
       "</symbol>\n",
       "<symbol overflow=\"visible\" id=\"glyph5-1\">\n",
       "<path style=\"stroke:none;\" d=\"M 0.125 -3.453125 L 0.125 -2.8125 L 6.296875 -2.8125 L 6.296875 -3.453125 Z \"/>\n",
       "</symbol>\n",
       "<symbol overflow=\"visible\" id=\"glyph6-0\">\n",
       "<path style=\"stroke:none;\" d=\"\"/>\n",
       "</symbol>\n",
       "<symbol overflow=\"visible\" id=\"glyph6-1\">\n",
       "<path style=\"stroke:none;\" d=\"M 4.078125 0 L 4.078125 -8.34375 L 3.40625 -8.34375 C 3.03125 -7.0625 2.796875 -6.890625 1.203125 -6.6875 L 1.203125 -5.9375 L 3.046875 -5.9375 L 3.046875 0 Z \"/>\n",
       "</symbol>\n",
       "<symbol overflow=\"visible\" id=\"glyph7-0\">\n",
       "<path style=\"stroke:none;\" d=\"\"/>\n",
       "</symbol>\n",
       "<symbol overflow=\"visible\" id=\"glyph7-1\">\n",
       "<path style=\"stroke:none;\" d=\"M -6.9375 -9.875 L -8.390625 -9.875 L -8.390625 -6.0625 C -8.390625 -4.734375 -8.25 -3.828125 -7.90625 -3.0625 C -7.171875 -1.421875 -5.859375 -0.5 -4.296875 -0.5 C -3.203125 -0.5 -2.09375 -0.921875 -1.21875 -1.703125 C -0.21875 -2.5625 0.21875 -3.53125 0.21875 -4.859375 C 0.21875 -6 -0.140625 -6.96875 -0.828125 -7.75 C -1.515625 -8.5 -2.46875 -8.953125 -3.375 -8.953125 C -4.65625 -8.953125 -5.90625 -7.984375 -6.9375 -6.203125 Z M -6.9375 -5.40625 C -5.4375 -6.859375 -4.796875 -7.171875 -3.421875 -7.171875 C -1.671875 -7.171875 -0.5 -6.328125 -0.5 -5.09375 C -0.5 -3.546875 -2.203125 -2.265625 -4.265625 -2.265625 C -5.875 -2.265625 -6.9375 -3.3125 -6.9375 -4.890625 Z \"/>\n",
       "</symbol>\n",
       "<symbol overflow=\"visible\" id=\"glyph7-2\">\n",
       "<path style=\"stroke:none;\" d=\"M -8.390625 -7.421875 L -8.390625 -5.921875 L -2.203125 -5.953125 C -1.34375 -5.34375 -0.96875 -4.765625 -0.96875 -4.0625 C -0.96875 -3.09375 -1.65625 -2.515625 -2.84375 -2.515625 L -8.390625 -2.515625 L -8.390625 -1.046875 L -0.328125 -1.046875 C 0.015625 -1.046875 0.4375 -0.96875 0.9375 -0.859375 C 1.984375 -0.578125 2.078125 -0.546875 2.46875 -0.546875 C 3.171875 -0.546875 3.671875 -0.90625 3.671875 -1.390625 C 3.671875 -1.875 3.171875 -2.21875 2.4375 -2.21875 C 2.078125 -2.21875 1.859375 -2.171875 0.890625 -1.890625 C 0.28125 -1.734375 0.125 -1.703125 -0.359375 -1.703125 L -0.546875 -1.703125 C 0.03125 -2.40625 0.21875 -2.78125 0.21875 -3.359375 C 0.21875 -4.203125 -0.296875 -5.0625 -1.34375 -5.953125 C -0.8125 -6.078125 -0.609375 -6.171875 -0.359375 -6.328125 C 0 -6.578125 0.21875 -7.03125 0.21875 -7.53125 C 0.21875 -8.5625 -0.515625 -9.28125 -1.8125 -9.53125 L -1.828125 -9.0625 C -1.1875 -9 -0.6875 -8.65625 -0.6875 -8.265625 C -0.6875 -7.765625 -1.296875 -7.421875 -2.203125 -7.421875 Z \"/>\n",
       "</symbol>\n",
       "<symbol overflow=\"visible\" id=\"glyph8-0\">\n",
       "<path style=\"stroke:none;\" d=\"\"/>\n",
       "</symbol>\n",
       "<symbol overflow=\"visible\" id=\"glyph8-1\">\n",
       "<path style=\"stroke:none;\" d=\"M 0 -7.09375 L -8.578125 -5.90625 L -8.578125 -4.5 L 0 0.390625 L 0 -0.78125 L -2.578125 -2.21875 L -2.578125 -5.578125 L 0 -5.890625 Z M -3.5 -5.453125 L -3.5 -2.734375 L -7.40625 -4.984375 Z \"/>\n",
       "</symbol>\n",
       "<symbol overflow=\"visible\" id=\"glyph9-0\">\n",
       "<path style=\"stroke:none;\" d=\"\"/>\n",
       "</symbol>\n",
       "<symbol overflow=\"visible\" id=\"glyph9-1\">\n",
       "<path style=\"stroke:none;\" d=\"M -5.4375 -4.984375 L -6.125 -4.984375 L -6.125 -0.171875 L -5.4375 -0.171875 L -5.4375 -2.1875 L 0 -2.1875 L 0 -2.96875 L -5.4375 -2.96875 Z \"/>\n",
       "</symbol>\n",
       "<symbol overflow=\"visible\" id=\"glyph10-0\">\n",
       "<path style=\"stroke:none;\" d=\"\"/>\n",
       "</symbol>\n",
       "<symbol overflow=\"visible\" id=\"glyph10-1\">\n",
       "<path style=\"stroke:none;\" d=\"\"/>\n",
       "</symbol>\n",
       "<symbol overflow=\"visible\" id=\"glyph10-2\">\n",
       "<path style=\"stroke:none;\" d=\"M 3.5625 -4.890625 C 1.15625 -3.40625 -1.65625 -2.59375 -4.34375 -2.59375 C -7.015625 -2.59375 -9.859375 -3.40625 -12.25 -4.890625 L -12.25 -3.96875 C -10.046875 -2.28125 -6.984375 -1.21875 -4.34375 -1.21875 C -1.703125 -1.21875 1.359375 -2.28125 3.5625 -3.96875 Z \"/>\n",
       "</symbol>\n",
       "<symbol overflow=\"visible\" id=\"glyph10-3\">\n",
       "<path style=\"stroke:none;\" d=\"M 0 -12.765625 L -6.59375 -12.765625 C -8.1875 -12.765625 -9.046875 -11.890625 -9.046875 -10.25 C -9.046875 -9.0625 -8.703125 -8.359375 -7.703125 -7.546875 C -8.65625 -7.015625 -9.046875 -6.3125 -9.046875 -5.171875 C -9.046875 -4 -8.609375 -3.21875 -7.5625 -2.46875 L -8.796875 -2.46875 L -8.796875 -1.1875 L 0 -1.1875 L 0 -2.59375 L -5.53125 -2.59375 C -6.796875 -2.59375 -7.828125 -3.515625 -7.828125 -4.65625 C -7.828125 -5.6875 -7.1875 -6.28125 -6.0625 -6.28125 L 0 -6.28125 L 0 -7.671875 L -5.53125 -7.671875 C -6.796875 -7.671875 -7.828125 -8.609375 -7.828125 -9.765625 C -7.828125 -10.78125 -7.171875 -11.375 -6.0625 -11.375 L 0 -11.375 Z \"/>\n",
       "</symbol>\n",
       "<symbol overflow=\"visible\" id=\"glyph10-4\">\n",
       "<path style=\"stroke:none;\" d=\"M -4.328125 -8.5625 C -7.375 -8.5625 -9.046875 -7.109375 -9.046875 -4.5625 C -9.046875 -2.09375 -7.359375 -0.609375 -4.40625 -0.609375 C -1.4375 -0.609375 0.25 -2.078125 0.25 -4.578125 C 0.25 -7.046875 -1.4375 -8.5625 -4.328125 -8.5625 Z M -4.34375 -7.109375 C -2.28125 -7.109375 -1.046875 -6.125 -1.046875 -4.578125 C -1.046875 -3.015625 -2.265625 -2.0625 -4.40625 -2.0625 C -6.515625 -2.0625 -7.765625 -3.015625 -7.765625 -4.578125 C -7.765625 -6.171875 -6.53125 -7.109375 -4.34375 -7.109375 Z \"/>\n",
       "</symbol>\n",
       "<symbol overflow=\"visible\" id=\"glyph10-5\">\n",
       "<path style=\"stroke:none;\" d=\"M 0 -2.53125 L -12.25 -2.53125 L -12.25 -1.140625 L 0 -1.140625 Z \"/>\n",
       "</symbol>\n",
       "<symbol overflow=\"visible\" id=\"glyph10-6\">\n",
       "<path style=\"stroke:none;\" d=\"M 0 -8.4375 L -5.765625 -4.84375 L -8.796875 -7.890625 L -8.796875 -6.09375 L -5.078125 -2.375 L -12.25 -2.375 L -12.25 -0.96875 L 0 -0.96875 L 0 -2.375 L -3.421875 -2.375 L -4.765625 -3.734375 L 0 -6.703125 Z \"/>\n",
       "</symbol>\n",
       "<symbol overflow=\"visible\" id=\"glyph10-7\">\n",
       "<path style=\"stroke:none;\" d=\"M -1.4375 -8.21875 L -8.796875 -8.21875 L -8.796875 -6.921875 L -7.53125 -6.921875 C -8.5625 -6.21875 -9.046875 -5.359375 -9.046875 -4.234375 C -9.046875 -2 -7.171875 -0.484375 -4.3125 -0.484375 C -1.546875 -0.484375 0.25 -2.046875 0.25 -4.109375 C 0.25 -5.21875 -0.21875 -6 -1.328125 -6.921875 L -0.734375 -6.921875 C 1.59375 -6.921875 2.484375 -5.96875 2.484375 -4.328125 C 2.484375 -3.21875 2.078125 -2.375 1 -2.203125 L 1 -0.765625 C 2.671875 -0.921875 3.65625 -2.21875 3.65625 -4.28125 C 3.65625 -7.03125 2.4375 -8.21875 -1.4375 -8.21875 Z M -4.34375 -6.78125 C -2.25 -6.78125 -1.046875 -5.875 -1.046875 -4.40625 C -1.046875 -2.875 -2.265625 -1.953125 -4.40625 -1.953125 C -6.515625 -1.953125 -7.765625 -2.890625 -7.765625 -4.390625 C -7.765625 -5.890625 -6.484375 -6.78125 -4.34375 -6.78125 Z \"/>\n",
       "</symbol>\n",
       "<symbol overflow=\"visible\" id=\"glyph10-8\">\n",
       "<path style=\"stroke:none;\" d=\"M -4.328125 -4.296875 C -6.984375 -4.296875 -10.046875 -3.234375 -12.25 -1.5625 L -12.25 -0.640625 C -9.84375 -2.109375 -7.015625 -2.9375 -4.328125 -2.9375 C -1.65625 -2.9375 1.171875 -2.109375 3.5625 -0.640625 L 3.5625 -1.5625 C 1.359375 -3.234375 -1.703125 -4.296875 -4.328125 -4.296875 Z \"/>\n",
       "</symbol>\n",
       "<symbol overflow=\"visible\" id=\"glyph11-0\">\n",
       "<path style=\"stroke:none;\" d=\"\"/>\n",
       "</symbol>\n",
       "<symbol overflow=\"visible\" id=\"glyph11-1\">\n",
       "<path style=\"stroke:none;\" d=\"M -3.453125 -0.125 L -2.8125 -0.125 L -2.8125 -6.296875 L -3.453125 -6.296875 Z \"/>\n",
       "</symbol>\n",
       "<symbol overflow=\"visible\" id=\"glyph12-0\">\n",
       "<path style=\"stroke:none;\" d=\"\"/>\n",
       "</symbol>\n",
       "<symbol overflow=\"visible\" id=\"glyph12-1\">\n",
       "<path style=\"stroke:none;\" d=\"M 0 -4.078125 L -8.34375 -4.078125 L -8.34375 -3.40625 C -7.0625 -3.03125 -6.890625 -2.796875 -6.6875 -1.203125 L -5.9375 -1.203125 L -5.9375 -3.046875 L 0 -3.046875 Z \"/>\n",
       "</symbol>\n",
       "<symbol overflow=\"visible\" id=\"glyph13-0\">\n",
       "<path style=\"stroke:none;\" d=\"\"/>\n",
       "</symbol>\n",
       "<symbol overflow=\"visible\" id=\"glyph13-1\">\n",
       "<path style=\"stroke:none;\" d=\"M 6.4375 -6.3125 C 6.4375 -7.828125 5.265625 -8.921875 3.578125 -8.921875 C 1.75 -8.921875 0.6875 -8 0.625 -5.828125 L 1.734375 -5.828125 C 1.828125 -7.328125 2.4375 -7.953125 3.53125 -7.953125 C 4.546875 -7.953125 5.296875 -7.234375 5.296875 -6.28125 C 5.296875 -5.578125 4.890625 -4.96875 4.09375 -4.515625 L 2.9375 -3.859375 C 1.078125 -2.8125 0.53125 -1.96875 0.421875 0 L 6.375 0 L 6.375 -1.09375 L 1.671875 -1.09375 C 1.78125 -1.828125 2.1875 -2.296875 3.28125 -2.9375 L 4.546875 -3.609375 C 5.796875 -4.28125 6.4375 -5.21875 6.4375 -6.3125 Z \"/>\n",
       "</symbol>\n",
       "<symbol overflow=\"visible\" id=\"glyph13-2\">\n",
       "<path style=\"stroke:none;\" d=\"M 2.40625 0 L 2.40625 -1.3125 L 1.09375 -1.3125 L 1.09375 0 Z \"/>\n",
       "</symbol>\n",
       "<symbol overflow=\"visible\" id=\"glyph13-3\">\n",
       "<path style=\"stroke:none;\" d=\"M 6.546875 -7.8125 L 6.546875 -8.734375 L 0.578125 -8.734375 L 0.578125 -7.640625 L 5.40625 -7.640625 C 3.625 -5.40625 2.375 -2.796875 1.734375 0 L 2.921875 0 C 3.40625 -2.890625 4.671875 -5.578125 6.546875 -7.8125 Z \"/>\n",
       "</symbol>\n",
       "<symbol overflow=\"visible\" id=\"glyph13-4\">\n",
       "<path style=\"stroke:none;\" d=\"M 6.40625 -4.671875 C 6.40625 -7.46875 5.4375 -8.921875 3.40625 -8.921875 C 1.703125 -8.921875 0.484375 -7.71875 0.484375 -5.96875 C 0.484375 -4.3125 1.609375 -3.1875 3.21875 -3.1875 C 4.0625 -3.1875 4.6875 -3.484375 5.265625 -4.1875 C 5.25 -2 4.546875 -0.796875 3.28125 -0.796875 C 2.5 -0.796875 1.953125 -1.28125 1.78125 -2.140625 L 0.671875 -2.140625 C 0.875 -0.6875 1.84375 0.1875 3.203125 0.1875 C 5.296875 0.1875 6.40625 -1.59375 6.40625 -4.671875 Z M 5.203125 -6 C 5.203125 -4.90625 4.4375 -4.171875 3.34375 -4.171875 C 2.28125 -4.171875 1.609375 -4.859375 1.609375 -6.0625 C 1.609375 -7.1875 2.375 -7.953125 3.390625 -7.953125 C 4.421875 -7.953125 5.203125 -7.15625 5.203125 -6 Z \"/>\n",
       "</symbol>\n",
       "<symbol overflow=\"visible\" id=\"glyph14-0\">\n",
       "<path style=\"stroke:none;\" d=\"\"/>\n",
       "</symbol>\n",
       "<symbol overflow=\"visible\" id=\"glyph14-1\">\n",
       "<path style=\"stroke:none;\" d=\"\"/>\n",
       "</symbol>\n",
       "<symbol overflow=\"visible\" id=\"glyph14-2\">\n",
       "<path style=\"stroke:none;\" d=\"M 2.6875 5.984375 L 3.625 5.890625 L 3.5 4.640625 L 9 4.0625 L 8.90625 3.28125 L 3.171875 0.015625 L 2.0625 0.125 L 2.4375 3.6875 L 0.40625 3.90625 L 0.53125 4.953125 L 2.5625 4.734375 Z M 3.375 3.59375 L 3.109375 0.953125 L 7.078125 3.203125 Z \"/>\n",
       "</symbol>\n",
       "<symbol overflow=\"visible\" id=\"glyph15-0\">\n",
       "<path style=\"stroke:none;\" d=\"\"/>\n",
       "</symbol>\n",
       "<symbol overflow=\"visible\" id=\"glyph15-1\">\n",
       "<path style=\"stroke:none;\" d=\"\"/>\n",
       "</symbol>\n",
       "<symbol overflow=\"visible\" id=\"glyph15-2\">\n",
       "<path style=\"stroke:none;\" d=\"M 6.28125 -2.359375 C 6.359375 -3.9375 5.328125 -5.0625 3.796875 -5.125 C 2.96875 -5.171875 2.28125 -4.875 1.796875 -4.265625 C 1.90625 -6.34375 2.640625 -7.453125 3.84375 -7.40625 C 4.59375 -7.359375 5.078125 -6.890625 5.21875 -6.046875 L 6.265625 -6 C 6.125 -7.40625 5.25 -8.28125 3.953125 -8.328125 C 1.96875 -8.421875 0.828125 -6.8125 0.703125 -3.84375 C 0.578125 -1.1875 1.40625 0.25 3.359375 0.34375 C 4.96875 0.421875 6.203125 -0.6875 6.28125 -2.359375 Z M 5.203125 -2.328125 C 5.140625 -1.25 4.390625 -0.546875 3.421875 -0.59375 C 2.4375 -0.640625 1.734375 -1.453125 1.78125 -2.53125 C 1.828125 -3.59375 2.578125 -4.25 3.625 -4.203125 C 4.640625 -4.15625 5.25 -3.46875 5.203125 -2.328125 Z \"/>\n",
       "</symbol>\n",
       "<symbol overflow=\"visible\" id=\"glyph16-0\">\n",
       "<path style=\"stroke:none;\" d=\"\"/>\n",
       "</symbol>\n",
       "<symbol overflow=\"visible\" id=\"glyph16-1\">\n",
       "<path style=\"stroke:none;\" d=\"\"/>\n",
       "</symbol>\n",
       "<symbol overflow=\"visible\" id=\"glyph16-2\">\n",
       "<path style=\"stroke:none;\" d=\"M 6.234375 -2.203125 C 6.265625 -3.140625 5.796875 -3.828125 4.828125 -4.3125 C 5.734375 -4.8125 6.03125 -5.25 6.0625 -6.046875 C 6.109375 -7.390625 5.09375 -8.359375 3.578125 -8.40625 C 2.078125 -8.453125 1 -7.546875 0.953125 -6.203125 C 0.921875 -5.421875 1.203125 -4.984375 2.03125 -4.40625 C 1.046875 -3.984375 0.546875 -3.328125 0.515625 -2.390625 C 0.46875 -0.84375 1.625 0.234375 3.296875 0.296875 C 4.984375 0.34375 6.1875 -0.65625 6.234375 -2.203125 Z M 4.984375 -6.0625 C 4.953125 -5.265625 4.34375 -4.75 3.453125 -4.78125 C 2.5625 -4.8125 2 -5.359375 2.03125 -6.171875 C 2.0625 -6.984375 2.65625 -7.5 3.546875 -7.46875 C 4.453125 -7.4375 5.015625 -6.890625 4.984375 -6.0625 Z M 5.15625 -2.21875 C 5.125 -1.203125 4.390625 -0.609375 3.3125 -0.640625 C 2.28125 -0.671875 1.578125 -1.34375 1.609375 -2.34375 C 1.640625 -3.34375 2.375 -3.9375 3.421875 -3.90625 C 4.484375 -3.875 5.1875 -3.21875 5.15625 -2.21875 Z \"/>\n",
       "</symbol>\n",
       "<symbol overflow=\"visible\" id=\"glyph17-0\">\n",
       "<path style=\"stroke:none;\" d=\"\"/>\n",
       "</symbol>\n",
       "<symbol overflow=\"visible\" id=\"glyph17-1\">\n",
       "<path style=\"stroke:none;\" d=\"\"/>\n",
       "</symbol>\n",
       "<symbol overflow=\"visible\" id=\"glyph17-2\">\n",
       "<path style=\"stroke:none;\" d=\"M 3.828125 1.625 L 7.15625 -6.21875 L 6.515625 -6.484375 C 5.65625 -5.421875 5.375 -5.328125 3.796875 -5.78125 L 3.5 -5.09375 L 5.234375 -4.359375 L 2.859375 1.21875 Z \"/>\n",
       "</symbol>\n",
       "<symbol overflow=\"visible\" id=\"glyph17-3\">\n",
       "<path style=\"stroke:none;\" d=\"M 7.203125 -1.390625 C 8.359375 -4.109375 8.0625 -5.828125 6.359375 -6.546875 C 4.6875 -7.265625 3.21875 -6.25 2.09375 -3.625 C 0.96875 -0.984375 1.28125 0.75 2.953125 1.46875 C 4.609375 2.171875 6.09375 1.1875 7.203125 -1.390625 Z M 6.234375 -1.90625 C 5.296875 0.3125 4.375 1.109375 3.296875 0.640625 C 2.265625 0.203125 2.1875 -1.0625 3.09375 -3.203125 C 4 -5.34375 4.953125 -6.125 6 -5.671875 C 7.046875 -5.234375 7.125 -4 6.234375 -1.90625 Z \"/>\n",
       "</symbol>\n",
       "<symbol overflow=\"visible\" id=\"glyph18-0\">\n",
       "<path style=\"stroke:none;\" d=\"\"/>\n",
       "</symbol>\n",
       "<symbol overflow=\"visible\" id=\"glyph18-1\">\n",
       "<path style=\"stroke:none;\" d=\"\"/>\n",
       "</symbol>\n",
       "<symbol overflow=\"visible\" id=\"glyph18-2\">\n",
       "<path style=\"stroke:none;\" d=\"M 2.25 3.484375 L 9.40625 -1.140625 L 9.046875 -1.71875 C 7.734375 -1.3125 7.4375 -1.40625 6.375 -2.6875 L 5.75 -2.28125 L 6.78125 -0.6875 L 1.6875 2.609375 Z \"/>\n",
       "</symbol>\n",
       "<symbol overflow=\"visible\" id=\"glyph18-3\">\n",
       "<path style=\"stroke:none;\" d=\"M 8.375 1.875 C 9.578125 1.09375 9.875 -0.40625 9 -1.765625 C 8.0625 -3.21875 6.765625 -3.59375 5 -2.515625 L 5.578125 -1.625 C 6.796875 -2.34375 7.625 -2.15625 8.1875 -1.28125 C 8.703125 -0.46875 8.53125 0.484375 7.765625 0.984375 C 7.1875 1.34375 6.5 1.328125 5.75 0.9375 L 4.609375 0.34375 C 2.796875 -0.59375 1.84375 -0.59375 0.21875 0.34375 L 3.296875 5.109375 L 4.171875 4.546875 L 1.734375 0.78125 C 2.375 0.5 2.984375 0.578125 4.046875 1.109375 L 5.234375 1.765625 C 6.421875 2.40625 7.5 2.4375 8.375 1.875 Z \"/>\n",
       "</symbol>\n",
       "<symbol overflow=\"visible\" id=\"glyph19-0\">\n",
       "<path style=\"stroke:none;\" d=\"\"/>\n",
       "</symbol>\n",
       "<symbol overflow=\"visible\" id=\"glyph19-1\">\n",
       "<path style=\"stroke:none;\" d=\"\"/>\n",
       "</symbol>\n",
       "<symbol overflow=\"visible\" id=\"glyph19-2\">\n",
       "<path style=\"stroke:none;\" d=\"M 2.796875 3.078125 L 9.09375 -2.640625 L 8.625 -3.15625 C 7.40625 -2.546875 7.109375 -2.609375 5.859375 -3.671875 L 5.296875 -3.171875 L 6.578125 -1.78125 L 2.09375 2.296875 Z \"/>\n",
       "</symbol>\n",
       "<symbol overflow=\"visible\" id=\"glyph19-3\">\n",
       "<path style=\"stroke:none;\" d=\"M 5.703125 3.234375 L 6.390625 2.609375 L 5.5625 1.6875 L 9.65625 -2.03125 L 9.125 -2.609375 L 2.578125 -1.875 L 1.75 -1.125 L 4.15625 1.53125 L 2.640625 2.90625 L 3.359375 3.6875 L 4.875 2.3125 Z M 4.84375 0.90625 L 3.046875 -1.0625 L 7.609375 -1.59375 Z \"/>\n",
       "</symbol>\n",
       "</g>\n",
       "<clipPath id=\"clip1\">\n",
       "  <path d=\"M 69 15.839844 L 474.757812 15.839844 L 474.757812 402 L 69 402 Z \"/>\n",
       "</clipPath>\n",
       "</defs>\n",
       "<g id=\"surface92\">\n",
       "<rect x=\"0\" y=\"0\" width=\"504\" height=\"504\" style=\"fill:rgb(100%,100%,100%);fill-opacity:1;stroke:none;\"/>\n",
       "<path style=\"fill:none;stroke-width:3;stroke-linecap:round;stroke-linejoin:round;stroke:rgb(0%,0%,0%);stroke-opacity:1;stroke-miterlimit:10;\" d=\"M 70.238281 310.097656 L 71.984375 310.109375 L 78.941406 310.445312 L 87.578125 311.484375 L 96.082031 313.207031 L 104.390625 315.597656 L 112.4375 318.644531 L 120.164062 322.320312 L 127.507812 326.597656 L 134.417969 331.441406 L 140.839844 336.820312 L 146.726562 342.6875 L 152.027344 349.003906 L 156.710938 355.714844 L 160.730469 362.773438 L 164.066406 370.128906 L 166.683594 377.71875 L 168.570312 385.488281 L 169.707031 393.382812 L 170.070312 399.742188 L 170.085938 401.332031 \"/>\n",
       "<path style=\"fill:none;stroke-width:0.75;stroke-linecap:round;stroke-linejoin:round;stroke:rgb(0%,0%,0%);stroke-opacity:1;stroke-miterlimit:10;\" d=\"M 54.71875 416.160156 L 473.761719 416.160156 L 473.761719 15.839844 L 54.71875 15.839844 L 54.71875 416.160156 \"/>\n",
       "<path style=\"fill-rule:nonzero;fill:rgb(0%,0%,0%);fill-opacity:1;stroke-width:0.75;stroke-linecap:round;stroke-linejoin:round;stroke:rgb(0%,0%,0%);stroke-opacity:1;stroke-miterlimit:10;\" d=\"M 142.359375 333.886719 C 142.359375 340.003906 133.179688 340.003906 133.179688 333.886719 C 133.179688 327.765625 142.359375 327.765625 142.359375 333.886719 \"/>\n",
       "<g clip-path=\"url(#clip1)\" clip-rule=\"nonzero\">\n",
       "<path style=\"fill:none;stroke-width:0.75;stroke-linecap:round;stroke-linejoin:round;stroke:rgb(0%,0%,0%);stroke-opacity:1;stroke-miterlimit:10;\" d=\"M 70.238281 401.332031 L 74.460938 397.476562 L 89.773438 383.484375 L 97.769531 376.175781 L 104.109375 370.382812 L 109.597656 365.367188 L 114.554688 360.839844 L 119.140625 356.648438 L 123.453125 352.707031 L 127.550781 348.960938 L 131.480469 345.371094 L 135.269531 341.910156 L 138.945312 338.550781 L 142.519531 335.285156 L 146.011719 332.09375 L 149.429688 328.972656 L 152.78125 325.910156 L 156.078125 322.894531 L 159.324219 319.929688 L 162.527344 317.003906 L 165.6875 314.117188 L 168.8125 311.261719 L 171.902344 308.4375 L 174.964844 305.640625 L 177.996094 302.867188 L 181.003906 300.121094 L 183.988281 297.394531 L 186.949219 294.6875 L 189.894531 291.996094 L 192.816406 289.324219 L 195.722656 286.667969 L 198.613281 284.027344 L 201.488281 281.402344 L 204.351562 278.785156 L 207.199219 276.183594 L 210.035156 273.59375 L 212.859375 271.011719 L 215.671875 268.441406 L 218.476562 265.878906 L 221.269531 263.328125 L 224.050781 260.785156 L 226.828125 258.246094 L 229.59375 255.71875 L 232.351562 253.199219 L 235.105469 250.683594 L 237.847656 248.175781 L 240.585938 245.675781 L 243.316406 243.179688 L 246.042969 240.6875 L 248.761719 238.203125 L 251.476562 235.726562 L 254.183594 233.25 L 256.886719 230.78125 L 259.585938 228.3125 L 262.277344 225.851562 L 264.96875 223.394531 L 267.652344 220.941406 L 270.332031 218.492188 L 273.007812 216.046875 L 275.683594 213.605469 L 278.351562 211.164062 L 283.679688 206.296875 L 286.339844 203.867188 L 288.996094 201.441406 L 291.648438 199.015625 L 294.296875 196.59375 L 296.945312 194.175781 L 299.589844 191.761719 L 304.871094 186.933594 L 307.507812 184.523438 L 310.140625 182.117188 L 312.773438 179.714844 L 315.402344 177.308594 L 318.03125 174.910156 L 320.65625 172.511719 L 323.277344 170.113281 L 328.519531 165.324219 L 331.136719 162.929688 L 333.753906 160.539062 L 338.980469 155.765625 L 341.589844 153.378906 L 346.808594 148.613281 L 349.414062 146.230469 L 352.019531 143.851562 L 357.222656 139.09375 L 362.425781 134.34375 L 367.621094 129.59375 L 372.808594 124.851562 L 375.402344 122.484375 L 377.996094 120.113281 L 383.175781 115.378906 L 385.765625 113.015625 L 388.351562 110.648438 L 390.941406 108.285156 L 393.527344 105.921875 L 396.109375 103.558594 L 398.695312 101.199219 L 409.023438 91.761719 L 411.601562 89.402344 L 414.183594 87.046875 L 416.761719 84.691406 L 419.335938 82.335938 L 421.914062 79.980469 L 424.492188 77.628906 L 427.066406 75.273438 L 434.789062 68.21875 L 437.359375 65.867188 L 439.933594 63.515625 L 445.074219 58.820312 L 447.644531 56.46875 L 450.214844 54.121094 L 452.78125 51.773438 L 455.351562 49.429688 L 460.484375 44.734375 L 463.054688 42.390625 L 465.617188 40.046875 L 468.183594 37.699219 L 473.316406 33.011719 L 475.878906 30.671875 L 481.003906 25.984375 L 483.570312 23.644531 L 486.132812 21.300781 L 488.691406 18.960938 L 493.816406 14.28125 L 496.375 11.941406 L 498.9375 9.601562 L 501.496094 7.261719 L 504 4.972656 \"/>\n",
       "</g>\n",
       "<path style=\"fill:none;stroke-width:0.75;stroke-linecap:round;stroke-linejoin:round;stroke:rgb(0%,0%,0%);stroke-opacity:1;stroke-miterlimit:10;\" d=\"M 104.449219 368.855469 L 113.628906 359.675781 \"/>\n",
       "<path style=\"fill:none;stroke-width:0.75;stroke-linecap:round;stroke-linejoin:round;stroke:rgb(0%,0%,0%);stroke-opacity:1;stroke-miterlimit:10;\" d=\"M 104.449219 359.675781 L 113.628906 368.855469 \"/>\n",
       "<path style=\"fill:none;stroke-width:0.75;stroke-linecap:round;stroke-linejoin:round;stroke:rgb(0%,0%,0%);stroke-opacity:1;stroke-miterlimit:10;\" d=\"M 104.449219 368.855469 L 113.628906 359.675781 \"/>\n",
       "<path style=\"fill:none;stroke-width:0.75;stroke-linecap:round;stroke-linejoin:round;stroke:rgb(0%,0%,0%);stroke-opacity:1;stroke-miterlimit:10;\" d=\"M 104.449219 359.675781 L 113.628906 368.855469 \"/>\n",
       "<path style=\"fill:none;stroke-width:0.75;stroke-linecap:round;stroke-linejoin:round;stroke:rgb(0%,0%,0%);stroke-opacity:1;stroke-miterlimit:10;\" d=\"M 70.238281 416.160156 L 458.238281 416.160156 \"/>\n",
       "<path style=\"fill:none;stroke-width:0.75;stroke-linecap:round;stroke-linejoin:round;stroke:rgb(0%,0%,0%);stroke-opacity:1;stroke-miterlimit:10;\" d=\"M 70.238281 416.160156 L 70.238281 421.199219 \"/>\n",
       "<path style=\"fill:none;stroke-width:0.75;stroke-linecap:round;stroke-linejoin:round;stroke:rgb(0%,0%,0%);stroke-opacity:1;stroke-miterlimit:10;\" d=\"M 167.238281 416.160156 L 167.238281 421.199219 \"/>\n",
       "<path style=\"fill:none;stroke-width:0.75;stroke-linecap:round;stroke-linejoin:round;stroke:rgb(0%,0%,0%);stroke-opacity:1;stroke-miterlimit:10;\" d=\"M 264.238281 416.160156 L 264.238281 421.199219 \"/>\n",
       "<path style=\"fill:none;stroke-width:0.75;stroke-linecap:round;stroke-linejoin:round;stroke:rgb(0%,0%,0%);stroke-opacity:1;stroke-miterlimit:10;\" d=\"M 361.238281 416.160156 L 361.238281 421.199219 \"/>\n",
       "<path style=\"fill:none;stroke-width:0.75;stroke-linecap:round;stroke-linejoin:round;stroke:rgb(0%,0%,0%);stroke-opacity:1;stroke-miterlimit:10;\" d=\"M 458.238281 416.160156 L 458.238281 421.199219 \"/>\n",
       "<g style=\"fill:rgb(0%,0%,0%);fill-opacity:1;\">\n",
       "  <use xlink:href=\"#glyph0-1\" x=\"65.738281\" y=\"441.985352\"/>\n",
       "</g>\n",
       "<g style=\"fill:rgb(0%,0%,0%);fill-opacity:1;\">\n",
       "  <use xlink:href=\"#glyph0-2\" x=\"162.738281\" y=\"441.985352\"/>\n",
       "</g>\n",
       "<g style=\"fill:rgb(0%,0%,0%);fill-opacity:1;\">\n",
       "  <use xlink:href=\"#glyph0-3\" x=\"255.238281\" y=\"441.985352\"/>\n",
       "  <use xlink:href=\"#glyph0-1\" x=\"263.908203\" y=\"441.985352\"/>\n",
       "</g>\n",
       "<g style=\"fill:rgb(0%,0%,0%);fill-opacity:1;\">\n",
       "  <use xlink:href=\"#glyph0-3\" x=\"352.238281\" y=\"441.985352\"/>\n",
       "  <use xlink:href=\"#glyph0-2\" x=\"360.908203\" y=\"441.985352\"/>\n",
       "</g>\n",
       "<g style=\"fill:rgb(0%,0%,0%);fill-opacity:1;\">\n",
       "  <use xlink:href=\"#glyph0-4\" x=\"449.238281\" y=\"441.985352\"/>\n",
       "  <use xlink:href=\"#glyph0-1\" x=\"457.908203\" y=\"441.985352\"/>\n",
       "</g>\n",
       "<path style=\"fill:none;stroke-width:0.75;stroke-linecap:round;stroke-linejoin:round;stroke:rgb(0%,0%,0%);stroke-opacity:1;stroke-miterlimit:10;\" d=\"M 54.71875 401.332031 L 54.71875 30.667969 \"/>\n",
       "<path style=\"fill:none;stroke-width:0.75;stroke-linecap:round;stroke-linejoin:round;stroke:rgb(0%,0%,0%);stroke-opacity:1;stroke-miterlimit:10;\" d=\"M 54.71875 401.332031 L 49.679688 401.332031 \"/>\n",
       "<path style=\"fill:none;stroke-width:0.75;stroke-linecap:round;stroke-linejoin:round;stroke:rgb(0%,0%,0%);stroke-opacity:1;stroke-miterlimit:10;\" d=\"M 54.71875 308.667969 L 49.679688 308.667969 \"/>\n",
       "<path style=\"fill:none;stroke-width:0.75;stroke-linecap:round;stroke-linejoin:round;stroke:rgb(0%,0%,0%);stroke-opacity:1;stroke-miterlimit:10;\" d=\"M 54.71875 216 L 49.679688 216 \"/>\n",
       "<path style=\"fill:none;stroke-width:0.75;stroke-linecap:round;stroke-linejoin:round;stroke:rgb(0%,0%,0%);stroke-opacity:1;stroke-miterlimit:10;\" d=\"M 54.71875 123.332031 L 49.679688 123.332031 \"/>\n",
       "<path style=\"fill:none;stroke-width:0.75;stroke-linecap:round;stroke-linejoin:round;stroke:rgb(0%,0%,0%);stroke-opacity:1;stroke-miterlimit:10;\" d=\"M 54.71875 30.667969 L 49.679688 30.667969 \"/>\n",
       "<g style=\"fill:rgb(0%,0%,0%);fill-opacity:1;\">\n",
       "  <use xlink:href=\"#glyph1-1\" x=\"205.066406\" y=\"463.807617\"/>\n",
       "</g>\n",
       "<g style=\"fill:rgb(0%,0%,0%);fill-opacity:1;\">\n",
       "  <use xlink:href=\"#glyph2-1\" x=\"216.066406\" y=\"466.228516\"/>\n",
       "</g>\n",
       "<g style=\"fill:rgb(0%,0%,0%);fill-opacity:1;\">\n",
       "  <use xlink:href=\"#glyph3-1\" x=\"226.414062\" y=\"469.083984\"/>\n",
       "</g>\n",
       "<g style=\"fill:rgb(0%,0%,0%);fill-opacity:1;\">\n",
       "  <use xlink:href=\"#glyph4-1\" x=\"232.414062\" y=\"463.125977\"/>\n",
       "  <use xlink:href=\"#glyph4-2\" x=\"237.083984\" y=\"463.125977\"/>\n",
       "</g>\n",
       "<g style=\"fill:rgb(0%,0%,0%);fill-opacity:1;\">\n",
       "  <use xlink:href=\"#glyph1-2\" x=\"243.414062\" y=\"463.807617\"/>\n",
       "</g>\n",
       "<g style=\"fill:rgb(0%,0%,0%);fill-opacity:1;\">\n",
       "  <use xlink:href=\"#glyph4-3\" x=\"253.414062\" y=\"463.125977\"/>\n",
       "  <use xlink:href=\"#glyph4-4\" x=\"267.40625\" y=\"463.125977\"/>\n",
       "  <use xlink:href=\"#glyph4-5\" x=\"276.745117\" y=\"463.125977\"/>\n",
       "  <use xlink:href=\"#glyph4-1\" x=\"280.473633\" y=\"463.125977\"/>\n",
       "  <use xlink:href=\"#glyph4-6\" x=\"285.143555\" y=\"463.125977\"/>\n",
       "  <use xlink:href=\"#glyph4-7\" x=\"293.541992\" y=\"463.125977\"/>\n",
       "</g>\n",
       "<g style=\"fill:rgb(0%,0%,0%);fill-opacity:1;\">\n",
       "  <use xlink:href=\"#glyph5-1\" x=\"303.414062\" y=\"455.165039\"/>\n",
       "</g>\n",
       "<g style=\"fill:rgb(0%,0%,0%);fill-opacity:1;\">\n",
       "  <use xlink:href=\"#glyph6-1\" x=\"310.414062\" y=\"454.788086\"/>\n",
       "</g>\n",
       "<g style=\"fill:rgb(0%,0%,0%);fill-opacity:1;\">\n",
       "  <use xlink:href=\"#glyph4-8\" x=\"317.414062\" y=\"463.125977\"/>\n",
       "</g>\n",
       "<g style=\"fill:rgb(0%,0%,0%);fill-opacity:1;\">\n",
       "  <use xlink:href=\"#glyph7-1\" x=\"18.84668\" y=\"274.675781\"/>\n",
       "</g>\n",
       "<g style=\"fill:rgb(0%,0%,0%);fill-opacity:1;\">\n",
       "  <use xlink:href=\"#glyph8-1\" x=\"21.271484\" y=\"263.675781\"/>\n",
       "</g>\n",
       "<g style=\"fill:rgb(0%,0%,0%);fill-opacity:1;\">\n",
       "  <use xlink:href=\"#glyph9-1\" x=\"24.123047\" y=\"254.324219\"/>\n",
       "</g>\n",
       "<g style=\"fill:rgb(0%,0%,0%);fill-opacity:1;\">\n",
       "  <use xlink:href=\"#glyph10-1\" x=\"18.165039\" y=\"248.324219\"/>\n",
       "  <use xlink:href=\"#glyph10-2\" x=\"18.165039\" y=\"243.654297\"/>\n",
       "</g>\n",
       "<g style=\"fill:rgb(0%,0%,0%);fill-opacity:1;\">\n",
       "  <use xlink:href=\"#glyph7-2\" x=\"18.84668\" y=\"237.324219\"/>\n",
       "</g>\n",
       "<g style=\"fill:rgb(0%,0%,0%);fill-opacity:1;\">\n",
       "  <use xlink:href=\"#glyph10-3\" x=\"18.165039\" y=\"227.324219\"/>\n",
       "  <use xlink:href=\"#glyph10-4\" x=\"18.165039\" y=\"213.332031\"/>\n",
       "  <use xlink:href=\"#glyph10-5\" x=\"18.165039\" y=\"203.993164\"/>\n",
       "  <use xlink:href=\"#glyph10-1\" x=\"18.165039\" y=\"200.264648\"/>\n",
       "  <use xlink:href=\"#glyph10-6\" x=\"18.165039\" y=\"195.594727\"/>\n",
       "  <use xlink:href=\"#glyph10-7\" x=\"18.165039\" y=\"187.196289\"/>\n",
       "</g>\n",
       "<g style=\"fill:rgb(0%,0%,0%);fill-opacity:1;\">\n",
       "  <use xlink:href=\"#glyph11-1\" x=\"10.204102\" y=\"177.324219\"/>\n",
       "</g>\n",
       "<g style=\"fill:rgb(0%,0%,0%);fill-opacity:1;\">\n",
       "  <use xlink:href=\"#glyph12-1\" x=\"9.827148\" y=\"170.324219\"/>\n",
       "</g>\n",
       "<g style=\"fill:rgb(0%,0%,0%);fill-opacity:1;\">\n",
       "  <use xlink:href=\"#glyph10-8\" x=\"18.165039\" y=\"163.324219\"/>\n",
       "</g>\n",
       "<g style=\"fill:rgb(0%,0%,100%);fill-opacity:1;\">\n",
       "  <use xlink:href=\"#glyph13-1\" x=\"57.738281\" y=\"463.142578\"/>\n",
       "  <use xlink:href=\"#glyph13-2\" x=\"64.740234\" y=\"463.142578\"/>\n",
       "  <use xlink:href=\"#glyph13-3\" x=\"68.241211\" y=\"463.142578\"/>\n",
       "  <use xlink:href=\"#glyph13-4\" x=\"75.243164\" y=\"463.142578\"/>\n",
       "</g>\n",
       "<path style=\"fill:none;stroke-width:1.5;stroke-linecap:round;stroke-linejoin:round;stroke:rgb(0%,0%,100%);stroke-opacity:1;stroke-miterlimit:10;\" d=\"M 171.023438 382.800781 L 167.238281 371.078125 L 164.710938 364.265625 L 152.980469 345.734375 L 147.839844 339.996094 L 133.148438 327.199219 L 128.441406 323.960938 L 109.039062 314.476562 L 89.640625 308.996094 L 86.09375 308.667969 L 70.238281 307.347656 \"/>\n",
       "<path style=\"fill:none;stroke-width:1.5;stroke-linecap:round;stroke-linejoin:round;stroke:rgb(0%,0%,100%);stroke-opacity:1;stroke-miterlimit:10;\" d=\"M 171.515625 387.414062 L 171.023438 382.800781 \"/>\n",
       "<g style=\"fill:rgb(0%,0%,100%);fill-opacity:1;\">\n",
       "  <use xlink:href=\"#glyph14-1\" x=\"167.265351\" y=\"387.863496\"/>\n",
       "  <use xlink:href=\"#glyph14-2\" x=\"167.617276\" y=\"391.180818\"/>\n",
       "  <use xlink:href=\"#glyph14-1\" x=\"168.321127\" y=\"397.815463\"/>\n",
       "</g>\n",
       "<path style=\"fill:none;stroke-width:1.5;stroke-linecap:round;stroke-linejoin:round;stroke:rgb(0%,0%,100%);stroke-opacity:1;stroke-miterlimit:10;\" d=\"M 89.640625 228.058594 L 109.039062 230.789062 L 124.84375 234.535156 L 128.441406 235.429688 L 147.839844 242.269531 L 167.238281 251.359375 L 170.21875 253.066406 L 186.640625 263.472656 L 197.304688 271.601562 L 206.039062 279.210938 L 216.894531 290.132812 L 225.441406 300.375 L 231.640625 308.667969 L 242.796875 327.199219 L 244.839844 331.621094 L 250.925781 345.734375 L 256.535156 364.265625 L 259.839844 382.800781 L 260.929688 401.332031 \"/>\n",
       "<path style=\"fill:none;stroke-width:1.5;stroke-linecap:round;stroke-linejoin:round;stroke:rgb(0%,0%,100%);stroke-opacity:1;stroke-miterlimit:10;\" d=\"M 84.226562 227.804688 L 89.640625 228.058594 \"/>\n",
       "<g style=\"fill:rgb(0%,0%,100%);fill-opacity:1;\">\n",
       "  <use xlink:href=\"#glyph15-1\" x=\"70.042902\" y=\"231.42943\"/>\n",
       "  <use xlink:href=\"#glyph15-2\" x=\"73.37523\" y=\"231.584573\"/>\n",
       "  <use xlink:href=\"#glyph15-1\" x=\"80.039886\" y=\"231.894859\"/>\n",
       "</g>\n",
       "<path style=\"fill:none;stroke-width:1.5;stroke-linecap:round;stroke-linejoin:round;stroke:rgb(0%,0%,100%);stroke-opacity:1;stroke-miterlimit:10;\" d=\"M 89.640625 156.078125 L 109.039062 158 L 123.472656 160.398438 L 128.441406 161.246094 L 147.839844 165.894531 L 167.238281 171.984375 L 184.992188 178.933594 L 186.640625 179.609375 L 206.039062 189.078125 L 220.601562 197.464844 L 225.441406 200.457031 L 244.839844 214.203125 L 247.105469 216 L 264.238281 230.9375 L 267.964844 234.535156 L 283.640625 251.496094 L 284.976562 253.066406 L 298.871094 271.601562 L 303.039062 278.113281 L 310.28125 290.132812 L 319.5625 308.667969 L 322.441406 315.773438 L 326.882812 327.199219 L 332.429688 345.734375 L 336.335938 364.265625 L 338.652344 382.800781 L 339.421875 401.332031 \"/>\n",
       "<path style=\"fill:none;stroke-width:1.5;stroke-linecap:round;stroke-linejoin:round;stroke:rgb(0%,0%,100%);stroke-opacity:1;stroke-miterlimit:10;\" d=\"M 84.234375 155.898438 L 89.640625 156.078125 \"/>\n",
       "<g style=\"fill:rgb(0%,0%,100%);fill-opacity:1;\">\n",
       "  <use xlink:href=\"#glyph16-1\" x=\"70.101266\" y=\"159.714216\"/>\n",
       "  <use xlink:href=\"#glyph16-2\" x=\"73.435397\" y=\"159.824012\"/>\n",
       "  <use xlink:href=\"#glyph16-1\" x=\"80.103657\" y=\"160.043603\"/>\n",
       "</g>\n",
       "<path style=\"fill:none;stroke-width:1.5;stroke-linecap:round;stroke-linejoin:round;stroke:rgb(0%,0%,100%);stroke-opacity:1;stroke-miterlimit:10;\" d=\"M 70.238281 86.382812 L 89.640625 86.882812 L 109.039062 88.390625 L 128.441406 90.914062 L 147.839844 94.484375 L 167.238281 99.125 L 186.386719 104.800781 L 186.640625 104.878906 L 206.039062 111.875 \"/>\n",
       "<path style=\"fill:none;stroke-width:1.5;stroke-linecap:round;stroke-linejoin:round;stroke:rgb(0%,0%,100%);stroke-opacity:1;stroke-miterlimit:10;\" d=\"M 225.441406 120.121094 L 232.0625 123.332031 L 244.839844 129.804688 L 264.238281 140.988281 L 265.621094 141.867188 L 283.640625 154.035156 L 292.15625 160.398438 L 303.039062 169.117188 L 314.257812 178.933594 L 322.441406 186.703125 L 332.953125 197.464844 L 341.839844 207.480469 L 348.933594 216 L 361.238281 232.507812 L 362.671875 234.535156 L 374.375 253.066406 L 380.640625 264.5 L 384.378906 271.601562 L 392.777344 290.132812 L 399.746094 308.667969 L 400.039062 309.628906 L 405.308594 327.199219 L 409.578125 345.734375 L 412.601562 364.265625 L 414.402344 382.800781 L 415 401.332031 \"/>\n",
       "<path style=\"fill:none;stroke-width:1.5;stroke-linecap:round;stroke-linejoin:round;stroke:rgb(0%,0%,100%);stroke-opacity:1;stroke-miterlimit:10;\" d=\"M 225.367188 120.089844 L 225.441406 120.121094 \"/>\n",
       "<g style=\"fill:rgb(0%,0%,100%);fill-opacity:1;\">\n",
       "  <use xlink:href=\"#glyph17-1\" x=\"204.366304\" y=\"115.810349\"/>\n",
       "  <use xlink:href=\"#glyph17-2\" x=\"207.436161\" y=\"117.115899\"/>\n",
       "  <use xlink:href=\"#glyph17-3\" x=\"213.575874\" y=\"119.726999\"/>\n",
       "  <use xlink:href=\"#glyph17-1\" x=\"219.715587\" y=\"122.338098\"/>\n",
       "</g>\n",
       "<path style=\"fill:none;stroke-width:1.5;stroke-linecap:round;stroke-linejoin:round;stroke:rgb(0%,0%,100%);stroke-opacity:1;stroke-miterlimit:10;\" d=\"M 458.238281 256.972656 L 456.539062 253.066406 L 447.355469 234.535156 L 438.839844 219.40625 L 436.855469 216 \"/>\n",
       "<path style=\"fill:none;stroke-width:1.5;stroke-linecap:round;stroke-linejoin:round;stroke:rgb(0%,0%,100%);stroke-opacity:1;stroke-miterlimit:10;\" d=\"M 424.851562 197.464844 L 419.441406 189.910156 L 411.226562 178.933594 L 400.039062 165.308594 L 395.796875 160.398438 L 380.640625 144.246094 L 378.269531 141.867188 L 361.238281 125.960938 L 358.230469 123.332031 L 341.839844 109.90625 L 335.101562 104.800781 L 322.441406 95.707031 L 308.089844 86.265625 L 303.039062 83.09375 L 283.640625 71.945312 L 275.535156 67.734375 L 264.238281 62.078125 L 244.839844 53.386719 L 234.277344 49.199219 L 225.441406 45.792969 L 206.039062 39.234375 L 186.640625 33.628906 L 174.414062 30.667969 \"/>\n",
       "<path style=\"fill:none;stroke-width:1.5;stroke-linecap:round;stroke-linejoin:round;stroke:rgb(0%,0%,100%);stroke-opacity:1;stroke-miterlimit:10;\" d=\"M 425.4375 198.375 L 424.851562 197.464844 \"/>\n",
       "<g style=\"fill:rgb(0%,0%,100%);fill-opacity:1;\">\n",
       "  <use xlink:href=\"#glyph18-1\" x=\"421.847532\" y=\"200.698403\"/>\n",
       "  <use xlink:href=\"#glyph18-2\" x=\"423.659671\" y=\"203.49923\"/>\n",
       "  <use xlink:href=\"#glyph18-3\" x=\"427.283948\" y=\"209.100885\"/>\n",
       "  <use xlink:href=\"#glyph18-1\" x=\"430.908225\" y=\"214.702539\"/>\n",
       "</g>\n",
       "<path style=\"fill:none;stroke-width:1.5;stroke-linecap:round;stroke-linejoin:round;stroke:rgb(0%,0%,100%);stroke-opacity:1;stroke-miterlimit:10;\" d=\"M 458.238281 124.1875 L 457.515625 123.332031 \"/>\n",
       "<path style=\"fill:none;stroke-width:1.5;stroke-linecap:round;stroke-linejoin:round;stroke:rgb(0%,0%,100%);stroke-opacity:1;stroke-miterlimit:10;\" d=\"M 440.664062 104.800781 L 438.839844 102.917969 L 421.84375 86.265625 L 419.441406 84.046875 L 400.742188 67.734375 L 400.039062 67.152344 L 380.640625 52.007812 L 376.789062 49.199219 L 361.238281 38.355469 L 349.339844 30.667969 \"/>\n",
       "<path style=\"fill:none;stroke-width:1.5;stroke-linecap:round;stroke-linejoin:round;stroke:rgb(0%,0%,100%);stroke-opacity:1;stroke-miterlimit:10;\" d=\"M 443.386719 107.796875 L 440.664062 104.800781 \"/>\n",
       "<g style=\"fill:rgb(0%,0%,100%);fill-opacity:1;\">\n",
       "  <use xlink:href=\"#glyph19-1\" x=\"440.225096\" y=\"110.669834\"/>\n",
       "  <use xlink:href=\"#glyph19-2\" x=\"442.468267\" y=\"113.138977\"/>\n",
       "  <use xlink:href=\"#glyph19-3\" x=\"446.954607\" y=\"118.077263\"/>\n",
       "  <use xlink:href=\"#glyph19-1\" x=\"451.440948\" y=\"123.015548\"/>\n",
       "</g>\n",
       "<path style=\"fill:none;stroke-width:0.75;stroke-linecap:round;stroke-linejoin:round;stroke:rgb(0%,0%,0%);stroke-opacity:1;stroke-miterlimit:10;\" d=\"M 54.71875 401.332031 L 54.71875 30.667969 \"/>\n",
       "<path style=\"fill:none;stroke-width:0.75;stroke-linecap:round;stroke-linejoin:round;stroke:rgb(0%,0%,0%);stroke-opacity:1;stroke-miterlimit:10;\" d=\"M 54.71875 401.332031 L 49.679688 401.332031 \"/>\n",
       "<path style=\"fill:none;stroke-width:0.75;stroke-linecap:round;stroke-linejoin:round;stroke:rgb(0%,0%,0%);stroke-opacity:1;stroke-miterlimit:10;\" d=\"M 54.71875 308.667969 L 49.679688 308.667969 \"/>\n",
       "<path style=\"fill:none;stroke-width:0.75;stroke-linecap:round;stroke-linejoin:round;stroke:rgb(0%,0%,0%);stroke-opacity:1;stroke-miterlimit:10;\" d=\"M 54.71875 216 L 49.679688 216 \"/>\n",
       "<path style=\"fill:none;stroke-width:0.75;stroke-linecap:round;stroke-linejoin:round;stroke:rgb(0%,0%,0%);stroke-opacity:1;stroke-miterlimit:10;\" d=\"M 54.71875 123.332031 L 49.679688 123.332031 \"/>\n",
       "<path style=\"fill:none;stroke-width:0.75;stroke-linecap:round;stroke-linejoin:round;stroke:rgb(0%,0%,0%);stroke-opacity:1;stroke-miterlimit:10;\" d=\"M 54.71875 30.667969 L 49.679688 30.667969 \"/>\n",
       "<path style=\"fill:none;stroke-width:0.75;stroke-linecap:round;stroke-linejoin:round;stroke:rgb(0%,0%,0%);stroke-opacity:1;stroke-miterlimit:10;\" d=\"M 54.71875 401.332031 L 54.71875 30.667969 \"/>\n",
       "<path style=\"fill:none;stroke-width:0.75;stroke-linecap:round;stroke-linejoin:round;stroke:rgb(0%,0%,0%);stroke-opacity:1;stroke-miterlimit:10;\" d=\"M 54.71875 401.332031 L 49.679688 401.332031 \"/>\n",
       "<path style=\"fill:none;stroke-width:0.75;stroke-linecap:round;stroke-linejoin:round;stroke:rgb(0%,0%,0%);stroke-opacity:1;stroke-miterlimit:10;\" d=\"M 54.71875 308.667969 L 49.679688 308.667969 \"/>\n",
       "<path style=\"fill:none;stroke-width:0.75;stroke-linecap:round;stroke-linejoin:round;stroke:rgb(0%,0%,0%);stroke-opacity:1;stroke-miterlimit:10;\" d=\"M 54.71875 216 L 49.679688 216 \"/>\n",
       "<path style=\"fill:none;stroke-width:0.75;stroke-linecap:round;stroke-linejoin:round;stroke:rgb(0%,0%,0%);stroke-opacity:1;stroke-miterlimit:10;\" d=\"M 54.71875 123.332031 L 49.679688 123.332031 \"/>\n",
       "<path style=\"fill:none;stroke-width:0.75;stroke-linecap:round;stroke-linejoin:round;stroke:rgb(0%,0%,0%);stroke-opacity:1;stroke-miterlimit:10;\" d=\"M 54.71875 30.667969 L 49.679688 30.667969 \"/>\n",
       "<g style=\"fill:rgb(0%,0%,0%);fill-opacity:1;\">\n",
       "  <use xlink:href=\"#glyph4-9\" x=\"36.078125\" y=\"407.118164\"/>\n",
       "</g>\n",
       "<g style=\"fill:rgb(0%,0%,0%);fill-opacity:1;\">\n",
       "  <use xlink:href=\"#glyph4-10\" x=\"36.078125\" y=\"314.454102\"/>\n",
       "</g>\n",
       "<g style=\"fill:rgb(0%,0%,0%);fill-opacity:1;\">\n",
       "  <use xlink:href=\"#glyph4-11\" x=\"27.078125\" y=\"221.786133\"/>\n",
       "  <use xlink:href=\"#glyph4-9\" x=\"36.416992\" y=\"221.786133\"/>\n",
       "</g>\n",
       "<g style=\"fill:rgb(0%,0%,0%);fill-opacity:1;\">\n",
       "  <use xlink:href=\"#glyph4-11\" x=\"27.078125\" y=\"129.118164\"/>\n",
       "  <use xlink:href=\"#glyph4-10\" x=\"36.416992\" y=\"129.118164\"/>\n",
       "</g>\n",
       "<g style=\"fill:rgb(0%,0%,0%);fill-opacity:1;\">\n",
       "  <use xlink:href=\"#glyph4-12\" x=\"27.078125\" y=\"36.454102\"/>\n",
       "  <use xlink:href=\"#glyph4-9\" x=\"36.416992\" y=\"36.454102\"/>\n",
       "</g>\n",
       "<path style=\"fill:none;stroke-width:0.75;stroke-linecap:round;stroke-linejoin:round;stroke:rgb(0%,0%,0%);stroke-opacity:1;stroke-miterlimit:10;\" d=\"M 70.238281 15.839844 L 458.238281 15.839844 \"/>\n",
       "<path style=\"fill:none;stroke-width:0.75;stroke-linecap:round;stroke-linejoin:round;stroke:rgb(0%,0%,0%);stroke-opacity:1;stroke-miterlimit:10;\" d=\"M 70.238281 15.839844 L 70.238281 10.800781 \"/>\n",
       "<path style=\"fill:none;stroke-width:0.75;stroke-linecap:round;stroke-linejoin:round;stroke:rgb(0%,0%,0%);stroke-opacity:1;stroke-miterlimit:10;\" d=\"M 167.238281 15.839844 L 167.238281 10.800781 \"/>\n",
       "<path style=\"fill:none;stroke-width:0.75;stroke-linecap:round;stroke-linejoin:round;stroke:rgb(0%,0%,0%);stroke-opacity:1;stroke-miterlimit:10;\" d=\"M 264.238281 15.839844 L 264.238281 10.800781 \"/>\n",
       "<path style=\"fill:none;stroke-width:0.75;stroke-linecap:round;stroke-linejoin:round;stroke:rgb(0%,0%,0%);stroke-opacity:1;stroke-miterlimit:10;\" d=\"M 361.238281 15.839844 L 361.238281 10.800781 \"/>\n",
       "<path style=\"fill:none;stroke-width:0.75;stroke-linecap:round;stroke-linejoin:round;stroke:rgb(0%,0%,0%);stroke-opacity:1;stroke-miterlimit:10;\" d=\"M 458.238281 15.839844 L 458.238281 10.800781 \"/>\n",
       "<path style=\"fill:none;stroke-width:0.75;stroke-linecap:round;stroke-linejoin:round;stroke:rgb(0%,0%,0%);stroke-opacity:1;stroke-miterlimit:10;\" d=\"M 473.761719 401.332031 L 473.761719 30.667969 \"/>\n",
       "<path style=\"fill:none;stroke-width:0.75;stroke-linecap:round;stroke-linejoin:round;stroke:rgb(0%,0%,0%);stroke-opacity:1;stroke-miterlimit:10;\" d=\"M 473.761719 401.332031 L 477.359375 401.332031 \"/>\n",
       "<path style=\"fill:none;stroke-width:0.75;stroke-linecap:round;stroke-linejoin:round;stroke:rgb(0%,0%,0%);stroke-opacity:1;stroke-miterlimit:10;\" d=\"M 473.761719 308.667969 L 477.359375 308.667969 \"/>\n",
       "<path style=\"fill:none;stroke-width:0.75;stroke-linecap:round;stroke-linejoin:round;stroke:rgb(0%,0%,0%);stroke-opacity:1;stroke-miterlimit:10;\" d=\"M 473.761719 216 L 477.359375 216 \"/>\n",
       "<path style=\"fill:none;stroke-width:0.75;stroke-linecap:round;stroke-linejoin:round;stroke:rgb(0%,0%,0%);stroke-opacity:1;stroke-miterlimit:10;\" d=\"M 473.761719 123.332031 L 477.359375 123.332031 \"/>\n",
       "<path style=\"fill:none;stroke-width:0.75;stroke-linecap:round;stroke-linejoin:round;stroke:rgb(0%,0%,0%);stroke-opacity:1;stroke-miterlimit:10;\" d=\"M 473.761719 30.667969 L 477.359375 30.667969 \"/>\n",
       "</g>\n",
       "</svg>\n"
      ],
      "text/plain": [
       "plot without title"
      ]
     },
     "metadata": {
      "image/svg+xml": {
       "isolated": true
      }
     },
     "output_type": "display_data"
    }
   ],
   "source": [
    "### Start PDF device driver to save output to figure.pdf\n",
    "# Comment out line below & last line of this script to display resulting graph on computer screen\n",
    "# pdf(file=\"halfway_CO3.pdf\",  width=10.0, height=7.0)\n",
    "\n",
    "  options(repr.plot.width=7.0, repr.plot.height=7)\n",
    "\n",
    "\n",
    "    dim(rCO3) <- c(length(DIC_e), length(ALK_e))\n",
    "\n",
    "#   pdf(file=\"Fig_AbsErrContours2_trop_socn.pdf\")\n",
    "    par(mfrow=c(1,1), mar=c(4,3.7,1,1.5)+0.1, oma=c(2,0,0,0.5), mgp=c(2,1,0), font.main=1) \n",
    "\n",
    "    subtitle <- NULL\n",
    "\n",
    "#   At-Ct\n",
    "#   -------------------\n",
    "    xlabel <- expression(paste(sigma[italic(\"C\")[T]],\" (\",mu,\"mol kg\"^{-1},\")\",sep=\"\"))\n",
    "    ylabel <- expression(paste(sigma[italic(\"A\")[T]],\" (\",mu,\"mol kg\"^{-1},\")\",sep=\"\"))\n",
    "\n",
    "    sigcritXa <- sig2_AtCt$CO3  ;  sigcritYa <- sig1_AtCt$CO3  #sig2_ is x axis; sig1_ is y axis\n",
    "    x <- DIC_e*1e+6  ;  y <- ALK_e*1e+6\n",
    "    za <- rCO3  \n",
    "    xlim <- c(0,20)  ; ylim <- xlim\n",
    "    levels1 <- c(1,seq(2,20,by=2))  \n",
    "\n",
    "    plterrcontour (sigcritXa, sigcritYa, xlabel, ylabel, subtitle, xlim, ylim,\n",
    "                   sig1hp_AtCt$CO3, sig2hp_AtCt$CO3,\n",
    "                   zenon(sigm2_AtCt$CO3), zenon(sigm1_AtCt$CO3),\n",
    "                   DIC_e_soa2, ALK_e_soa2,\n",
    "                   x, y, za, levels1,\n",
    "                   'flattest')\n",
    "\n",
    "# Turn off device driver (to flush output to PDF)\n",
    "# dev.off()"
   ]
  },
  {
   "cell_type": "markdown",
   "metadata": {},
   "source": [
    "***Figure:*** Percent relative uncertainty in computed $[\\text{CO}_3^{2-}]$ from the $A_\\text{T}-C_\\text{T}$ input pair as a function of uncertainties in each member of that input pair. Each of those members is indicated by the x- and y-axis labels. Propagated relative error (in percent) is shown for the Southern Ocean (blue solid lines). Sublots without pH as an input member also include the Constants-Pair curve (thick black line), where the total propagated error from the constants is equal to that from the input pair. The balanced-pair line (thin black line) indicates where each member of the input pair contributes equally to total propagated error. "
   ]
  }
 ],
 "metadata": {
  "kernelspec": {
   "display_name": "Python 2",
   "language": "python",
   "name": "python2"
  },
  "language_info": {
   "codemirror_mode": {
    "name": "ipython",
    "version": 2
   },
   "file_extension": ".py",
   "mimetype": "text/x-python",
   "name": "python",
   "nbconvert_exporter": "python",
   "pygments_lexer": "ipython2",
   "version": "2.7.12"
  }
 },
 "nbformat": 4,
 "nbformat_minor": 0
}
