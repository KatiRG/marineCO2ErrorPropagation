{
 "cells": [
  {
   "cell_type": "code",
   "execution_count": 1,
   "metadata": {
    "collapsed": false
   },
   "outputs": [],
   "source": [
    "import rpy2"
   ]
  },
  {
   "cell_type": "code",
   "execution_count": 2,
   "metadata": {
    "collapsed": true
   },
   "outputs": [],
   "source": [
    "# necessary to workaround the error: /u01/anaconda2/lib/libreadline.so.6: undefined symbol: PC\n",
    "# https://www.rittmanmead.com/blog/2016/07/using-r-jupyter-notebooks-big-data-discovery/\n",
    "import readline"
   ]
  },
  {
   "cell_type": "code",
   "execution_count": 3,
   "metadata": {
    "collapsed": false
   },
   "outputs": [],
   "source": [
    "#https://ipython.org/ipython-doc/2/config/extensions/rmagic.html\n",
    "\n",
    "%load_ext rpy2.ipython"
   ]
  },
  {
   "cell_type": "code",
   "execution_count": 11,
   "metadata": {
    "collapsed": false
   },
   "outputs": [
    {
     "data": {
      "text/plain": [
       "NULL\n"
      ]
     },
     "metadata": {},
     "output_type": "display_data"
    }
   ],
   "source": [
    "%%R\n",
    "#install.packages('seacarb')\n",
    "#see: https://r-forge.r-project.org/R/?group_id=325\n",
    "\n",
    "# Already installed, can comment out\n",
    "# install.packages(\"seacarb\", repos=\"http://R-Forge.R-project.org\") \n"
   ]
  },
  {
   "cell_type": "code",
   "execution_count": 12,
   "metadata": {
    "collapsed": false
   },
   "outputs": [
    {
     "data": {
      "text/plain": [
       "NULL\n"
      ]
     },
     "metadata": {},
     "output_type": "display_data"
    }
   ],
   "source": [
    "%%R \n",
    "#https://r-forge.r-project.org/R/?group_id=395\n",
    "\n",
    "# Already installed, can comment out\n",
    "# install.packages(\"numDeriv\", repos=\"http://R-Forge.R-project.org\")"
   ]
  },
  {
   "cell_type": "code",
   "execution_count": 10,
   "metadata": {
    "collapsed": false
   },
   "outputs": [
    {
     "name": "stdout",
     "output_type": "stream",
     "text": [
      "\n",
      "Error in library(Hmisc) : aucun package nommé ‘Hmisc’ n'est trouvé\n"
     ]
    },
    {
     "name": "stderr",
     "output_type": "stream",
     "text": [
      "/homel/cnangini/anaconda/lib/python2.7/site-packages/rpy2/rinterface/__init__.py:186: RRuntimeWarning: package ‘Hmisc’ is not available (for R version 3.3.0) \n",
      "\n",
      "  warnings.warn(x, RRuntimeWarning)\n"
     ]
    }
   ],
   "source": [
    "%%R\n",
    "library(seacarb)\n",
    "library(Hmisc)   #for minor ticks in plot"
   ]
  },
  {
   "cell_type": "code",
   "execution_count": 19,
   "metadata": {
    "collapsed": false
   },
   "outputs": [],
   "source": [
    "%%R\n",
    "#branch buffesm1 of seacarb-git\n",
    "source(\"/homel/cnangini/PROJECTS/seacarb-git/R/errhalf.R\")\n",
    "source(\"/homel/cnangini/PROJECTS/seacarb-git/R/errmid.R\")\n",
    "source(\"/homel/cnangini/PROJECTS/seacarb-git/R/errors.R\")\n",
    "source(\"/homel/cnangini/PROJECTS/seacarb-git/R/derivnum.R\")"
   ]
  },
  {
   "cell_type": "code",
   "execution_count": 4,
   "metadata": {
    "collapsed": false
   },
   "outputs": [
    {
     "name": "stdout",
     "output_type": "stream",
     "text": [
      "\n",
      "Error in file(filename, \"r\", encoding = encoding) : \n",
      "  impossible d'ouvrir la connexion\n"
     ]
    },
    {
     "name": "stderr",
     "output_type": "stream",
     "text": [
      "/homel/cnangini/anaconda/lib/python2.7/site-packages/rpy2/rinterface/__init__.py:186: RRuntimeWarning: Error in file(filename, \"r\", encoding = encoding) : \n",
      "  impossible d'ouvrir la connexion\n",
      "\n",
      "  warnings.warn(x, RRuntimeWarning)\n",
      "/homel/cnangini/anaconda/lib/python2.7/site-packages/rpy2/rinterface/__init__.py:186: RRuntimeWarning: De plus : \n",
      "  warnings.warn(x, RRuntimeWarning)\n",
      "/homel/cnangini/anaconda/lib/python2.7/site-packages/rpy2/rinterface/__init__.py:186: RRuntimeWarning: Warning message:\n",
      "\n",
      "  warnings.warn(x, RRuntimeWarning)\n",
      "/homel/cnangini/anaconda/lib/python2.7/site-packages/rpy2/rinterface/__init__.py:186: RRuntimeWarning: In file(filename, \"r\", encoding = encoding) :\n",
      "  warnings.warn(x, RRuntimeWarning)\n",
      "/homel/cnangini/anaconda/lib/python2.7/site-packages/rpy2/rinterface/__init__.py:186: RRuntimeWarning: \n",
      " \n",
      "  warnings.warn(x, RRuntimeWarning)\n",
      "/homel/cnangini/anaconda/lib/python2.7/site-packages/rpy2/rinterface/__init__.py:186: RRuntimeWarning:  impossible d'ouvrir le fichier 'carb_numDeriv.R' : Aucun fichier ou dossier de ce type\n",
      "\n",
      "  warnings.warn(x, RRuntimeWarning)\n"
     ]
    }
   ],
   "source": [
    "%%R\n",
    "source(\"carb_numDeriv.R\")\n",
    "\n",
    "# Wrapper functions  to pass carb results to 'numDeriv' routines that compute derivatives (jacobian & hessian)\n",
    "\n",
    "# Following routine name \"f\" can be passed directly to 'jacobian'\n",
    "# Get 4 variables: pCO2, H, CO3, OmegaA\n",
    "  f <- function(z) {\n",
    "          At   = z[1] * 1e-6\n",
    "          Ct   = z[2] * 1e-6\n",
    "          salt = z[3]\n",
    "          temp = z[4]\n",
    "          Pt   = z[5] * 1e-6\n",
    "          Sit  = z[6] * 1e-6\n",
    "\n",
    "          # The z's for the K's are used in a strange way, only to get dy/dK's with numDeriv's routine \"jacobian\"\n",
    "          K0   = z[7]\n",
    "          K1   = z[8]\n",
    "          K2   = z[9]\n",
    "          Kb   = z[10]\n",
    "          Kw   = z[11]\n",
    "          Ka   = z[12]\n",
    "          Kc   = z[13]\n",
    "          Ksi  = z[14]\n",
    "          K1p  = z[15]\n",
    "          K2p  = z[16]\n",
    "          K3p  = z[17]\n",
    "          # The last 2 z's are used in modified carb routine to switch to carb's internal computed K's when salt!=Sin or temp!=Tin\n",
    "          # (as seems necessary for the way 'jacobian' computes first derivatives: to be verified by trials)\n",
    "          Sin  = z[18]\n",
    "          Tin  = z[19]\n",
    "          #print(z)\n",
    "          #cat(\"At, Ct, salt, temp, Pt, Sit:\",At, Ct, salt, temp, Pt, Sit,\"\\n\")\n",
    "          #cat(\"K0, K1, K2, Kb, Kw, Ka, Kc, Ksi, K1p, K2p, K3p, Sin:\", K0, K1, K2, Kb, Kw, Ka, Kc, Ksi, K1p, K2p, K3p, Sin, \"\\n\")\n",
    "          #c <- carb        (flag=15, var1=At, var2=Ct, S=salt, T=temp, P=0, Pt=Pt, Sit=Sit, k1k2=\"l\", kf=\"dg\", ks=\"d\", pHscale=\"T\")\n",
    "          c <- carb_numDeriv(flag=15, var1=At, var2=Ct, S=salt, T=temp, P=0, Pt=Pt, Sit=Sit, k1k2=\"l\", kf=\"dg\", ks=\"d\", pHscale=\"T\", b=\"l10\",\n",
    "                             K0, K1, K2, Kb, Kw, Ka, Kc, Ksi, K1p, K2p, K3p, Sin, Tin)\n",
    "\n",
    "          H      <- 10^(-c$pH) * 1e+9 # Hydrogen ion concentration (nmol/kg)\n",
    "          CO3    <- c$CO3      * 1e+6 # Carbonate ion concentration (umol/kg)\n",
    "          pCO2   <- c$pCO2\n",
    "          OmegaA <- c$OmegaAragonite\n",
    "          output = cbind(pCO2, H, CO3, OmegaA)\n",
    "          return(output)\n",
    "          }\n",
    "\n",
    "# Unlike the numDeriv's 'jacobian' function, its 'hessian' function must compute that more complicated array for 1 variable at a time.\n",
    "# -> So , define arrays below to do that (will pass each array name as argument to 'hessian')\n",
    "\n",
    "# Routines for 'hessian':\n",
    "# Function to get only H variable from f\n",
    "  fH    <- function(z) {\n",
    "           g <- f(z)\n",
    "           g <- data.frame(g)\n",
    "           return(g$H)\n",
    "           }\n",
    "# Function to get only CO3 variable from f\n",
    "  fCO3  <- function(z) {\n",
    "           g <- f(z)\n",
    "           g <- data.frame(g)\n",
    "           return(g$CO3)\n",
    "           }\n",
    "# Function to get only pCO2 variable from f\n",
    "  fpCO2 <- function(z) {\n",
    "           g <- f(z)\n",
    "           g <- data.frame(g)\n",
    "           return(g$pCO2)\n",
    "           }\n",
    "# Function to get only OmegaAragonite variable from f\n",
    "  fOmegaA  <- function(z) {\n",
    "           g <- f(z)\n",
    "           g <- data.frame(g)\n",
    "           return(g$OmegaA)\n",
    "           }"
   ]
  },
  {
   "cell_type": "code",
   "execution_count": 17,
   "metadata": {
    "collapsed": false
   },
   "outputs": [
    {
     "name": "stdout",
     "output_type": "stream",
     "text": [
      "\n",
      "Error in withVisible({ : impossible de trouver la fonction \"K0\"\n"
     ]
    },
    {
     "name": "stderr",
     "output_type": "stream",
     "text": [
      "/homel/cnangini/anaconda/lib/python2.7/site-packages/rpy2/rinterface/__init__.py:186: RRuntimeWarning: Error in withVisible({ : impossible de trouver la fonction \"K0\"\n",
      "\n",
      "  warnings.warn(x, RRuntimeWarning)\n"
     ]
    }
   ],
   "source": [
    "%%R\n",
    "# Input data (year 1850, year 2100) - taken by eye from plots from Briac for MED8 simulations\n",
    "\n",
    "# Provide 2 years of data\n",
    "  years <- c(1850, 2100)\n",
    "\n",
    "# 1) Surface Mean for Med Sea Basin (2x4 array)\n",
    "  At   <- c(2685, 2675)\n",
    "  Ct   <- c(2300, 2500)\n",
    "  Salt <- c(38.1, 38.7)\n",
    "  Temp <- c(18.5, 22.0)\n",
    "  Pt   <- c(2,2)            # umol/kg (high value found in Southern Ocean)\n",
    "  Sit  <- c(50, 50)         # umol/kg (high value found in Southern Ocean)\n",
    "\n",
    "  K0   <- K0(S=Salt,   T=Temp) \n",
    "  K1   <- K1(S=Salt,   T=Temp, k1k2='l',pHscale='T')\n",
    "  K2   <- K2(S=Salt,   T=Temp, k1k2='l',pHscale='T')\n",
    "  Kb   <- Kb(S=Salt,   T=Temp, pHscale='T')\n",
    "  Kw   <- Kw(S=Salt,   T=Temp, pHscale='T')\n",
    "  Ka   <- Kspa(S=Salt, T=Temp)\n",
    "  Kc   <- Kspc(S=Salt, T=Temp)\n",
    "  Ksi  <- Ksi(S=Salt,  T=Temp, pHscale=\"T\")\n",
    "  K1p  <- K1p(S=Salt,  T=Temp, pHscale='T')\n",
    "  K2p  <- K2p(S=Salt,  T=Temp, pHscale='T')\n",
    "  K3p  <- K3p(S=Salt,  T=Temp, pHscale='T')\n",
    "\n",
    "  Sin <- Salt\n",
    "  Tin <- Temp\n",
    "\n",
    "  z <- cbind(At, Ct, Salt, Temp, Pt, Sit, K0, K1, K2, Kb, Kw, Ka, Kc, Ksi, K1p, K2p, K3p, Sin, Tin)\n",
    "\n",
    "  invars     <- c( At,   Ct, Salt, Temp, Pt,   Sit,   K0,   K1,   K2,   Kb,   Kw,   Ka,   Kc,   Ksi,   K1p,   K2p,   K3p,   Sin,   Tin)\n",
    "  invarnames <- c('At', 'Ct', 'S', 'T', 'Pt', 'Sit', 'K0', 'K1', 'K2', 'Kb', 'Kw', 'Ka', 'Kc', 'Ksi', 'K1p', 'K2p', 'K3p', 'Sin', 'Tin')\n",
    "  outvarnames <- c('pCO2', 'H', 'CO3', 'OmegaA') \n",
    "\n",
    "# 2) Surface Amplitude of Annual Cycle (August - Feb, because that is when amplitude for H+ is largest)\n",
    "#    upper case \"D\" indicates Delta (Aug - Feb)\n",
    "# Not needed for error propoagation:\n",
    "  DAt <- c(15, 23)\n",
    "  DCt <- c(-5, -9)\n",
    "  DSalt <- c(0.1, 0.25) \n",
    "  DTemp <- c(11, 12)\n",
    "  Del <- cbind(DAt, DCt, DSalt, DTemp)\n",
    "  print(dim(Del))\n",
    "\n",
    "  Del <- matrix(Del, nrow=2, ncol=4, dimnames=list(c('1850','2100'), invarnames[1:4]))\n",
    "# print(Del)\n",
    "\n",
    "# SENSITIVITY test: useful to see if Del is too large: \n",
    "# If the smaller Del dramatically reduces 2nd order terms, then Del was too large to truncate before 2nd order; \n",
    "# if 2nd order terms are significant, then Del is too large to truncate just after first order.\n",
    "# Del <- Del * 0.1 #Test to see if relative proportions change significantly (e.g., Dtemp is quite large)\n",
    "# print(Del)"
   ]
  },
  {
   "cell_type": "code",
   "execution_count": null,
   "metadata": {
    "collapsed": true
   },
   "outputs": [],
   "source": []
  }
 ],
 "metadata": {
  "kernelspec": {
   "display_name": "Python 2",
   "language": "python",
   "name": "python2"
  },
  "language_info": {
   "codemirror_mode": {
    "name": "ipython",
    "version": 2
   },
   "file_extension": ".py",
   "mimetype": "text/x-python",
   "name": "python",
   "nbconvert_exporter": "python",
   "pygments_lexer": "ipython2",
   "version": "2.7.12"
  }
 },
 "nbformat": 4,
 "nbformat_minor": 0
}
